{
  "cells": [
    {
      "cell_type": "markdown",
      "metadata": {
        "id": "view-in-github",
        "colab_type": "text"
      },
      "source": [
        "<a href=\"https://colab.research.google.com/github/zahra-sharifzadeh/thesis_demo/blob/main/Ravdess/spa_ca_Att_w2v/demo_k10_kfold_att_w2v_SpatialAttention_and_channel_attention_dropout_mfc_coefficients_two_CNNAE_Parallel_Ravdess.ipynb\" target=\"_parent\"><img src=\"https://colab.research.google.com/assets/colab-badge.svg\" alt=\"Open In Colab\"/></a>"
      ]
    },
    {
      "cell_type": "markdown",
      "metadata": {
        "id": "ExkoPoNs60Cu"
      },
      "source": [
        "#### Setup"
      ]
    },
    {
      "cell_type": "code",
      "execution_count": null,
      "metadata": {
        "id": "ZcoBEft660Cv"
      },
      "outputs": [],
      "source": [
        "import torch\n",
        "import torch.nn as nn\n",
        "import matplotlib.pyplot as plt\n",
        "import numpy as np\n",
        "import pandas as pd\n",
        "import os, glob\n",
        "import librosa\n",
        "import librosa.display\n",
        "import torch.nn.functional as F\n",
        "\n",
        "import IPython\n",
        "from IPython.display import Audio\n",
        "\n",
        "from IPython.display import Image\n",
        "import warnings; warnings.filterwarnings('ignore') #matplot lib complains about librosa"
      ]
    },
    {
      "cell_type": "code",
      "execution_count": null,
      "metadata": {
        "id": "PpsDKlWozqZn"
      },
      "outputs": [],
      "source": [
        "try:\n",
        "  from transformers import Wav2Vec2Model, Wav2Vec2Processor\n",
        "except:\n",
        "  !pip install transformers\n",
        "  from transformers import Wav2Vec2Model, Wav2Vec2Processor\n"
      ]
    },
    {
      "cell_type": "code",
      "execution_count": null,
      "metadata": {
        "colab": {
          "base_uri": "https://localhost:8080/"
        },
        "id": "wXgX4hsZ60C1",
        "outputId": "554a9006-587f-477b-b614-33ffb1177561"
      },
      "outputs": [
        {
          "output_type": "stream",
          "name": "stdout",
          "text": [
            "Mounted at /content/gdrive\n"
          ]
        }
      ],
      "source": [
        "# needed to import dataset from google drive into colab\n",
        "from google.colab import drive\n",
        "drive.mount(\"/content/gdrive\")"
      ]
    },
    {
      "cell_type": "code",
      "execution_count": null,
      "metadata": {
        "id": "T8GiBMh2CJCR"
      },
      "outputs": [],
      "source": [
        "# copy RAVDESS dataset from gdrive and unzip\n",
        "!cp '/content/gdrive/MyDrive/RAVDESS.zip' .\n",
        "!unzip -q RAVDESS.zip"
      ]
    },
    {
      "cell_type": "markdown",
      "metadata": {
        "id": "ADgTrt0X60C3"
      },
      "source": [
        "## Define features\n",
        "\n",
        "Define features as in the previous notebook on this task from my ['sklearn-audio-classification' repo](https://github.com/IliaZenkov/sklearn-audio-classification). That notebook explains the motivation behind the Mel Spectrogram and its derivative MFCC, which we use as a feature. In short, we're looking for transitions in audible pitch frequencies.\n",
        "\n",
        "**MFCCs alone provide the best accuracy in this model with training considerations in mind - and provide as good an accuracy as using chromagrams + mel spectrograms + MFCCs. We don't want extra complexity in a highly parameterized deep neural net such as this one** (unless we absolutely need it).\n",
        "\n"
      ]
    },
    {
      "cell_type": "code",
      "execution_count": null,
      "metadata": {
        "id": "OBZMdi7l60C4"
      },
      "outputs": [],
      "source": [
        "# RAVDESS native sample rate is 16000\n",
        "sample_rate = 16000\n",
        "\n",
        "# Mel Spectrograms are not directly used as a feature in this model\n",
        "# Mel Spectrograms are used in calculating MFCCs, which are a higher-level representation of pitch transition\n",
        "# MFCCs work better - left the mel spectrogram function here in case anyone wants to experiment\n",
        "def feature_melspectrogram(\n",
        "    waveform,\n",
        "    sample_rate,\n",
        "    fft = 1024,\n",
        "    winlen = 512,\n",
        "    window='hamming',\n",
        "    hop=256,\n",
        "    mels=128,\n",
        "    ):\n",
        "\n",
        "    # Produce the mel spectrogram for all STFT frames and get the mean of each column of the resulting matrix to create a feature array\n",
        "    # Using 8khz as upper frequency bound should be enough for most speech classification tasks\n",
        "    melspectrogram = librosa.feature.melspectrogram(\n",
        "        y=waveform,\n",
        "        sr=sample_rate,\n",
        "        n_fft=fft,\n",
        "        win_length=winlen,\n",
        "        window=window,\n",
        "        hop_length=hop,\n",
        "        n_mels=mels,\n",
        "        fmax=sample_rate/2)\n",
        "\n",
        "    # convert from power (amplitude**2) to decibels\n",
        "    # necessary for network to learn - doesn't converge with raw power spectrograms\n",
        "    melspectrogram = librosa.power_to_db(melspectrogram, ref=np.max)\n",
        "\n",
        "    return melspectrogram\n",
        "\n",
        "def feature_mfcc(\n",
        "    waveform,\n",
        "    sample_rate,\n",
        "    n_mfcc = 40,\n",
        "    fft = 1024,\n",
        "    winlen = 512,\n",
        "    window='hamming',\n",
        "    #hop=256, # increases # of time steps; was not helpful\n",
        "    mels=128\n",
        "    ):\n",
        "\n",
        "    # Compute the MFCCs for all STFT frames\n",
        "    # 40 mel filterbanks (n_mfcc) = 40 coefficients\n",
        "    mfc_coefficients=librosa.feature.mfcc(\n",
        "        y=waveform,\n",
        "        sr=sample_rate,\n",
        "        n_mfcc=n_mfcc,\n",
        "        n_fft=fft,\n",
        "        win_length=winlen,\n",
        "        window=window,\n",
        "        #hop_length=hop,\n",
        "        n_mels=mels,\n",
        "        fmax=sample_rate/2\n",
        "        )\n",
        "\n",
        "    return mfc_coefficients\n",
        "\n",
        "def get_features(waveforms, features, samplerate):\n",
        "\n",
        "    # initialize counter to track progress\n",
        "    file_count = 0\n",
        "\n",
        "    # process each waveform individually to get its MFCCs\n",
        "    for waveform in waveforms:\n",
        "        mfccs = feature_mfcc(waveform, sample_rate)\n",
        "        features.append(mfccs)\n",
        "        file_count += 1\n",
        "        # print progress\n",
        "        print('\\r'+f' Processed {file_count}/{len(waveforms)} waveforms',end='')\n",
        "\n",
        "    # return all features from list of waveforms\n",
        "    return features\n",
        "\n",
        "def get_waveforms(file):\n",
        "\n",
        "    # load an individual sample audio file\n",
        "    # read the full 3 seconds of the file, cut off the first 0.5s of silence; native sample rate = 48k\n",
        "    # don't need to store the sample rate that librosa.load returns\n",
        "    waveform, _ = librosa.load(file, duration=3, offset=0.5, sr=sample_rate)\n",
        "\n",
        "    # make sure waveform vectors are homogenous by defining explicitly\n",
        "    waveform_homo = np.zeros((int(sample_rate*3,)))\n",
        "    waveform_homo[:len(waveform)] = waveform\n",
        "\n",
        "    # return a single file's waveform\n",
        "    return waveform_homo\n",
        "\n",
        "# RAVDESS dataset emotions\n",
        "# shift emotions left to be 0 indexed for PyTorch\n",
        "emotions_dict ={\n",
        "    '0':'surprised',\n",
        "    '1':'neutral',\n",
        "    '2':'calm',\n",
        "    '3':'happy',\n",
        "    '4':'sad',\n",
        "    '5':'angry',\n",
        "    '6':'fearful',\n",
        "    '7':'disgust'\n",
        "}\n",
        "\n",
        "# Additional attributes from RAVDESS to play with\n",
        "emotion_attributes = {\n",
        "    '01': 'normal',\n",
        "    '02': 'strong'\n",
        "}"
      ]
    },
    {
      "cell_type": "markdown",
      "metadata": {
        "id": "VoHM-Dh860C6"
      },
      "source": [
        "## Load Data and Extract Features\n",
        "\n",
        "\n",
        "We process each file in the dataset and extract its features.\n",
        "\n",
        "We return the waveforms and the labels (from the file names of the RAVDESS audio samples). We return the raw waveforms because we're going to do some extra processing.\n"
      ]
    },
    {
      "cell_type": "code",
      "execution_count": null,
      "metadata": {
        "id": "XasJEOjN60C7"
      },
      "outputs": [],
      "source": [
        "# path to data for glob\n",
        "data_path = '/content/Actor_*/*.wav'\n",
        "\n",
        "def load_data():\n",
        "    # features and labels\n",
        "    emotions = []\n",
        "    # raw waveforms to augment later\n",
        "    waveforms = []\n",
        "    # extra labels\n",
        "    intensities, genders = [],[]\n",
        "    # progress counter\n",
        "    file_count = 0\n",
        "    for file in glob.glob(data_path):\n",
        "        # get file name with labels\n",
        "        file_name = os.path.basename(file)\n",
        "\n",
        "        # get emotion label from the sample's file\n",
        "        emotion = int(file_name.split(\"-\")[2])\n",
        "\n",
        "        #  move surprise to 0 for cleaner behaviour with PyTorch/0-indexing\n",
        "        if emotion == 8: emotion = 0 # surprise is now at 0 index; other emotion indeces unchanged\n",
        "\n",
        "        # can convert emotion label to emotion string if desired, but\n",
        "        # training on number is better; better convert to emotion string after predictions are ready\n",
        "        # emotion = emotions_dict[str(emotion)]\n",
        "\n",
        "        # get other labels we might want\n",
        "        intensity = emotion_attributes[file_name.split(\"-\")[3]]\n",
        "        # even actors are female, odd are male\n",
        "        if (int((file_name.split(\"-\")[6]).split(\".\")[0]))%2==0:\n",
        "            gender = 'female'\n",
        "        else:\n",
        "            gender = 'male'\n",
        "\n",
        "        # get waveform from the sample\n",
        "        waveform = get_waveforms(file)\n",
        "\n",
        "        # store waveforms and labels\n",
        "        waveforms.append(waveform)\n",
        "        emotions.append(emotion)\n",
        "        intensities.append(intensity) # store intensity in case we wish to predict\n",
        "        genders.append(gender) # store gender in case we wish to predict\n",
        "\n",
        "        file_count += 1\n",
        "        # keep track of data loader's progress\n",
        "        print('\\r'+f' Processed {file_count}/{1440} audio samples',end='')\n",
        "\n",
        "    return waveforms, emotions, intensities, genders"
      ]
    },
    {
      "cell_type": "code",
      "execution_count": null,
      "metadata": {
        "colab": {
          "base_uri": "https://localhost:8080/"
        },
        "id": "37LrPb2i60C9",
        "outputId": "dc6afd39-85d9-4aa2-c5a5-09c87e165213"
      },
      "outputs": [
        {
          "output_type": "stream",
          "name": "stdout",
          "text": [
            " Processed 1440/1440 audio samples"
          ]
        }
      ],
      "source": [
        "# load data\n",
        "# init explicitly to prevent data leakage from past sessions, since load_data() appends\n",
        "waveforms, emotions, intensities, genders = [],[],[],[]\n",
        "waveforms, emotions, intensities, genders = load_data()"
      ]
    },
    {
      "cell_type": "markdown",
      "metadata": {
        "id": "PLBp0B-n60DB"
      },
      "source": [
        "## Check extracted audio waveforms and labels:\n"
      ]
    },
    {
      "cell_type": "code",
      "execution_count": null,
      "metadata": {
        "colab": {
          "base_uri": "https://localhost:8080/"
        },
        "id": "pjjUpfNm60DC",
        "outputId": "13b5d2e8-f6e9-4ac5-e40e-66dbfe44bfd3"
      },
      "outputs": [
        {
          "output_type": "stream",
          "name": "stdout",
          "text": [
            "Waveforms set: 1440 samples\n",
            "Waveform signal length: 48000\n",
            "Emotions set: 1440 sample labels\n"
          ]
        }
      ],
      "source": [
        "print(f'Waveforms set: {len(waveforms)} samples')\n",
        "# we have 1440 waveforms but we need to know their length too; should be 3 sec * 48k = 144k\n",
        "print(f'Waveform signal length: {len(waveforms[0])}')\n",
        "print(f'Emotions set: {len(emotions)} sample labels')"
      ]
    },
    {
      "cell_type": "markdown",
      "metadata": {
        "id": "Zkfe5cWQGa-P"
      },
      "source": [
        "Looks good. 1440 samples and 1440 labels in total.\n",
        "\n",
        "**Waveforms are 144k long because 3 seconds * 48k sample rate = 144k length array representing the 3 second audio snippet.**"
      ]
    },
    {
      "cell_type": "markdown",
      "metadata": {
        "id": "UDnnCn8HEOQq"
      },
      "source": [
        "## Split into Train/Validation/Test Sets\n",
        "We'll use an 80/10/10 train/validation/test split to maximize training data and keep a reasonable validation/test set.\n",
        "\n",
        "**We're splitting waveforms so we can process train/validation/test waveforms separately and avoid data leakage.**\n",
        "\n",
        "**Have to take care to split the sets proportionally w.r.t. emotion.**\n",
        "\n",
        "**Yes, we can use sklearn - but to convince myself I've eradicated data leakage issues I did this manually.**"
      ]
    },
    {
      "cell_type": "code",
      "source": [
        "# from sklearn.model_selection import train_test_split\n",
        "# waveforms = np.array(waveforms)\n",
        "# # Your data and labels\n",
        "# data = waveforms  # Replace with your data\n",
        "# labels = np.array(emotions) # Replace with your labels\n",
        "\n",
        "# # Split the data into training, testing, and validation sets\n",
        "# test_size = 0.1  # You can adjust the ratio for the test set\n",
        "# valid_size = 0.1  # You can adjust the ratio for the validation set\n",
        "\n",
        "# # First, split into training and the remaining data\n",
        "# remaining_data, X_test, remaining_labels, y_test = train_test_split(\n",
        "#     data, labels, test_size=test_size, random_state=42)\n",
        "\n",
        "# # Then, split the remaining data into validation and test sets\n",
        "# X_train, X_valid, y_train, y_valid = train_test_split(\n",
        "#     remaining_data, remaining_labels, test_size=valid_size, random_state=42)\n",
        "\n",
        "# # Now, you have train_data, test_data, and valid_data, along with their corresponding labels.\n",
        "# # Adjust the test_size and valid_size values as needed.\n",
        "# # check shape of each set\n",
        "# print(f'Training waveforms:{X_train.shape}, y_train:{y_train.shape}')\n",
        "# print(f'Validation waveforms:{X_valid.shape}, y_valid:{y_valid.shape}')\n",
        "# print(f'Test waveforms:{X_test.shape}, y_test:{y_test.shape}')"
      ],
      "metadata": {
        "id": "vdxZCsfEjNmL"
      },
      "execution_count": null,
      "outputs": []
    },
    {
      "cell_type": "code",
      "execution_count": null,
      "metadata": {
        "colab": {
          "base_uri": "https://localhost:8080/"
        },
        "id": "ofaAetu48YEg",
        "outputId": "2752d655-afac-43fd-8ad7-4a47642216d2"
      },
      "outputs": [
        {
          "output_type": "stream",
          "name": "stdout",
          "text": [
            "Training waveforms:(1290, 48000), y_train:(1290,)\n",
            "Test waveforms:(143, 48000), y_test:(143,)\n"
          ]
        }
      ],
      "source": [
        "# create storage for train, validation, test sets and their indices\n",
        "train_set,valid_set,test_set = [],[],[]\n",
        "X_train,X_valid,X_test = [],[],[]\n",
        "y_train,y_valid,y_test = [],[],[]\n",
        "\n",
        "# convert waveforms to array for processing\n",
        "waveforms = np.array(waveforms)\n",
        "\n",
        "# process each emotion separately to make sure we builf balanced train/valid/test sets\n",
        "for emotion_num in range(len(emotions_dict)):\n",
        "\n",
        "    # find all indices of a single unique emotion\n",
        "    emotion_indices = [index for index, emotion in enumerate(emotions) if emotion==emotion_num]\n",
        "\n",
        "    # seed for reproducibility\n",
        "    np.random.seed(69)\n",
        "    # shuffle indicies\n",
        "    # emotion_indices = np.random.permutation(emotion_indices)\n",
        "\n",
        "    # store dim (length) of the emotion list to make indices\n",
        "    dim = len(emotion_indices)\n",
        "\n",
        "    # store indices of training, validation and test sets in 80/10/10 proportion\n",
        "    # train set is first 80%\n",
        "    train_indices = emotion_indices[:int(0.9*dim)]\n",
        "    # validation set is next 10% (between 80% and 90%)\n",
        "    # valid_indices = emotion_indices[int(0.8*dim):int(0.9*dim)]\n",
        "    # test set is last 10% (between 90% - end/100%)\n",
        "    test_indices = emotion_indices[int(0.9*dim):]\n",
        "\n",
        "    # create train waveforms/labels sets\n",
        "    X_train.append(waveforms[train_indices,:])\n",
        "    y_train.append(np.array([emotion_num]*len(train_indices),dtype=np.int32))\n",
        "    # create validation waveforms/labels sets\n",
        "    # X_valid.append(waveforms[valid_indices,:])\n",
        "    # y_valid.append(np.array([emotion_num]*len(valid_indices),dtype=np.int32))\n",
        "    # create test waveforms/labels sets\n",
        "    X_test.append(waveforms[test_indices,:])\n",
        "    y_test.append(np.array([emotion_num]*len(test_indices),dtype=np.int32))\n",
        "\n",
        "    # store indices for each emotion set to verify uniqueness between sets\n",
        "    train_set.append(train_indices)\n",
        "    # valid_set.append(valid_indices)\n",
        "    test_set.append(test_indices)\n",
        "\n",
        "# concatenate, in order, all waveforms back into one array\n",
        "X_train = np.concatenate(X_train,axis=0)\n",
        "# X_valid = np.concatenate(X_valid,axis=0)\n",
        "X_test = np.concatenate(X_test,axis=0)\n",
        "\n",
        "# concatenate, in order, all emotions back into one array\n",
        "y_train = np.concatenate(y_train,axis=0)\n",
        "# y_valid = np.concatenate(y_valid,axis=0)\n",
        "y_test = np.concatenate(y_test,axis=0)\n",
        "\n",
        "# combine and store indices for all emotions' train, validation, test sets to verify uniqueness of sets\n",
        "train_set = np.concatenate(train_set,axis=0)\n",
        "# valid_set = np.concatenate(valid_set,axis=0)\n",
        "test_set = np.concatenate(test_set,axis=0)\n",
        "\n",
        "# check shape of each set\n",
        "print(f'Training waveforms:{X_train.shape}, y_train:{y_train.shape}')\n",
        "# print(f'Validation waveforms:{X_valid.shape}, y_valid:{y_valid.shape}')\n",
        "print(f'Test waveforms:{X_test.shape}, y_test:{y_test.shape}')\n",
        "\n"
      ]
    },
    {
      "cell_type": "markdown",
      "metadata": {
        "id": "kikSzy0MCFix"
      },
      "source": [
        "## Extract Features\n"
      ]
    },
    {
      "cell_type": "markdown",
      "metadata": {
        "id": "HJ0phzMzy40S"
      },
      "source": [
        "Extract the features from unaugmented waveforms first. In the next step, we'll append features from augmented waveforms to these 'native' features."
      ]
    },
    {
      "cell_type": "code",
      "execution_count": null,
      "metadata": {
        "id": "OI4y4gFgCED3"
      },
      "outputs": [],
      "source": [
        "# # initialize feature arrays\n",
        "# # We extract MFCC features from waveforms and store in respective 'features' array\n",
        "# features_train, features_valid, features_test = [],[],[]\n",
        "\n",
        "# print('Train waveforms:') # get training set features\n",
        "# features_train = get_features(X_train, features_train, sample_rate)\n",
        "\n",
        "# print('\\n\\nValidation waveforms:') # get validation set features\n",
        "# features_valid = get_features(X_valid, features_valid, sample_rate)\n",
        "\n",
        "# print('\\n\\nTest waveforms:') # get test set features\n",
        "# features_test = get_features(X_test, features_test, sample_rate)\n",
        "\n",
        "# print(f'\\n\\nFeatures set: {len(features_train)+len(features_test)+len(features_valid)} total, {len(features_train)} train, {len(features_valid)} validation, {len(features_test)} test samples')\n",
        "# print(f'Features (MFC coefficient matrix) shape: {len(features_train[0])} mel frequency coefficients x {len(features_train[0][1])} time steps')"
      ]
    },
    {
      "cell_type": "markdown",
      "metadata": {
        "id": "mx3PipOL60DG"
      },
      "source": [
        "## Augmenting the Data with AWGN - Additive White Gaussian Noise\n",
        "\n",
        "### Motivation\n",
        "\n",
        "Since our dataset is small, it is prone to overfitting - especially with highly parameterized deep neural net models\n",
        "such as the one we aim to build in this notebook. As such, we're going to want to augment our data. Generating more real samples will be immensely difficult. Instead, we can add white noise to the audio signals - not only to mask the effect of random noise present in the training set - but also **to create pseudo-new training samples and offset the impact of noise intrinsic to the dataset.**\n",
        "\n",
        "In addition, the RAVDESS dataset is extremely clean - we will likely want to make predictions on noisy, real-world data - yet another reason to augment the training data.\n",
        "\n",
        "We're going to use Additive White Gaussian Noise (AWGN). It's Additive because we're adding it to the source audio signal,\n",
        "**it's Gaussian because the noise vector will be sampled from a normal distribution and have a time average of zero (zero-mean), and it's white because after a whitening transformation the noise will add power to the audio signal uniformly across the frequency distribution.**\n",
        "\n",
        "We need a good balance of noise - too little will be useless, and too much will make it too difficult for the network to learn from the training data. **Note that this is just for training - we would _not_ need to add AWGN to real-world data on which we make predictions** (although we could).\n",
        "\n",
        "### Math\n",
        "The key parameters in AWGN are the signal to noise ratio (SNR), defining the magnitude of the noise added w.r.t. the audio signal. We parameterize AWGN with the minimum and maximize SNR so we can pick a random SNR to use in augmenting each sample's waveform.\n",
        "\n",
        "We need to constrain covariance to make it true AWGN. **We make a zero-mean vector of Gaussian noises (np.random.normal) that are statistically dependent. We need to apply a [whitening transformation](https://en.wikipedia.org/wiki/Whitening_transformation)**, a linear transformation taking a vector of random normal (Gaussian) variables with a known covariance matrix and mapping it to a new vector whose covariance is the identity matrix, i.e. the vector is now perfectly uncorrelated with a diaganol covariance matrix, each point of noise having variance == stdev == 1. **The whitening transformation by definition transforms a vector into a white noise vector.**\n",
        "\n",
        "We're going to add the AWGN augmented waveforms as new samples to our dataset. **Since we generate AWGN which is random for each and every sample - random random noise - we can add multiples of our noise-augmented dataset. I'll add 2 extra identical, randomly noisy datasets with 1440 samples each to get a dataset with 1440 native + 1440x2 == 4320 noisy samples.**"
      ]
    },
    {
      "cell_type": "code",
      "execution_count": null,
      "metadata": {
        "id": "T6iY69E-60DG"
      },
      "outputs": [],
      "source": [
        "# def awgn_augmentation(waveform, multiples=2, bits=16, snr_min=15, snr_max=30):\n",
        "\n",
        "#     # get length of waveform (should be 3*48k = 144k)\n",
        "#     wave_len = len(waveform)\n",
        "\n",
        "#     # Generate normally distributed (Gaussian) noises\n",
        "#     # one for each waveform and multiple (i.e. wave_len*multiples noises)\n",
        "#     noise = np.random.normal(size=(multiples, wave_len))\n",
        "\n",
        "#     # Normalize waveform and noise\n",
        "#     norm_constant = 2.0**(bits-1)\n",
        "#     norm_wave = waveform / norm_constant\n",
        "#     norm_noise = noise / norm_constant\n",
        "\n",
        "#     # Compute power of waveform and power of noise\n",
        "#     signal_power = np.sum(norm_wave ** 2) / wave_len\n",
        "#     noise_power = np.sum(norm_noise ** 2, axis=1) / wave_len\n",
        "\n",
        "#     # Choose random SNR in decibels in range [15,30]\n",
        "#     snr = np.random.randint(snr_min, snr_max)\n",
        "\n",
        "#     # Apply whitening transformation: make the Gaussian noise into Gaussian white noise\n",
        "#     # Compute the covariance matrix used to whiten each noise\n",
        "#     # actual SNR = signal/noise (power)\n",
        "#     # actual noise power = 10**(-snr/10)\n",
        "#     covariance = np.sqrt((signal_power / noise_power) * 10 ** (- snr / 10))\n",
        "#     # Get covariance matrix with dim: (144000, 2) so we can transform 2 noises: dim (2, 144000)\n",
        "#     covariance = np.ones((wave_len, multiples)) * covariance\n",
        "\n",
        "#     # Since covariance and noise are arrays, * is the haddamard product\n",
        "#     # Take Haddamard product of covariance and noise to generate white noise\n",
        "#     multiple_augmented_waveforms = waveform + covariance.T * noise\n",
        "\n",
        "#     return multiple_augmented_waveforms"
      ]
    },
    {
      "cell_type": "code",
      "execution_count": null,
      "metadata": {
        "id": "61KDvjLQngzZ"
      },
      "outputs": [],
      "source": [
        "# def augment_waveforms(waveforms,  emotions, multiples):\n",
        "#     # keep track of how many waveforms we've processed so we can add correct emotion label in the same order\n",
        "#     emotion_count = 0\n",
        "#     # keep track of how many augmented samples we've added\n",
        "#     added_count = 0\n",
        "#     # convert emotion array to list for more efficient appending\n",
        "#     emotions = emotions.tolist()\n",
        "\n",
        "#     for waveform in waveforms:\n",
        "\n",
        "#         # Generate 2 augmented multiples of the dataset, i.e. 1440 native + 1440*2 noisy = 4320 samples total\n",
        "#         augmented_waveforms = awgn_augmentation(waveform, multiples=multiples)\n",
        "#         waveforms= np.concatenate([waveforms,augmented_waveforms],axis=0)\n",
        "\n",
        "\n",
        "#         # compute spectrogram for each of 2 augmented waveforms\n",
        "#         for augmented_waveform in augmented_waveforms:\n",
        "\n",
        "#             # Compute MFCCs over augmented waveforms\n",
        "#             augmented_mfcc = feature_mfcc(augmented_waveform, sample_rate=sample_rate)\n",
        "\n",
        "#             # append the augmented spectrogram to the rest of the native data\n",
        "#             # features.append(augmented_mfcc)\n",
        "#             # print(augmented_waveforms.shape)\n",
        "#             emotions.append(emotions[emotion_count])\n",
        "\n",
        "#             # keep track of new augmented samples\n",
        "#             added_count += 1\n",
        "\n",
        "#             # check progress\n",
        "#             print('\\r'+f'Processed {emotion_count + 1}/{len(waveforms)} waveforms for {added_count}/{len(waveforms)*multiples} new augmented samples',end='')\n",
        "\n",
        "#         # keep track of the emotion labels to append in order\n",
        "#         emotion_count += 1\n",
        "\n",
        "#         # store augmented waveforms to check their shape\n",
        "#         augmented_waveforms_temp.append(augmented_waveforms)\n",
        "\n",
        "\n",
        "#     return waveforms, augmented_mfcc,  emotions"
      ]
    },
    {
      "cell_type": "markdown",
      "metadata": {
        "id": "4GZ2CAy3F-nK"
      },
      "source": [
        "### Compute AWGN-augmented features and add to the rest of the dataset\n",
        "\n"
      ]
    },
    {
      "cell_type": "code",
      "execution_count": null,
      "metadata": {
        "id": "g_EwfKc3j7wR"
      },
      "outputs": [],
      "source": [
        "def addAWGN(signal, num_bits=16, augmented_num=2, snr_low=15, snr_high=30):\n",
        "    signal_len = len(signal)\n",
        "    # Generate White Gaussian noise\n",
        "    noise = np.random.normal(size=(augmented_num, signal_len))\n",
        "    # Normalize signal and noise\n",
        "    norm_constant = 2.0**(num_bits-1)\n",
        "    signal_norm = signal / norm_constant\n",
        "    noise_norm = noise / norm_constant\n",
        "    # Compute signal and noise power\n",
        "    s_power = np.sum(signal_norm ** 2) / signal_len\n",
        "    n_power = np.sum(noise_norm ** 2, axis=1) / signal_len\n",
        "    # Random SNR: Uniform [15, 30] in dB\n",
        "    target_snr = np.random.randint(snr_low, snr_high)\n",
        "    # Compute K (covariance matrix) for each noise\n",
        "    K = np.sqrt((s_power / n_power) * 10 ** (- target_snr / 10))\n",
        "    K = np.ones((signal_len, augmented_num)) * K\n",
        "    # Generate noisy signal\n",
        "    return signal + K.T * noise"
      ]
    },
    {
      "cell_type": "code",
      "execution_count": null,
      "metadata": {
        "colab": {
          "base_uri": "https://localhost:8080/"
        },
        "id": "W1J6XnXOkAgZ",
        "outputId": "2a162ebf-4c0a-4e3f-a928-8d9556d6b51c"
      },
      "outputs": [
        {
          "output_type": "stream",
          "name": "stdout",
          "text": [
            " Processed 1290/1290 files\n",
            "X_train:(3870, 48000), Y_train:(3870,)\n"
          ]
        }
      ],
      "source": [
        "aug_signals = []\n",
        "aug_labels = []\n",
        "emotion_list = y_train.tolist()\n",
        "for i in range(X_train.shape[0]):\n",
        "    signal = X_train[i,:]\n",
        "    augmented_signals = addAWGN(signal)\n",
        "    for j in range(augmented_signals.shape[0]):\n",
        "        aug_labels.append(emotion_list[i])\n",
        "        aug_signals.append(augmented_signals[j,:])\n",
        "        # data = data.append(data.iloc[i], ignore_index=True)\n",
        "    print(\"\\r Processed {}/{} files\".format(i+1,X_train.shape[0]),end='')\n",
        "aug_signals = np.stack(aug_signals,axis=0)\n",
        "X_train = np.concatenate([X_train,aug_signals],axis=0)\n",
        "aug_labels = np.stack(aug_labels,axis=0)\n",
        "y_train = np.concatenate([y_train,aug_labels])\n",
        "print('')\n",
        "print(f'X_train:{X_train.shape}, Y_train:{y_train.shape}')"
      ]
    },
    {
      "cell_type": "code",
      "execution_count": null,
      "metadata": {
        "id": "u3DO8dkZoDtb"
      },
      "outputs": [],
      "source": [
        "# aug_signals = []\n",
        "# aug_labels = []\n",
        "# emotion_list = y_valid.tolist()\n",
        "# for i in range(X_valid.shape[0]):\n",
        "#     signal = X_valid[i,:]\n",
        "#     augmented_signals = addAWGN(signal)\n",
        "#     for j in range(augmented_signals.shape[0]):\n",
        "#         aug_labels.append(emotion_list[i])\n",
        "#         aug_signals.append(augmented_signals[j,:])\n",
        "#         # data = data.append(data.iloc[i], ignore_index=True)\n",
        "#     print(\"\\r Processed {}/{} files\".format(i+1,y_valid.shape[0]),end='')\n",
        "# aug_signals = np.stack(aug_signals,axis=0)\n",
        "# X_valid = np.concatenate([X_valid,aug_signals],axis=0)\n",
        "# aug_labels = np.stack(aug_labels,axis=0)\n",
        "# y_valid = np.concatenate([y_valid,aug_labels])\n",
        "# print('')\n",
        "# print(f'X_valid:{X_valid.shape}, y_valid:{y_valid.shape}')"
      ]
    },
    {
      "cell_type": "code",
      "execution_count": null,
      "metadata": {
        "colab": {
          "base_uri": "https://localhost:8080/"
        },
        "id": "IeBXMOwjotEx",
        "outputId": "224ac239-ca6b-4384-db5c-0bfa7ed1a3ad"
      },
      "outputs": [
        {
          "output_type": "stream",
          "name": "stdout",
          "text": [
            " Processed 143/143 files\n",
            "X_valid:(429, 48000), Y_train:(429,)\n"
          ]
        }
      ],
      "source": [
        "aug_signals = []\n",
        "aug_labels = []\n",
        "emotion_list = y_test.tolist()\n",
        "for i in range(X_test.shape[0]):\n",
        "    signal = X_test[i,:]\n",
        "    augmented_signals = addAWGN(signal)\n",
        "    for j in range(augmented_signals.shape[0]):\n",
        "        aug_labels.append(emotion_list[i])\n",
        "        aug_signals.append(augmented_signals[j,:])\n",
        "        # data = data.append(data.iloc[i], ignore_index=True)\n",
        "    print(\"\\r Processed {}/{} files\".format(i+1,y_test.shape[0]),end='')\n",
        "aug_signals = np.stack(aug_signals,axis=0)\n",
        "X_test = np.concatenate([X_test,aug_signals],axis=0)\n",
        "aug_labels = np.stack(aug_labels,axis=0)\n",
        "y_test = np.concatenate([y_test,aug_labels])\n",
        "print('')\n",
        "print(f'X_valid:{X_test.shape}, Y_train:{y_test.shape}')"
      ]
    },
    {
      "cell_type": "code",
      "execution_count": null,
      "metadata": {
        "colab": {
          "base_uri": "https://localhost:8080/"
        },
        "id": "soHKB0MppPos",
        "outputId": "74dccdab-2dd0-4afe-9f02-7a792eac7d4b"
      },
      "outputs": [
        {
          "output_type": "stream",
          "name": "stdout",
          "text": [
            "Train waveforms:\n",
            " Processed 3870/3870 waveforms\n",
            "\n",
            "Test waveforms:\n",
            " Processed 429/429 waveforms\n",
            "\n",
            "Features set: 4299 total, 3870 train, 429 test samples\n",
            "Features (MFC coefficient matrix) shape: 40 mel frequency coefficients x 94 time steps\n"
          ]
        }
      ],
      "source": [
        "# initialize feature arrays\n",
        "# We extract MFCC features from waveforms and store in respective 'features' array\n",
        "features_train, features_valid, features_test = [],[],[]\n",
        "\n",
        "print('Train waveforms:') # get training set features\n",
        "features_train = get_features(X_train, features_train, sample_rate)\n",
        "\n",
        "# print('\\n\\nValidation waveforms:') # get validation set features\n",
        "# features_valid = get_features(X_valid, features_valid, sample_rate)\n",
        "\n",
        "print('\\n\\nTest waveforms:') # get test set features\n",
        "features_test = get_features(X_test, features_test, sample_rate)\n",
        "\n",
        "print(f'\\n\\nFeatures set: {len(features_train)+len(features_test)} total, {len(features_train)} train, {len(features_test)} test samples')\n",
        "print(f'Features (MFC coefficient matrix) shape: {len(features_train[0])} mel frequency coefficients x {len(features_train[0][1])} time steps')"
      ]
    },
    {
      "cell_type": "code",
      "execution_count": null,
      "metadata": {
        "id": "05bOxnra54ia"
      },
      "outputs": [],
      "source": [
        "# # # store augmented waveforms to verify their shape and random-ness\n",
        "# augmented_waveforms_temp = []\n",
        "\n",
        "# # # specify multiples of our dataset to add as augmented data\n",
        "# multiples = 2\n",
        "\n",
        "# # print('Train waveforms:') # augment waveforms of training set\n",
        "# # signal, augmented_mfcc,  emotions\n",
        "# signal, features_train , y_train = augment_waveforms(X_train,  y_train, multiples)\n",
        "\n",
        "# # print('\\n\\nValidation waveforms:') # augment waveforms of validation set\n",
        "# # features_valid, y_valid = augment_waveforms(X_valid,  y_valid, multiples)\n",
        "\n",
        "# # print('\\n\\nTest waveforms:') # augment waveforms of test set\n",
        "# # features_test, y_test = augment_waveforms(X_test,  y_test, multiples)\n",
        "\n",
        "# # # Check new shape of extracted features and data:\n",
        "# # print(f'\\n\\nNative + Augmented Features set: {len(features_train)+len(features_test)+len(features_valid)} total, {len(features_train)} train, {len(features_valid)} validation, {len(features_test)} test samples')\n",
        "# # print(f'{len(y_train)} training sample labels, {len(y_valid)} validation sample labels, {len(y_test)} test sample labels')\n"
      ]
    },
    {
      "cell_type": "markdown",
      "metadata": {
        "id": "pG6UTrZ160DO"
      },
      "source": [
        "### Check Augmented Waveforms:"
      ]
    },
    {
      "cell_type": "code",
      "execution_count": null,
      "metadata": {
        "id": "co938icT60DP"
      },
      "outputs": [],
      "source": [
        "# # pick a random waveform, but same one from native and augmented set for easier comparison\n",
        "# plt.figure(figsize=(15,4))\n",
        "# plt.subplot(1, 2, 1)\n",
        "# librosa.display.waveshow(waveforms[12], sr=sample_rate)\n",
        "# plt.title('Native')\n",
        "\n",
        "# plt.subplot(1, 2, 2)\n",
        "# # augmented waveforms are 2D len 1440 list with 2 waveforms in each position\n",
        "# librosa.display.waveshow(augmented_waveforms_temp[0][0], sr=sample_rate)\n",
        "# plt.title('AWGN Augmented')\n",
        "# plt.show()\n",
        "\n",
        "# plt.figure(figsize=(15,4))\n",
        "# plt.subplot(1, 2, 1)\n",
        "# librosa.display.waveshow(augmented_waveforms_temp[2][0], sr=sample_rate)\n",
        "# plt.title('AWGN Augmented')\n",
        "\n",
        "# plt.subplot(1, 2, 2)\n",
        "# librosa.display.waveshow(augmented_waveforms_temp[7][0], sr=sample_rate)\n",
        "# plt.title('AWGN Augmented')\n",
        "# plt.show()\n"
      ]
    },
    {
      "cell_type": "markdown",
      "metadata": {
        "id": "Z-GOeKiP60DV"
      },
      "source": [
        "Looks noisy alright. Noise is clearly visible in otherwise-silent regions of the waveform. We can see the variability of the noise, which should have an SNR between 15 and 30.\n",
        "\n",
        "**Note that augmentation was only done after splitting data into train, validation, and test sets - and we processed each set separately.**\n",
        "\n",
        "**When we augmented the data before splitting it, test and validation data leaked into the training set giving a 97% test accuracy after training.**\n",
        "\n",
        "## Format Data into Tensor Ready 4D Arrays\n",
        "We don't have a colour channel in our MFCC feature array of dim (#samples, #MFC coefficients, time steps). **We have an analog of a black and white image: instead of 3 colour channels, we have 1 signal intensity channel: magnitude of each of 40 mel frequency coefficients at time t.**\n",
        "\n",
        "**We need an input channel dim to expand to output channels using CNN filters. We create a dummy channel dim to expand features into 2D-CNN-ready 4D tensor format: N x C x H x W.**"
      ]
    },
    {
      "cell_type": "code",
      "execution_count": null,
      "metadata": {
        "colab": {
          "base_uri": "https://localhost:8080/"
        },
        "id": "PQCm9rLx60DW",
        "outputId": "1063da22-c4d4-4ed7-e804-1518fb461486"
      },
      "outputs": [
        {
          "output_type": "stream",
          "name": "stdout",
          "text": [
            "Shape of 4D feature array for input tensor: (3870, 1, 40, 94) train, (429, 1, 40, 94) test\n",
            "Shape of emotion labels: (3870,) train, (429,) test\n"
          ]
        }
      ],
      "source": [
        "# need to make dummy input channel for CNN input feature tensor\n",
        "features_train = np.expand_dims(features_train,1)\n",
        "# features_valid = np.expand_dims(features_valid, 1)\n",
        "features_test = np.expand_dims(features_test,1)\n",
        "\n",
        "# # convert emotion labels from list back to numpy arrays for PyTorch to work with\n",
        "y_train = np.array(y_train)\n",
        "# y_valid = np.array(y_valid)\n",
        "y_test = np.array(y_test)\n",
        "\n",
        "# confiorm that we have tensor-ready 4D data array\n",
        "# should print (batch, channel, width, height) == (4320, 1, 128, 282) when multiples==2\n",
        "print(f'Shape of 4D feature array for input tensor: {features_train.shape} train, {features_test.shape} test')\n",
        "print(f'Shape of emotion labels: {y_train.shape} train, {y_test.shape} test')"
      ]
    },
    {
      "cell_type": "code",
      "execution_count": null,
      "metadata": {
        "colab": {
          "base_uri": "https://localhost:8080/"
        },
        "id": "zDHxL8j11OjH",
        "outputId": "d86429e0-be4c-468e-deeb-b3fb178b7f23"
      },
      "outputs": [
        {
          "output_type": "execute_result",
          "data": {
            "text/plain": [
              "(3870, 48000)"
            ]
          },
          "metadata": {},
          "execution_count": 82
        }
      ],
      "source": [
        "X_train.shape"
      ]
    },
    {
      "cell_type": "code",
      "execution_count": null,
      "metadata": {
        "id": "3mHDd2jiB9o6"
      },
      "outputs": [],
      "source": [
        "# free up some RAM - no longer need full feature set or any waveforms\n",
        "# del features_train, features_valid, features_test, waveforms, augmented_waveforms_temp"
      ]
    },
    {
      "cell_type": "markdown",
      "metadata": {
        "id": "0Mr8NcUd60Dd"
      },
      "source": [
        "## Feature Scaling\n",
        "Scaling will drastically decrease the length of time the model needs to train to convergence - it will have easier computations to perform on smaller magnitudes. **For reference, scaling reduces the time to convergence from about 500 to 200 epochs for this model.**\n",
        "\n",
        "**Standard Scaling makes the most sense because we have features whose target distribution we don't know.** When I performed classification on this dataset with an MLP classifier standard scaling was best across a variety of conditions and features.\n"
      ]
    },
    {
      "cell_type": "code",
      "execution_count": null,
      "metadata": {
        "colab": {
          "base_uri": "https://localhost:8080/"
        },
        "id": "tlOPCDUx60De",
        "outputId": "ebfe894a-b4b0-4ddb-d3b8-8df0f8d47f0f"
      },
      "outputs": [
        {
          "output_type": "stream",
          "name": "stdout",
          "text": [
            "X_train scaled:(3870, 1, 40, 94), y_train:(3870,)\n",
            "X_test scaled:(429, 1, 40, 94), y_test:(429,)\n"
          ]
        }
      ],
      "source": [
        "from sklearn.preprocessing import StandardScaler\n",
        "\n",
        "scaler = StandardScaler()\n",
        "\n",
        "\n",
        "#### Scale the training data ####\n",
        "# store shape so we can transform it back\n",
        "N,C,H,W = features_train.shape\n",
        "# Reshape to 1D because StandardScaler operates on a 1D array\n",
        "# tell numpy to infer shape of 1D array with '-1' argument\n",
        "features_train = np.reshape(features_train, (N,-1))\n",
        "features_train = scaler.fit_transform(features_train)\n",
        "# Transform back to NxCxHxW 4D tensor format\n",
        "features_train = np.reshape(features_train, (N,C,H,W))\n",
        "\n",
        "# ##### Scale the validation set ####\n",
        "# N,C,H,W = features_valid.shape\n",
        "# features_valid = np.reshape(features_valid, (N,-1))\n",
        "# features_valid = scaler.transform(features_valid)\n",
        "# features_valid = np.reshape(features_valid, (N,C,H,W))\n",
        "\n",
        "#### Scale the test set ####\n",
        "N,C,H,W = features_test.shape\n",
        "features_test = np.reshape(features_test, (N,-1))\n",
        "features_test = scaler.transform(features_test)\n",
        "features_test = np.reshape(features_test, (N,C,H,W))\n",
        "\n",
        "# check shape of each set again\n",
        "print(f'X_train scaled:{features_train.shape}, y_train:{y_train.shape}')\n",
        "# print(f'X_valid scaled:{features_valid.shape}, y_valid:{y_valid.shape}')\n",
        "print(f'X_test scaled:{features_test.shape}, y_test:{y_test.shape}')"
      ]
    },
    {
      "cell_type": "markdown",
      "metadata": {
        "id": "zvZh_Cuv7zAb"
      },
      "source": [
        "## Save and Reload Data as NumPy Arrays\n",
        "We can save the training/validation/test data as numpy arrays to enable faster loading in case the notebook kernel crashes / google colab runtime crashes / any number of reasons the training data might be cleared from memory. This is much faster than loading 1440 files and computing their features again - not to mention augmented features."
      ]
    },
    {
      "cell_type": "code",
      "execution_count": null,
      "metadata": {
        "id": "Q2EmDJEB42ty"
      },
      "outputs": [],
      "source": []
    },
    {
      "cell_type": "code",
      "execution_count": null,
      "metadata": {
        "colab": {
          "base_uri": "https://localhost:8080/"
        },
        "id": "yx4vK5ssRIzH",
        "outputId": "988abd99-0cac-4b21-ef4d-c0bc978eb6e1"
      },
      "outputs": [
        {
          "output_type": "stream",
          "name": "stdout",
          "text": [
            "Features and labels saved to /content/gdrive/MyDrive/att_w2v_kfold/k10/features+rawAudio+labels.npy\n"
          ]
        }
      ],
      "source": [
        "###### SAVE #########\n",
        "# choose save file name\n",
        "filename = '/content/gdrive/MyDrive/att_w2v_kfold/k10/features+rawAudio+labels.npy'\n",
        "\n",
        "# open file in write mode and write data\n",
        "with open(filename, 'wb') as f:\n",
        "    np.save(f, features_train)\n",
        "    np.save(f, X_train)\n",
        "    np.save(f, features_test)\n",
        "    np.save(f, X_test)\n",
        "\n",
        "    np.save(f, y_train)\n",
        "    np.save(f, y_test)\n",
        "\n",
        "print(f'Features and labels saved to {filename}')"
      ]
    },
    {
      "cell_type": "code",
      "execution_count": null,
      "metadata": {
        "colab": {
          "base_uri": "https://localhost:8080/"
        },
        "id": "bj46pQstRKlI",
        "outputId": "c0341b72-7a80-469c-f636-f1d00c1384d8"
      },
      "outputs": [
        {
          "output_type": "stream",
          "name": "stdout",
          "text": [
            "X_train:(3870, 48000), features_train:(3870, 1, 40, 94), y_train:(3870,)\n",
            "X_test:(429, 48000) features_test: (429, 1, 40, 94), y_test:(429,)\n"
          ]
        }
      ],
      "source": [
        "##### LOAD #########\n",
        "# choose load file name\n",
        "filename = '/content/gdrive/MyDrive/att_w2v_kfold/k10/features+rawAudio+labels.npy'\n",
        "\n",
        "# open file in read mode and read data\n",
        "with open(filename, 'rb') as f:\n",
        "    features_train = np.load(f)\n",
        "    X_train = np.load(f)\n",
        "    # features_valid = np.load(f)\n",
        "\n",
        "    features_test = np.load(f)\n",
        "    X_test = np.load(f)\n",
        "\n",
        "    y_train = np.load(f)\n",
        "    # y_valid = np.load(f)\n",
        "    y_test = np.load(f)\n",
        "\n",
        "# Check that we've recovered the right data\n",
        "print(f'X_train:{X_train.shape}, features_train:{features_train.shape}, y_train:{y_train.shape}')\n",
        "# print(f'X_valid:{features_valid.shape}, y_valid:{y_valid.shape}')\n",
        "print(f'X_test:{X_test.shape} features_test: {features_test.shape}, y_test:{y_test.shape}')"
      ]
    },
    {
      "cell_type": "code",
      "execution_count": null,
      "metadata": {
        "colab": {
          "base_uri": "https://localhost:8080/"
        },
        "id": "ZcdVeQiA_xLw",
        "outputId": "c291e1d4-0b3e-409c-ad98-86848c7786c0"
      },
      "outputs": [
        {
          "output_type": "execute_result",
          "data": {
            "text/plain": [
              "(3870, 48000)"
            ]
          },
          "metadata": {},
          "execution_count": 87
        }
      ],
      "source": [
        "X_train.shape"
      ]
    },
    {
      "cell_type": "code",
      "execution_count": null,
      "metadata": {
        "id": "L6ObDdbgjQaJ"
      },
      "outputs": [],
      "source": []
    },
    {
      "cell_type": "code",
      "execution_count": null,
      "metadata": {
        "colab": {
          "base_uri": "https://localhost:8080/"
        },
        "id": "Xw7cZN8q877f",
        "outputId": "5529e114-3a6f-4ab7-a943-f5d453464b5b"
      },
      "outputs": [
        {
          "output_type": "stream",
          "name": "stdout",
          "text": [
            "Input shape: torch.Size([2, 64, 1, 2])\n",
            "Output shape: torch.Size([2, 64, 1, 2])\n"
          ]
        }
      ],
      "source": [
        "class SpatialAttention(nn.Module):\n",
        "    def __init__(self, in_channels):\n",
        "        super(SpatialAttention, self).__init__()\n",
        "        self.conv1 = nn.Conv2d(in_channels * 2, 1, kernel_size=1)  # Double the channels in the convolution\n",
        "        self.sigmoid = nn.Sigmoid()\n",
        "\n",
        "    def forward(self, x):\n",
        "        # Assuming x has shape [batches, 64, 1, 8]\n",
        "        avg_pool = F.avg_pool2d(x, kernel_size=(1, x.size(3)))\n",
        "        max_pool = F.max_pool2d(x, kernel_size=(1, x.size(3)))\n",
        "\n",
        "        # Double the channels in the features concatenation\n",
        "        features = torch.cat([avg_pool, max_pool], dim=1)\n",
        "\n",
        "        attention = self.conv1(features)\n",
        "        attention = self.sigmoid(attention)\n",
        "\n",
        "        # Applying attention to the input tensor along the spatial dimension\n",
        "        x = x * attention\n",
        "\n",
        "        return x\n",
        "\n",
        "# Example usage\n",
        "batches, channels, height, width = 2, 64, 1, 2\n",
        "input_tensor = torch.randn(batches, channels, height, width)\n",
        "attention_module = SpatialAttention(in_channels=channels)\n",
        "output_tensor = attention_module(input_tensor)\n",
        "\n",
        "print(\"Input shape:\", input_tensor.shape)\n",
        "print(\"Output shape:\", output_tensor.shape)\n"
      ]
    },
    {
      "cell_type": "code",
      "execution_count": null,
      "metadata": {
        "colab": {
          "base_uri": "https://localhost:8080/"
        },
        "id": "b0Eq8DIg9JTR",
        "outputId": "dbf352fb-9707-4ea9-cdea-ff4b35c2c7a2"
      },
      "outputs": [
        {
          "output_type": "stream",
          "name": "stdout",
          "text": [
            "Input shape: torch.Size([2, 64, 1, 2])\n",
            "Output shape: torch.Size([2, 64, 1, 2])\n"
          ]
        }
      ],
      "source": [
        "class ChannelAttention(nn.Module):\n",
        "    def __init__(self, in_channels, reduction=16):\n",
        "        super(ChannelAttention, self).__init__()\n",
        "        self.avg_pool = nn.AdaptiveAvgPool2d(1)\n",
        "        self.max_pool = nn.AdaptiveMaxPool2d(1)\n",
        "        self.fc = nn.Sequential(\n",
        "            nn.Linear(in_channels, in_channels // reduction),\n",
        "            nn.ReLU(),\n",
        "            nn.Linear(in_channels // reduction, in_channels),\n",
        "            nn.Sigmoid()\n",
        "        )\n",
        "\n",
        "    def forward(self, x):\n",
        "        avg_pool = self.avg_pool(x).view(x.size(0), -1)\n",
        "        max_pool = self.max_pool(x).view(x.size(0), -1)\n",
        "        channel_att = self.fc(avg_pool + max_pool).view(x.size(0), x.size(1), 1, 1)\n",
        "        x = x * channel_att\n",
        "        return x\n",
        "\n",
        "\n",
        "# Example usage\n",
        "batches, channels, height, width = 2, 64, 1, 2\n",
        "input_tensor = torch.randn(batches, channels, height, width)\n",
        "attention_module = ChannelAttention(in_channels=channels)\n",
        "output_tensor = attention_module(input_tensor)\n",
        "\n",
        "print(\"Input shape:\", input_tensor.shape)\n",
        "print(\"Output shape:\", output_tensor.shape)\n",
        "\n"
      ]
    },
    {
      "cell_type": "code",
      "execution_count": null,
      "metadata": {
        "id": "UZfXC9Zebrf_"
      },
      "outputs": [],
      "source": [
        "import torch\n",
        "import torch.nn as nn\n",
        "\n",
        "class Encoder1(nn.Module):\n",
        "    def __init__(self):\n",
        "        super(Encoder1, self).__init__()\n",
        "\n",
        "        self.encoder1 = nn.Sequential(\n",
        "            # 1st 2D convolution layer\n",
        "            nn.Conv2d(1, 16, kernel_size=3, stride=1, padding=1),\n",
        "            nn.BatchNorm2d(16),\n",
        "            nn.SELU(),\n",
        "            nn.MaxPool2d(kernel_size=2, stride=2),\n",
        "            nn.Dropout(p=0.3),\n",
        "\n",
        "            # 2nd 2D convolution layer\n",
        "            nn.Conv2d(16, 32, kernel_size=3, stride=1, padding=1),\n",
        "            nn.BatchNorm2d(32),\n",
        "            nn.SELU(),\n",
        "            nn.MaxPool2d(kernel_size=4, stride=4),\n",
        "            nn.Dropout(p=0.3),\n",
        "\n",
        "            # 3rd 2D convolution layer\n",
        "            nn.Conv2d(32, 64, kernel_size=3, stride=1, padding=1),\n",
        "            nn.BatchNorm2d(64),\n",
        "            nn.SELU(),\n",
        "            nn.MaxPool2d(kernel_size=4, stride=4)\n",
        "        )\n",
        "\n",
        "    def forward(self, x):\n",
        "        return self.encoder1(x)\n",
        "\n",
        "\n",
        "\n"
      ]
    },
    {
      "cell_type": "code",
      "execution_count": null,
      "metadata": {
        "id": "8O8F62-AU8RZ"
      },
      "outputs": [],
      "source": [
        "class Decoder1(nn.Module):\n",
        "    def __init__(self):\n",
        "        super(Decoder1, self).__init__()\n",
        "\n",
        "        self.decoder1 = nn.Sequential(\n",
        "            # 1st 2D transpose convolution layer\n",
        "            nn.ConvTranspose2d(64, 32, kernel_size=5, stride=(1, 4), padding=0, output_padding=(0, 2)),\n",
        "            nn.BatchNorm2d(32),\n",
        "            nn.SELU(),\n",
        "\n",
        "            # 2nd 2D transpose convolution layer\n",
        "            nn.ConvTranspose2d(32, 16, kernel_size=3, stride=4, padding=0, output_padding=(1, 2)),\n",
        "            nn.BatchNorm2d(16),\n",
        "            nn.SELU(),\n",
        "\n",
        "            # 3rd 2D transpose convolution layer\n",
        "            nn.ConvTranspose2d(16, 1, kernel_size=(3,7), stride=2, padding=1, output_padding=1)\n",
        "        )\n",
        "\n",
        "    def forward(self, x):\n",
        "        return self.decoder1(x)\n"
      ]
    },
    {
      "cell_type": "code",
      "execution_count": null,
      "metadata": {
        "id": "vuaEWdW7U-Hn"
      },
      "outputs": [],
      "source": [
        "\n",
        "class Autoencoder1(nn.Module):\n",
        "    def __init__(self):\n",
        "        super(Autoencoder1, self).__init__()\n",
        "        self.encoder = Encoder1()\n",
        "        self.spatial_attention = SpatialAttention(64)\n",
        "        self.channel_attention = ChannelAttention(64)\n",
        "        self.decoder = Decoder1()\n",
        "\n",
        "    def forward(self, x):\n",
        "        encoded = self.encoder(x)\n",
        "        # print(\"encoded1:\", encoded.shape)\n",
        "        sa = self.spatial_attention(encoded)\n",
        "        # print(\"sa1:\",sa.shape)\n",
        "        ca = self.channel_attention(encoded)\n",
        "        # print(\"ca1:\", ca.shape)\n",
        "        att_encoded = sa + ca + encoded\n",
        "\n",
        "        decoded = self.decoder(att_encoded)\n",
        "        return encoded, decoded\n"
      ]
    },
    {
      "cell_type": "code",
      "execution_count": null,
      "metadata": {
        "colab": {
          "base_uri": "https://localhost:8080/"
        },
        "id": "xIiTmfm8VBYb",
        "outputId": "a9d082e6-0795-403f-9b34-9f463f38c30a"
      },
      "outputs": [
        {
          "output_type": "execute_result",
          "data": {
            "text/plain": [
              "(torch.Size([1, 64, 1, 2]), torch.Size([1, 1, 40, 94]))"
            ]
          },
          "metadata": {},
          "execution_count": 33
        }
      ],
      "source": [
        "# Example usage\n",
        "autoencoder = Autoencoder1()\n",
        "input_data = torch.randn(1, 1, 40, 94)  # Replace with your input shape\n",
        "encoded1, decoded1 = autoencoder(input_data)\n",
        "encoded1.shape, decoded1.shape"
      ]
    },
    {
      "cell_type": "code",
      "execution_count": null,
      "metadata": {
        "id": "vYH4SzyKbXkw"
      },
      "outputs": [],
      "source": [
        "import torch.nn as nn\n",
        "\n",
        "class Encoder2(nn.Module):\n",
        "    def __init__(self):\n",
        "        super(Encoder2, self).__init__()\n",
        "\n",
        "        # Define the 2D convolutional layers\n",
        "        self.conv2Dblock = nn.Sequential(\n",
        "            # 1st 2D convolution layer\n",
        "            nn.Conv2d(1, 16, kernel_size=3, stride=1, padding=1),\n",
        "            nn.BatchNorm2d(16),\n",
        "            nn.SELU(),\n",
        "            nn.MaxPool2d(kernel_size=2, stride=2),\n",
        "            nn.Dropout(p=0.3),\n",
        "\n",
        "            # 2nd 2D convolution layer\n",
        "            nn.Conv2d(16, 32, kernel_size=3, stride=1, padding=1),\n",
        "            nn.BatchNorm2d(32),\n",
        "            nn.SELU(),\n",
        "            nn.MaxPool2d(kernel_size=4, stride=4),\n",
        "            nn.Dropout(p=0.3),\n",
        "\n",
        "            # 3rd 2D convolution layer\n",
        "            nn.Conv2d(32, 64, kernel_size=3, stride=1, padding=1),\n",
        "            nn.BatchNorm2d(64),\n",
        "            nn.SELU(),\n",
        "            nn.MaxPool2d(kernel_size=4, stride=4),\n",
        "            nn.Dropout(p=0.3)\n",
        "        )\n",
        "\n",
        "    def forward(self, x):\n",
        "        # Pass the input through the convolutional layers\n",
        "        return self.conv2Dblock(x)\n",
        "\n"
      ]
    },
    {
      "cell_type": "code",
      "execution_count": null,
      "metadata": {
        "id": "TtOYsGn2bXYU"
      },
      "outputs": [],
      "source": [
        "import torch.nn as nn\n",
        "\n",
        "class Decoder2(nn.Module):\n",
        "    def __init__(self):\n",
        "        super(Decoder2, self).__init__()\n",
        "\n",
        "        # Define the 2D transposed convolutional layers for the decoder\n",
        "        self.decoder2 = nn.Sequential(\n",
        "            # 1st 2D transposed convolution layer\n",
        "            nn.ConvTranspose2d(64, 32, kernel_size=5, stride=(1, 4), padding=0, output_padding=(0, 2)),\n",
        "            nn.BatchNorm2d(32),\n",
        "            nn.SELU(),\n",
        "\n",
        "            # 2nd 2D transposed convolution layer\n",
        "            nn.ConvTranspose2d(32, 16, kernel_size=3, stride=4, padding=0, output_padding=(1, 2)),\n",
        "            nn.BatchNorm2d(16),\n",
        "            nn.SELU(),\n",
        "\n",
        "            # 3rd 2D transposed convolution layer\n",
        "            nn.ConvTranspose2d(16, 1, kernel_size=(3,7), stride=2, padding=1, output_padding=1)\n",
        "        )\n",
        "\n",
        "    def forward(self, x):\n",
        "        # Pass the input through the decoder's transposed convolutional layers\n",
        "        return self.decoder2(x)\n",
        "\n"
      ]
    },
    {
      "cell_type": "code",
      "execution_count": null,
      "metadata": {
        "colab": {
          "base_uri": "https://localhost:8080/"
        },
        "id": "l8S9c0vKbXP7",
        "outputId": "d532c6b9-b9a1-4e69-a8c2-c76301a9c4b7"
      },
      "outputs": [
        {
          "output_type": "execute_result",
          "data": {
            "text/plain": [
              "(torch.Size([1, 64, 1, 2]), torch.Size([1, 1, 40, 94]))"
            ]
          },
          "metadata": {},
          "execution_count": 36
        }
      ],
      "source": [
        "import torch.nn as nn\n",
        "\n",
        "class Autoencoder2(nn.Module):\n",
        "    def __init__(self):\n",
        "        super(Autoencoder2, self).__init__()\n",
        "\n",
        "        # Define the encoder and decoder\n",
        "        self.encoder = Encoder2()\n",
        "        self.spatial_attention = SpatialAttention(64)\n",
        "        self.channel_attention = ChannelAttention(64)\n",
        "        self.decoder = Decoder2()\n",
        "\n",
        "    def forward(self, x):\n",
        "        # Encode the input\n",
        "        encoded = self.encoder(x)\n",
        "        sa = self.spatial_attention(encoded)\n",
        "        ca = self.channel_attention(encoded)\n",
        "        att_encoded = sa + ca + encoded\n",
        "\n",
        "        # Decode the encoded representation\n",
        "        decoded = self.decoder(att_encoded)\n",
        "        return encoded, decoded\n",
        "# Example usage\n",
        "autoencoder2 = Autoencoder2()\n",
        "input_data = torch.randn(1, 1, 40, 94)  # Replace with your input shape\n",
        "encoded2, decoded2 = autoencoder2(input_data)\n",
        "encoded2.shape, decoded2.shape\n"
      ]
    },
    {
      "cell_type": "code",
      "execution_count": null,
      "metadata": {
        "colab": {
          "base_uri": "https://localhost:8080/"
        },
        "id": "9TVnM56Tz1Wi",
        "outputId": "630f2cfb-b44e-4f41-eaeb-81ef790581b3"
      },
      "outputs": [
        {
          "output_type": "execute_result",
          "data": {
            "text/plain": [
              "(3870, 48000)"
            ]
          },
          "metadata": {},
          "execution_count": 38
        }
      ],
      "source": [
        "X_train.shape"
      ]
    },
    {
      "cell_type": "code",
      "execution_count": null,
      "metadata": {
        "id": "3DfsBLsR463y"
      },
      "outputs": [],
      "source": [
        "import torch.nn as nn\n",
        "\n",
        "class EmotionClassifier(nn.Module):\n",
        "    def __init__(self, num_emotions):\n",
        "        super(EmotionClassifier, self).__init__()\n",
        "\n",
        "        # Linear softmax layer to take the final concatenated embedding tensor\n",
        "        # from parallel 2D convolutional and transformer blocks, output 8 logits\n",
        "        # Each full convolution block outputs (64*1*8) embedding flattened to dim 512 1D array\n",
        "        # Full transformer block outputs 40*70 feature map, which we time-avg to dim 40 1D array\n",
        "        # 512*2 + 40 == 1064 input features --> 8 output emotions\n",
        "        self.fc1_linear = nn.Linear(128*3 , 128)\n",
        "        self.fc2_linear = nn.Linear(128 , num_emotions)\n",
        "        self.drop = nn.Dropout(p=0.1)\n",
        "\n",
        "\n",
        "\n",
        "        # Softmax layer for the 8 output logits from the final FC linear layer\n",
        "        self.softmax_out = nn.Softmax(dim=1)  # dim==1 refers to the frequency embedding\n",
        "\n",
        "    def forward(self,x):\n",
        "\n",
        "        # Pass the concatenated features through the final linear layer\n",
        "        out1 = self.fc1_linear(x)\n",
        "        out1 = self.drop(out1)\n",
        "        output = self.fc2_linear(out1)\n",
        "\n",
        "\n",
        "        # Apply softmax to get the class probabilities\n",
        "        class_probs = self.softmax_out(output)\n",
        "\n",
        "        return output , class_probs\n",
        "\n",
        "# You can use this EmotionClassifier as part of your larger model to perform emotion classification.\n"
      ]
    },
    {
      "cell_type": "code",
      "execution_count": null,
      "metadata": {
        "id": "TdjcC_6p_j1T"
      },
      "outputs": [],
      "source": [
        "# Combine the models\n",
        "\n",
        "\n",
        "\n",
        "class MultiTaskModel(nn.Module):\n",
        "    def __init__(self,num_emotions):\n",
        "\n",
        "        super(MultiTaskModel, self).__init__()\n",
        "        self.autoencoder1 = Autoencoder1()\n",
        "        self.autoencoder2 = Autoencoder2()\n",
        "        # self.transformerblock = TransformerBlock()\n",
        "        self.emotion_classifier = EmotionClassifier(num_emotions)\n",
        "        self.post_spec_mfcc_att_dropout = nn.Dropout(p=0.1)\n",
        "        self.post_spec_mfcc_att_layer = nn.Linear(256, 149)\n",
        "        self.post_wav_dropout = nn.Dropout(p=0.1)\n",
        "        self.post_wav_layer = nn.Linear(768, 128) # 512 for 1 and 768 for 2\n",
        "        self.drop = nn.Dropout(p=0.1)\n",
        "\n",
        "\n",
        "\n",
        "\n",
        "\n",
        "\n",
        "    def forward(self, x, y):\n",
        "\n",
        "        # print(w2v_features.shape)\n",
        "\n",
        "\n",
        "\n",
        "\n",
        "\n",
        "\n",
        "        encoded1, decoded1 = self.autoencoder1(x)\n",
        "        encoded1_embedding1 = torch.flatten(encoded1, start_dim=1)\n",
        "        # print(\"encoded1_embedding1\", encoded1_embedding1.shape)\n",
        "        encoded2, decoded2= self.autoencoder2(x)\n",
        "        encoded2_embedding2 = torch.flatten(encoded2, start_dim=1)\n",
        "        # print(\"encoded1_embedding2\", encoded2_embedding2.shape)\n",
        "\n",
        "\n",
        "        # FOR WAV2VEC2.0 WEIGHTS\n",
        "        spec_mfcc = torch.cat([encoded1_embedding1, encoded2_embedding2], dim=-1) # [batch, 256]\n",
        "        audio_spec_mfcc_att_d = self.post_spec_mfcc_att_dropout(spec_mfcc)# [batch, 256]\n",
        "        audio_spec_mfcc_att_p = F.relu(self.post_spec_mfcc_att_layer(audio_spec_mfcc_att_d), inplace=False)# [batch, 149]\n",
        "        audio_spec_mfcc_att_p = audio_spec_mfcc_att_p.reshape(audio_spec_mfcc_att_p.shape[0], 1, -1)# [batch, 1, 149]\n",
        "        #+ audio_spec_mfcc_att_2 = F.softmax(audio_spec_mfcc_att_1, dim=2)\n",
        "\n",
        "        # wav2vec 2.0\n",
        "        audio_wav = y # [batch, 149, 768]\n",
        "        audio_wav = torch.matmul(audio_spec_mfcc_att_p, audio_wav) # [batch, 1, 768]\n",
        "        audio_wav = audio_wav.reshape(audio_wav.shape[0], -1) # [batch, 768]\n",
        "        #audio_wav = torch.mean(audio_wav, dim=1)\n",
        "        audio_wav_d = self.post_wav_dropout(audio_wav) # [batch, 768]\n",
        "        audio_wav_p = F.relu(self.post_wav_layer(audio_wav_d), inplace=False) # [batch, 128]\n",
        "\n",
        "\n",
        "\n",
        "\n",
        "\n",
        "        complete_embedding = torch.cat([encoded1_embedding1, encoded2_embedding2,audio_wav_p], dim=1)\n",
        "        complete_embedding = self.drop(complete_embedding)\n",
        "\n",
        "        # print(\"complete_embedding\", complete_embedding.shape)\n",
        "\n",
        "\n",
        "        output_logits, output_softmax = self.emotion_classifier(complete_embedding)\n",
        "\n",
        "        return decoded1, decoded2, output_logits, output_softmax"
      ]
    },
    {
      "cell_type": "code",
      "execution_count": null,
      "metadata": {
        "colab": {
          "base_uri": "https://localhost:8080/"
        },
        "id": "c3y4K40_a-ZT",
        "outputId": "733e5966-458e-4975-86e4-d22058004211"
      },
      "outputs": [
        {
          "output_type": "stream",
          "name": "stdout",
          "text": [
            "Number of trainable params:  348073\n"
          ]
        },
        {
          "output_type": "execute_result",
          "data": {
            "text/plain": [
              "(torch.Size([2, 1, 40, 94]),\n",
              " torch.Size([2, 1, 40, 94]),\n",
              " tensor([[-0.6050, -0.3729, -0.2091, -0.4523, -1.0296, -1.0740,  0.4992, -0.9604],\n",
              "         [ 0.1972,  0.1537, -0.5605, -0.2532,  0.0624, -1.3314, -0.9548, -0.7356]],\n",
              "        grad_fn=<AddmmBackward0>),\n",
              " tensor([[0.1009, 0.1273, 0.1499, 0.1176, 0.0660, 0.0631, 0.3044, 0.0707],\n",
              "         [0.2056, 0.1969, 0.0964, 0.1310, 0.1797, 0.0446, 0.0650, 0.0809]],\n",
              "        grad_fn=<SoftmaxBackward0>))"
            ]
          },
          "metadata": {},
          "execution_count": 42
        }
      ],
      "source": [
        "# Example usage\n",
        "model = MultiTaskModel(num_emotions=8)\n",
        "print('Number of trainable params: ',sum(p.numel() for p in model.parameters()) )\n",
        "\n",
        "input_data = torch.randn(2, 1, 40, 94)  # Replace with your input shape\n",
        "input_data2 = torch.randn( 2, 149, 768)  # Replace with your input shape\n",
        "# print(input_data2.unsqueeze(dim=1).shape)\n",
        "# rrr= input_data2.unsqueeze(dim=1)\n",
        "decoded1, decoded2, output_logits, output_softmax = model(input_data,input_data2)\n",
        "decoded1.shape, decoded2.shape, output_logits, output_softmax\n"
      ]
    },
    {
      "cell_type": "code",
      "execution_count": null,
      "metadata": {
        "id": "RYcFptSEdxHE"
      },
      "outputs": [],
      "source": [
        "# Loss functions\n",
        "autoencoder_criterion = nn.MSELoss()  # Use Mean Squared Error for autoencoder loss\n",
        "classifier_criterion = nn.CrossEntropyLoss()  # Use Cross-Entropy for emotion classification loss\n",
        "optimizer = torch.optim.SGD(model.parameters(),lr=0.01, weight_decay=1e-3, momentum=0.8)"
      ]
    },
    {
      "cell_type": "code",
      "execution_count": null,
      "metadata": {
        "id": "um-Jau0xNY5L"
      },
      "outputs": [],
      "source": []
    },
    {
      "cell_type": "code",
      "execution_count": null,
      "metadata": {
        "id": "3MQ6t3m0kaeg"
      },
      "outputs": [],
      "source": [
        "# define function to create a single step of the training phase\n",
        "def make_train_step(model, autoencoder_criterion, classifier_criterion, optimizer):\n",
        "\n",
        "    # define the training step of the training phase\n",
        "    def train_step(X, features, Y):\n",
        "        model.train()\n",
        "\n",
        "\n",
        "        # forward pass\n",
        "        decoded1, decoded2, output_logits, output_softmax  = model(X, features)\n",
        "        predictions = torch.argmax(output_softmax,dim=1)\n",
        "        accuracy = torch.sum(Y==predictions)/float(len(Y))\n",
        "\n",
        "        # Compute losses\n",
        "        autoencoder_loss1 = autoencoder_criterion(decoded1, X)\n",
        "        autoencoder_loss2 = autoencoder_criterion(decoded2, X)\n",
        "        classifier_loss = classifier_criterion(output_logits, Y)\n",
        "\n",
        "        # Define a trade-off parameter to balance losses\n",
        "        tradeoff = 0.4 # Adjust as needed\n",
        "\n",
        "        # Calculate the combined loss\n",
        "        loss = tradeoff * (autoencoder_loss1 + autoencoder_loss2) + (1 - tradeoff) * classifier_loss\n",
        "\n",
        "        # compute gradients for the optimizer to use\n",
        "        loss.backward()\n",
        "\n",
        "        # update network parameters based on gradient stored (by calling loss.backward())\n",
        "        optimizer.step()\n",
        "\n",
        "        # zero out gradients for next pass\n",
        "        # pytorch accumulates gradients from backwards passes (convenient for RNNs)\n",
        "        optimizer.zero_grad()\n",
        "\n",
        "        return loss.item(), accuracy*100, autoencoder_loss1.item(), autoencoder_loss2.item(), classifier_loss.item()\n",
        "    return train_step"
      ]
    },
    {
      "cell_type": "code",
      "execution_count": null,
      "metadata": {
        "id": "yLHclkxGx9vP"
      },
      "outputs": [],
      "source": [
        "def make_validate_fnc(model,autoencoder_criterion, classifier_criterion):\n",
        "    def validate(X,features,Y):\n",
        "\n",
        "        # don't want to update any network parameters on validation passes: don't need gradient\n",
        "        # wrap in torch.no_grad to save memory and compute in validation phase:\n",
        "        with torch.no_grad():\n",
        "\n",
        "            # set model to validation phase i.e. turn off dropout and batchnorm layers\n",
        "            model.eval()\n",
        "\n",
        "            # get the model's predictions on the validation set\n",
        "            decoded1, decoded2, output_logits, output_softmax  = model(X, features)\n",
        "            predictions = torch.argmax(output_softmax,dim=1)\n",
        "\n",
        "            # calculate the mean accuracy over the entire validation set\n",
        "            accuracy = torch.sum(Y==predictions)/float(len(Y))\n",
        "\n",
        "            # Compute losses\n",
        "            autoencoder_loss1 = autoencoder_criterion(decoded1, X)\n",
        "            autoencoder_loss2 = autoencoder_criterion(decoded2, X)\n",
        "            classifier_loss = classifier_criterion(output_logits, Y)\n",
        "\n",
        "            # compute error from logits (nn.crossentropy implements softmax)\n",
        "            # Define a trade-off parameter to balance losses\n",
        "            tradeoff = 0.4 # Adjust as needed\n",
        "\n",
        "            # Calculate the combined loss\n",
        "            loss = tradeoff * (autoencoder_loss1 + autoencoder_loss2) + (1 - tradeoff) * classifier_loss\n",
        "\n",
        "\n",
        "        return loss.item(), accuracy*100, autoencoder_loss1.item(), autoencoder_loss2.item(), classifier_loss.item(), predictions\n",
        "    return validate"
      ]
    },
    {
      "cell_type": "code",
      "execution_count": null,
      "metadata": {
        "id": "qlELYNnnyUUD"
      },
      "outputs": [],
      "source": [
        "def make_save_checkpoint():\n",
        "    def save_checkpoint(optimizer, model, epoch, filename):\n",
        "        checkpoint_dict = {\n",
        "            'optimizer': optimizer.state_dict(),\n",
        "            'model': model.state_dict(),\n",
        "            'epoch': epoch\n",
        "        }\n",
        "        torch.save(checkpoint_dict, filename)\n",
        "    return save_checkpoint\n",
        "\n",
        "def load_checkpoint(optimizer, model, filename):\n",
        "    checkpoint_dict = torch.load(filename)\n",
        "    epoch = checkpoint_dict['epoch']\n",
        "    model.load_state_dict(checkpoint_dict['model'])\n",
        "    if optimizer is not None:\n",
        "        optimizer.load_state_dict(checkpoint_dict['optimizer'])\n",
        "    return epoch"
      ]
    },
    {
      "cell_type": "code",
      "execution_count": null,
      "metadata": {
        "colab": {
          "base_uri": "https://localhost:8080/"
        },
        "id": "HqDdx6tCLvjV",
        "outputId": "1cc5890d-e550-42e5-8f2a-9b2f976971a3"
      },
      "outputs": [
        {
          "output_type": "stream",
          "name": "stdout",
          "text": [
            "cpu selected\n"
          ]
        }
      ],
      "source": [
        "# get training set size to calculate # iterations and minibatch indices\n",
        "train_size = X_train.shape[0]\n",
        "\n",
        "# pick minibatch size (of 32... always)\n",
        "minibatch = 32\n",
        "\n",
        "# set device to GPU\n",
        "device = 'cuda' if torch.cuda.is_available() else 'cpu'\n",
        "print(f'{device} selected')\n",
        "\n"
      ]
    },
    {
      "cell_type": "code",
      "execution_count": null,
      "metadata": {
        "colab": {
          "base_uri": "https://localhost:8080/"
        },
        "id": "GwTutLftLzGm",
        "outputId": "f6c8a193-4d66-4f44-a4b6-16bd555979a9"
      },
      "outputs": [
        {
          "output_type": "stream",
          "name": "stdout",
          "text": [
            "Number of trainable params:  348073\n"
          ]
        }
      ],
      "source": [
        "# instantiate model and move to GPU for training\n",
        "model = MultiTaskModel(num_emotions=len(emotions_dict)).to(device)\n",
        "print('Number of trainable params: ',sum(p.numel() for p in model.parameters()) )"
      ]
    },
    {
      "cell_type": "code",
      "execution_count": null,
      "metadata": {
        "id": "XIvcVjmLL2GW"
      },
      "outputs": [],
      "source": [
        "# encountered bugs in google colab only, unless I explicitly defined optimizer in this cell...\n",
        "optimizer = torch.optim.AdamW(model.parameters(),lr=0.001, weight_decay=1e-3)\n",
        "# Loss functions\n",
        "autoencoder_criterion = nn.MSELoss()  # Use Mean Squared Error for autoencoder loss\n",
        "classifier_criterion = nn.CrossEntropyLoss()  # Use Cross-Entropy for emotion classification loss"
      ]
    },
    {
      "cell_type": "code",
      "execution_count": null,
      "metadata": {
        "id": "VRsAfkRZL84X"
      },
      "outputs": [],
      "source": [
        "# instantiate the checkpoint save function\n",
        "save_checkpoint = make_save_checkpoint()\n",
        "\n",
        "# instantiate the training step function\n",
        "train_step = make_train_step(model, autoencoder_criterion, classifier_criterion, optimizer=optimizer)\n",
        "\n",
        "# instantiate the validation loop function\n",
        "validate = make_validate_fnc(model,autoencoder_criterion, classifier_criterion)\n",
        "\n"
      ]
    },
    {
      "cell_type": "code",
      "execution_count": null,
      "metadata": {
        "id": "h2xNDb87YpRN"
      },
      "outputs": [],
      "source": [
        "# instantiate lists to hold scalar performance metrics to plot later\n",
        "train_losses=[]\n",
        "valid_losses = []\n",
        "train_autoencoder_losses1=[]\n",
        "train_autoencoder_losses2=[]\n",
        "train_classifier_losses=[]\n",
        "\n",
        "\n",
        "valid_autoencoder_losses1=[]\n",
        "valid_autoencoder_losses2=[]\n",
        "valid_classifier_losses=[]"
      ]
    },
    {
      "cell_type": "code",
      "execution_count": null,
      "metadata": {
        "colab": {
          "base_uri": "https://localhost:8080/",
          "height": 264,
          "referenced_widgets": [
            "2c4fc59f2a634d3d8e526e158d5992fd",
            "715836214af845c59f7030221ec1876a",
            "a401a7cd4e0e4afd90c6bbed323f3197",
            "3f9bd7b7a35046a3818b362fc7192c5b",
            "0e310daa6d3b40e8b3b6d15e5494e6c7",
            "a478b21480aa4f5988985d9db1f6bd98",
            "f17862705b14478abd1910b2e34de438",
            "3c50872dd0984d96acc507e4ea23e3b8",
            "b43d4908ff6d4cfba2413d6dff23b3f1",
            "6f7434cdfdc24ad2a70fb0dbac2bbb78",
            "eb5af02956cb48898a586f3261a816ad",
            "359a93f740e047669e40567d9b32bf1d",
            "39178124cd2e4320870d4726b4f01ef9",
            "3c7d1ebd1ea54fc3983c22dccbb0c9b4",
            "75592b43993b4517bd710156c80b3f2b",
            "85bab631a23a46ccb5be370742b91f75",
            "17aee58a75b54a9bafa0068fea5701f0",
            "4aea29810f06429da56b404476c75a05",
            "a85c955e313d4fb397d5b999fa7a31d8",
            "5e54421dce554a4ba3eb00adf9d427cf",
            "c32483aaf6f6482487e92ada53db9ec2",
            "8dd18b74d76949c0a39677d1d5d292e5",
            "4873d92f984945799b452d5a00f86593",
            "a653fe65503b4c0ab28525bded6bbd83",
            "4f91d2edf2c245ff926414182b0732fd",
            "e73b957392bc4661802161d4b9900950",
            "01dd25fd110445aea2a7a70edea0c881",
            "978156425e674530b87b2878ec24f306",
            "bfe6e4211ca64265a982e09c749aed54",
            "bb59abeb23c6429ca587402708608b09",
            "4e5c95c9ae15463bb3f88d7b598e7b8b",
            "06f5226b09b140f984525691a921764c",
            "0a53879d0ad149e5843c804bea85862c",
            "566599c9ac3246589feb43a70716d669",
            "b9e62dfbd1044dcf977ca08699bb63df",
            "4783cf95120f4ea1b1552e31ef326afd",
            "46dc5386f16f42a3b1988c3f7d69b443",
            "9deea957ae164e93a87165d9e8b688ad",
            "3f054d1be9d944898e14fc5cc3ef39af",
            "4d86a8292f714452b942009c2b5f297d",
            "42208429f312406e8c8b7947e23e4fc0",
            "74770a0b6bcc4f81806a1259c9c1c3d7",
            "2d82cc7dec46439eaa3398c22714aea4",
            "d0c54113d9da4b87a1c4128fcdbd5667",
            "f1b205759d2849eabcce7cb864ae113b",
            "d392f7e8fefd4d1a9b3dee081b5a0ff3",
            "ec20ccf11f384a96818b131554443779",
            "302da2efefc84370a39b42e1cb01a5a3",
            "16a6ff02e4f4448e80f1dafeb25a9d2f",
            "f0533a4fefd1404aa05978582b071f1c",
            "879a3bc4e9cd4e208b0b647a2256cf8e",
            "727efd78a7014bf7ac5740e3bb636b79",
            "7101d9288e3f4dd6aa0bf287a68d9d29",
            "ae2915cfeb41465b9644d80fed0db4c6",
            "bdab37bf3445430f8be1bc87fb785d0f",
            "36e93ca6b895434faf610ea2a7caee66",
            "3efeb9010a0345cba8efe2fe21dfc345",
            "cd68371d18ab4714b390a92d54b5b550",
            "16fe2eb5599642d49b7cb39c6cfceb1e",
            "0c2284a17b2749b791caf2f9b18c84cf",
            "967bcbc8fa194bd190057c7a137d244a",
            "386a873bbafa45d0a54d6d2ba0282c76",
            "a578dd9d1b374313bf9badcec62dbb5c",
            "c1790609027d437bbe1196bc6ec05c6b",
            "9352a255e40e4a66a1708bcaea721c0d",
            "44fd090ca6ef44d4b89d07994da4ff59"
          ]
        },
        "id": "X216zyEUzerO",
        "outputId": "20826747-270e-4d91-c5c3-462a76fe7446"
      },
      "outputs": [
        {
          "output_type": "display_data",
          "data": {
            "text/plain": [
              "preprocessor_config.json:   0%|          | 0.00/159 [00:00<?, ?B/s]"
            ],
            "application/vnd.jupyter.widget-view+json": {
              "version_major": 2,
              "version_minor": 0,
              "model_id": "2c4fc59f2a634d3d8e526e158d5992fd"
            }
          },
          "metadata": {}
        },
        {
          "output_type": "display_data",
          "data": {
            "text/plain": [
              "tokenizer_config.json:   0%|          | 0.00/163 [00:00<?, ?B/s]"
            ],
            "application/vnd.jupyter.widget-view+json": {
              "version_major": 2,
              "version_minor": 0,
              "model_id": "359a93f740e047669e40567d9b32bf1d"
            }
          },
          "metadata": {}
        },
        {
          "output_type": "display_data",
          "data": {
            "text/plain": [
              "config.json:   0%|          | 0.00/1.60k [00:00<?, ?B/s]"
            ],
            "application/vnd.jupyter.widget-view+json": {
              "version_major": 2,
              "version_minor": 0,
              "model_id": "4873d92f984945799b452d5a00f86593"
            }
          },
          "metadata": {}
        },
        {
          "output_type": "display_data",
          "data": {
            "text/plain": [
              "vocab.json:   0%|          | 0.00/291 [00:00<?, ?B/s]"
            ],
            "application/vnd.jupyter.widget-view+json": {
              "version_major": 2,
              "version_minor": 0,
              "model_id": "566599c9ac3246589feb43a70716d669"
            }
          },
          "metadata": {}
        },
        {
          "output_type": "display_data",
          "data": {
            "text/plain": [
              "special_tokens_map.json:   0%|          | 0.00/85.0 [00:00<?, ?B/s]"
            ],
            "application/vnd.jupyter.widget-view+json": {
              "version_major": 2,
              "version_minor": 0,
              "model_id": "f1b205759d2849eabcce7cb864ae113b"
            }
          },
          "metadata": {}
        },
        {
          "output_type": "display_data",
          "data": {
            "text/plain": [
              "model.safetensors:   0%|          | 0.00/378M [00:00<?, ?B/s]"
            ],
            "application/vnd.jupyter.widget-view+json": {
              "version_major": 2,
              "version_minor": 0,
              "model_id": "36e93ca6b895434faf610ea2a7caee66"
            }
          },
          "metadata": {}
        },
        {
          "output_type": "stream",
          "name": "stderr",
          "text": [
            "Some weights of Wav2Vec2Model were not initialized from the model checkpoint at facebook/wav2vec2-base-960h and are newly initialized: ['wav2vec2.masked_spec_embed', 'wav2vec2.encoder.pos_conv_embed.conv.parametrizations.weight.original0', 'wav2vec2.encoder.pos_conv_embed.conv.parametrizations.weight.original1']\n",
            "You should probably TRAIN this model on a down-stream task to be able to use it for predictions and inference.\n"
          ]
        }
      ],
      "source": [
        "\n",
        "# Load the pretrained model and processor\n",
        "processor = Wav2Vec2Processor.from_pretrained(\"facebook/wav2vec2-base-960h\")\n",
        "w2v = Wav2Vec2Model.from_pretrained(\"facebook/wav2vec2-base-960h\")"
      ]
    },
    {
      "cell_type": "code",
      "execution_count": null,
      "metadata": {
        "id": "uT0GgS9mNxI5"
      },
      "outputs": [],
      "source": [
        "# features_train\n",
        "# features_valid\n",
        "# features_test"
      ]
    },
    {
      "cell_type": "code",
      "execution_count": null,
      "metadata": {
        "id": "AlAGsrcCiZFr"
      },
      "outputs": [],
      "source": []
    },
    {
      "cell_type": "code",
      "execution_count": null,
      "metadata": {
        "id": "fyy32mmECe5c"
      },
      "outputs": [],
      "source": [
        "# create training loop for one complete epoch (entire training set)\n",
        "def train(optimizer, model, num_epochs, X_train, Features_train, Y_train, Xvalid, features_valid, Yvalid, train_index, test_index):\n",
        "    e = 0\n",
        "\n",
        "    for epoch in range(num_epochs):\n",
        "\n",
        "        # set model to train phase\n",
        "        model.train()\n",
        "\n",
        "        # shuffle entire training set in each epoch to randomize minibatch order\n",
        "        train_indices = np.random.permutation(train_size)\n",
        "\n",
        "        # shuffle the training set for each epoch:\n",
        "        Features_train = Features_train[train_indices,:,:,:]\n",
        "        X_train = X_train[train_indices,:]\n",
        "        Y_train = Y_train[train_indices]\n",
        "        # print(X_train.shape,Y_train.shape, Features_train.shape)\n",
        "\n",
        "\n",
        "\n",
        "        # instantiate scalar values to keep track of progress after each epoch so we can stop training when appropriate\n",
        "        epoch_acc = 0\n",
        "        epoch_loss = 0\n",
        "        epoch_autoencoder_loss1 = 0\n",
        "        epoch_autoencoder_loss2 = 0\n",
        "        epoch_classifier_loss = 0\n",
        "\n",
        "\n",
        "\n",
        "\n",
        "        num_iterations = int(train_size / minibatch)\n",
        "\n",
        "        # create a loop for each minibatch of 32 samples:\n",
        "        for i in range(num_iterations):\n",
        "\n",
        "            # we have to track and update minibatch position for the current minibatch\n",
        "            # if we take a random batch position from a set, we almost certainly will skip some of the data in that set\n",
        "            # track minibatch position based on iteration number:\n",
        "            batch_start = i * minibatch\n",
        "            # ensure we don't go out of the bounds of our training set:\n",
        "            batch_end = min(batch_start + minibatch, train_size)\n",
        "            # ensure we don't have an index error\n",
        "            actual_batch_size = batch_end-batch_start\n",
        "\n",
        "            # get training minibatch with all channnels and 2D feature dims\n",
        "            features_train = Features_train[batch_start:batch_end,:,:,:]\n",
        "            # print('\\n',features_train.shape)\n",
        "\n",
        "            X = X_train[batch_start:batch_end,:]\n",
        "            # print(\"pr:\", X.shape)\n",
        "\n",
        "            audio_input = processor(X,\n",
        "                                    sampling_rate=16000,\n",
        "                                    return_tensors=\"pt\")\n",
        "            with torch.no_grad():\n",
        "              X = w2v(**audio_input).last_hidden_state\n",
        "\n",
        "            # print(\"after:\", X.shape)\n",
        "\n",
        "\n",
        "\n",
        "\n",
        "            # get training minibatch labels\n",
        "            Y = Y_train[batch_start:batch_end]\n",
        "\n",
        "            # instantiate training tensors\n",
        "            X_tensor = torch.tensor(X, device=device).float()\n",
        "            features_train = torch.tensor(features_train, device=device).float()\n",
        "\n",
        "            Y_tensor = torch.tensor(Y, dtype=torch.long,device=device)\n",
        "            # Pass input tensors thru 1 training step (fwd+backwards pass)\n",
        "\n",
        "            loss, acc, autoencoder_loss1, autoencoder_loss2, classifier_loss = train_step(features_train, X_tensor,Y_tensor)\n",
        "\n",
        "            # aggregate batch accuracy to measure progress of entire epoch\n",
        "            epoch_acc += acc * actual_batch_size / train_size\n",
        "            epoch_loss += loss * actual_batch_size / train_size\n",
        "            epoch_autoencoder_loss1 += autoencoder_loss1 * actual_batch_size / train_size\n",
        "            epoch_autoencoder_loss2 += autoencoder_loss2 * actual_batch_size / train_size\n",
        "            epoch_classifier_loss += classifier_loss * actual_batch_size / train_size\n",
        "            e = epoch\n",
        "\n",
        "            # keep track of the iteration to see if the model's too slow\n",
        "\n",
        "\n",
        "        # create tensors from validation set\n",
        "        valid_audio_input = processor(Xvalid,\n",
        "                                      sampling_rate=16000,\n",
        "                                      return_tensors=\"pt\")\n",
        "        with torch.no_grad():\n",
        "          valid_audio_input_feature = w2v(**valid_audio_input).last_hidden_state\n",
        "        X_valid_tensor = torch.tensor(valid_audio_input_feature,device=device).float()\n",
        "        features_valid = torch.tensor(features_valid,device=device).float()\n",
        "        Y_valid_tensor = torch.tensor(Yvalid,dtype=torch.long,device=device)\n",
        "\n",
        "        # calculate validation metrics to keep track of progress; don't need predictions now\n",
        "        valid_loss, valid_acc, valid_autoencoder_loss1, valid_autoencoder_loss2, valid_classifier_loss, _ = validate(features_valid,\n",
        "                                                                                                                    X_valid_tensor,\n",
        "                                                                                                                     Y_valid_tensor)\n",
        "\n",
        "        # accumulate scalar performance metrics at each epoch to track and plot later\n",
        "        train_losses.append(epoch_loss)\n",
        "        train_autoencoder_losses1.append(epoch_autoencoder_loss1)\n",
        "        train_autoencoder_losses2.append(epoch_autoencoder_loss2)\n",
        "        train_classifier_losses.append(epoch_classifier_loss)\n",
        "\n",
        "\n",
        "\n",
        "        valid_losses.append(valid_loss)\n",
        "        valid_autoencoder_losses1.append(valid_autoencoder_loss1)\n",
        "        valid_autoencoder_losses2.append(valid_autoencoder_loss2)\n",
        "        valid_classifier_losses.append(valid_classifier_loss )\n",
        "\n",
        "\n",
        "        # Save checkpoint of the model\n",
        "        checkpoint_filename = '/content/gdrive/MyDrive/att_w2v_kfold/k10/k_10_kfold-att_w2v_SpatialAttention_and_channel_attention_dropout.pkl'\n",
        "        save_checkpoint(optimizer, model, epoch, checkpoint_filename)\n",
        "\n",
        "                ###### SAVE #########\n",
        "        # choose save file name\n",
        "        filename = '/content/gdrive/MyDrive/att_w2v_kfold/k10/losses.npy'\n",
        "\n",
        "        # open file in write mode and write data\n",
        "        with open(filename, 'wb') as f:\n",
        "            np.save(f, train_losses)\n",
        "            np.save(f, train_autoencoder_losses1)\n",
        "            np.save(f, train_autoencoder_losses2)\n",
        "            np.save(f, train_classifier_losses)\n",
        "            np.save(f, valid_losses)\n",
        "            np.save(f, valid_autoencoder_losses1)\n",
        "            np.save(f, valid_autoencoder_losses2)\n",
        "            np.save(f, valid_classifier_losses)\n",
        "\n",
        "\n",
        "        # print(f'Features and labels saved to {filename}')\n",
        "        # print('\\r'+f'Epoch {e}, end='')\n",
        "\n",
        "        # keep track of each epoch's progress\n",
        "        # if epoch == num_epochs-1:\n",
        "        print(f'\\nEpoch {epoch} --- loss:{epoch_loss:.3f}, Epoch accuracy:{epoch_acc:.2f}%, Validation loss:{valid_loss:.3f}, Validation accuracy:{valid_acc:.2f}%')\n",
        "        print(f'\\nEpoch {epoch} --- epoch_autoencoder_loss1:{epoch_autoencoder_loss1:.3f}, epoch_autoencoder_loss2:{epoch_autoencoder_loss2 :.2f}, epoch_classifier_loss:{epoch_classifier_loss:.3f}')\n",
        "        print(f'\\nEpoch {epoch} --- valid_autoencoder_loss1:{valid_autoencoder_loss1 :.3f}, valid_autoencoder_loss2:{valid_autoencoder_loss2:.2f}, valid_classifier_loss:{valid_classifier_loss:.3f}\\n\\n')\n",
        "\n",
        "\n"
      ]
    },
    {
      "cell_type": "code",
      "execution_count": null,
      "metadata": {
        "colab": {
          "base_uri": "https://localhost:8080/"
        },
        "id": "eIonIcW5Alq8",
        "outputId": "ec47bb61-4272-497a-a6e8-f2c029982462"
      },
      "outputs": [
        {
          "output_type": "stream",
          "name": "stdout",
          "text": [
            "(3483, 48000) (387, 48000) (3483, 1, 40, 94) (387, 1, 40, 94)\n"
          ]
        }
      ],
      "source": [
        "import random\n",
        "from sklearn.ensemble import RandomForestClassifier\n",
        "from sklearn.model_selection import KFold\n",
        "kfold = KFold(n_splits=10, shuffle=True, random_state=42)\n",
        "i = 0\n",
        "\n",
        "train_index, test_index = list(kfold.split(X_train, y_train))[9]\n",
        "\n",
        "Xtrain, Xvalid = X_train[train_index], X_train[test_index]\n",
        "ytrain, yvalid = y_train[train_index], y_train[test_index]\n",
        "FeaturesTrain, FeaturesValid = features_train[train_index], features_train[test_index]\n",
        "print(Xtrain.shape, Xvalid.shape, FeaturesTrain.shape, FeaturesValid.shape)\n",
        "train_size = Xtrain.shape[0]\n",
        "\n",
        "\n",
        "\n",
        "\n",
        "\n"
      ]
    },
    {
      "cell_type": "code",
      "execution_count": null,
      "metadata": {
        "colab": {
          "base_uri": "https://localhost:8080/"
        },
        "id": "Kc52hNzRCTMX",
        "outputId": "9f67b8f8-b623-4414-90be-3544a10c7ca3"
      },
      "outputs": [
        {
          "output_type": "stream",
          "name": "stdout",
          "text": [
            "\n",
            "Epoch 0 --- loss:2.067, Epoch accuracy:21.10%, Validation loss:2.080, Validation accuracy:23.82%\n",
            "\n",
            "Epoch 0 --- epoch_autoencoder_loss1:1.041, epoch_autoencoder_loss2:1.07, epoch_classifier_loss:2.036\n",
            "\n",
            "Epoch 0 --- valid_autoencoder_loss1:1.053, valid_autoencoder_loss2:1.06, valid_classifier_loss:1.914\n",
            "\n",
            "\n",
            "\n",
            "Epoch 1 --- loss:1.770, Epoch accuracy:35.95%, Validation loss:1.950, Validation accuracy:25.88%\n",
            "\n",
            "Epoch 1 --- epoch_autoencoder_loss1:0.966, epoch_autoencoder_loss2:0.99, epoch_classifier_loss:1.647\n",
            "\n",
            "Epoch 1 --- valid_autoencoder_loss1:1.017, valid_autoencoder_loss2:1.05, valid_classifier_loss:1.728\n",
            "\n",
            "\n",
            "\n",
            "Epoch 2 --- loss:1.665, Epoch accuracy:43.24%, Validation loss:1.883, Validation accuracy:31.83%\n",
            "\n",
            "Epoch 2 --- epoch_autoencoder_loss1:0.947, epoch_autoencoder_loss2:0.98, epoch_classifier_loss:1.492\n",
            "\n",
            "Epoch 2 --- valid_autoencoder_loss1:0.999, valid_autoencoder_loss2:1.04, valid_classifier_loss:1.636\n",
            "\n",
            "\n",
            "\n",
            "Epoch 3 --- loss:1.586, Epoch accuracy:46.63%, Validation loss:1.889, Validation accuracy:32.34%\n",
            "\n",
            "Epoch 3 --- epoch_autoencoder_loss1:0.935, epoch_autoencoder_loss2:0.97, epoch_classifier_loss:1.373\n",
            "\n",
            "Epoch 3 --- valid_autoencoder_loss1:0.986, valid_autoencoder_loss2:1.03, valid_classifier_loss:1.660\n",
            "\n",
            "\n",
            "\n",
            "Epoch 4 --- loss:1.545, Epoch accuracy:50.30%, Validation loss:1.914, Validation accuracy:31.31%\n",
            "\n",
            "Epoch 4 --- epoch_autoencoder_loss1:0.927, epoch_autoencoder_loss2:0.96, epoch_classifier_loss:1.315\n",
            "\n",
            "Epoch 4 --- valid_autoencoder_loss1:0.980, valid_autoencoder_loss2:1.02, valid_classifier_loss:1.709\n",
            "\n",
            "\n",
            "\n",
            "Epoch 5 --- loss:1.487, Epoch accuracy:53.20%, Validation loss:1.772, Validation accuracy:37.25%\n",
            "\n",
            "Epoch 5 --- epoch_autoencoder_loss1:0.922, epoch_autoencoder_loss2:0.96, epoch_classifier_loss:1.224\n",
            "\n",
            "Epoch 5 --- valid_autoencoder_loss1:0.972, valid_autoencoder_loss2:1.02, valid_classifier_loss:1.482\n",
            "\n",
            "\n",
            "\n",
            "Epoch 6 --- loss:1.457, Epoch accuracy:54.84%, Validation loss:1.636, Validation accuracy:46.30%\n",
            "\n",
            "Epoch 6 --- epoch_autoencoder_loss1:0.917, epoch_autoencoder_loss2:0.96, epoch_classifier_loss:1.180\n",
            "\n",
            "Epoch 6 --- valid_autoencoder_loss1:0.968, valid_autoencoder_loss2:1.01, valid_classifier_loss:1.261\n",
            "\n",
            "\n",
            "\n",
            "Epoch 7 --- loss:1.398, Epoch accuracy:58.51%, Validation loss:1.560, Validation accuracy:49.66%\n",
            "\n",
            "Epoch 7 --- epoch_autoencoder_loss1:0.913, epoch_autoencoder_loss2:0.95, epoch_classifier_loss:1.087\n",
            "\n",
            "Epoch 7 --- valid_autoencoder_loss1:0.968, valid_autoencoder_loss2:1.00, valid_classifier_loss:1.140\n",
            "\n",
            "\n",
            "\n",
            "Epoch 8 --- loss:1.376, Epoch accuracy:59.29%, Validation loss:1.562, Validation accuracy:52.24%\n",
            "\n",
            "Epoch 8 --- epoch_autoencoder_loss1:0.910, epoch_autoencoder_loss2:0.95, epoch_classifier_loss:1.055\n",
            "\n",
            "Epoch 8 --- valid_autoencoder_loss1:0.962, valid_autoencoder_loss2:1.00, valid_classifier_loss:1.150\n",
            "\n",
            "\n",
            "\n",
            "Epoch 9 --- loss:1.333, Epoch accuracy:61.76%, Validation loss:1.493, Validation accuracy:55.34%\n",
            "\n",
            "Epoch 9 --- epoch_autoencoder_loss1:0.906, epoch_autoencoder_loss2:0.94, epoch_classifier_loss:0.987\n",
            "\n",
            "Epoch 9 --- valid_autoencoder_loss1:0.958, valid_autoencoder_loss2:1.00, valid_classifier_loss:1.039\n",
            "\n",
            "\n",
            "\n",
            "Epoch 10 --- loss:1.296, Epoch accuracy:63.77%, Validation loss:1.477, Validation accuracy:58.96%\n",
            "\n",
            "Epoch 10 --- epoch_autoencoder_loss1:0.905, epoch_autoencoder_loss2:0.94, epoch_classifier_loss:0.929\n",
            "\n",
            "Epoch 10 --- valid_autoencoder_loss1:0.957, valid_autoencoder_loss2:1.00, valid_classifier_loss:1.015\n",
            "\n",
            "\n",
            "\n",
            "Epoch 11 --- loss:1.282, Epoch accuracy:65.40%, Validation loss:1.447, Validation accuracy:58.18%\n",
            "\n",
            "Epoch 11 --- epoch_autoencoder_loss1:0.904, epoch_autoencoder_loss2:0.94, epoch_classifier_loss:0.906\n",
            "\n",
            "Epoch 11 --- valid_autoencoder_loss1:0.957, valid_autoencoder_loss2:0.99, valid_classifier_loss:0.969\n",
            "\n",
            "\n",
            "\n",
            "Epoch 12 --- loss:1.257, Epoch accuracy:66.84%, Validation loss:1.464, Validation accuracy:56.12%\n",
            "\n",
            "Epoch 12 --- epoch_autoencoder_loss1:0.902, epoch_autoencoder_loss2:0.94, epoch_classifier_loss:0.868\n",
            "\n",
            "Epoch 12 --- valid_autoencoder_loss1:0.952, valid_autoencoder_loss2:0.99, valid_classifier_loss:0.999\n",
            "\n",
            "\n",
            "\n",
            "Epoch 13 --- loss:1.236, Epoch accuracy:68.33%, Validation loss:1.405, Validation accuracy:59.99%\n",
            "\n",
            "Epoch 13 --- epoch_autoencoder_loss1:0.899, epoch_autoencoder_loss2:0.94, epoch_classifier_loss:0.838\n",
            "\n",
            "Epoch 13 --- valid_autoencoder_loss1:0.951, valid_autoencoder_loss2:0.99, valid_classifier_loss:0.903\n",
            "\n",
            "\n",
            "\n",
            "Epoch 14 --- loss:1.208, Epoch accuracy:68.53%, Validation loss:1.347, Validation accuracy:65.68%\n",
            "\n",
            "Epoch 14 --- epoch_autoencoder_loss1:0.899, epoch_autoencoder_loss2:0.93, epoch_classifier_loss:0.791\n",
            "\n",
            "Epoch 14 --- valid_autoencoder_loss1:0.952, valid_autoencoder_loss2:0.99, valid_classifier_loss:0.807\n",
            "\n",
            "\n",
            "\n",
            "Epoch 15 --- loss:1.189, Epoch accuracy:70.08%, Validation loss:1.404, Validation accuracy:59.99%\n",
            "\n",
            "Epoch 15 --- epoch_autoencoder_loss1:0.897, epoch_autoencoder_loss2:0.93, epoch_classifier_loss:0.762\n",
            "\n",
            "Epoch 15 --- valid_autoencoder_loss1:0.948, valid_autoencoder_loss2:0.99, valid_classifier_loss:0.905\n",
            "\n",
            "\n",
            "\n",
            "Epoch 16 --- loss:1.164, Epoch accuracy:72.93%, Validation loss:1.298, Validation accuracy:63.87%\n",
            "\n",
            "Epoch 16 --- epoch_autoencoder_loss1:0.896, epoch_autoencoder_loss2:0.93, epoch_classifier_loss:0.721\n",
            "\n",
            "Epoch 16 --- valid_autoencoder_loss1:0.950, valid_autoencoder_loss2:0.98, valid_classifier_loss:0.730\n",
            "\n",
            "\n",
            "\n",
            "Epoch 17 --- loss:1.150, Epoch accuracy:72.84%, Validation loss:1.353, Validation accuracy:61.54%\n",
            "\n",
            "Epoch 17 --- epoch_autoencoder_loss1:0.894, epoch_autoencoder_loss2:0.93, epoch_classifier_loss:0.701\n",
            "\n",
            "Epoch 17 --- valid_autoencoder_loss1:0.945, valid_autoencoder_loss2:0.98, valid_classifier_loss:0.825\n",
            "\n",
            "\n",
            "\n",
            "Epoch 18 --- loss:1.135, Epoch accuracy:74.30%, Validation loss:1.276, Validation accuracy:67.49%\n",
            "\n",
            "Epoch 18 --- epoch_autoencoder_loss1:0.893, epoch_autoencoder_loss2:0.93, epoch_classifier_loss:0.677\n",
            "\n",
            "Epoch 18 --- valid_autoencoder_loss1:0.946, valid_autoencoder_loss2:0.98, valid_classifier_loss:0.696\n",
            "\n",
            "\n",
            "\n",
            "Epoch 19 --- loss:1.110, Epoch accuracy:75.91%, Validation loss:1.278, Validation accuracy:69.04%\n",
            "\n",
            "Epoch 19 --- epoch_autoencoder_loss1:0.892, epoch_autoencoder_loss2:0.93, epoch_classifier_loss:0.637\n",
            "\n",
            "Epoch 19 --- valid_autoencoder_loss1:0.946, valid_autoencoder_loss2:0.98, valid_classifier_loss:0.702\n",
            "\n",
            "\n",
            "\n",
            "Epoch 20 --- loss:1.095, Epoch accuracy:76.11%, Validation loss:1.265, Validation accuracy:68.00%\n",
            "\n",
            "Epoch 20 --- epoch_autoencoder_loss1:0.891, epoch_autoencoder_loss2:0.93, epoch_classifier_loss:0.614\n",
            "\n",
            "Epoch 20 --- valid_autoencoder_loss1:0.943, valid_autoencoder_loss2:0.98, valid_classifier_loss:0.685\n",
            "\n",
            "\n",
            "\n",
            "Epoch 21 --- loss:1.090, Epoch accuracy:76.97%, Validation loss:1.229, Validation accuracy:70.07%\n",
            "\n",
            "Epoch 21 --- epoch_autoencoder_loss1:0.890, epoch_autoencoder_loss2:0.93, epoch_classifier_loss:0.607\n",
            "\n",
            "Epoch 21 --- valid_autoencoder_loss1:0.943, valid_autoencoder_loss2:0.98, valid_classifier_loss:0.622\n",
            "\n",
            "\n",
            "\n",
            "Epoch 22 --- loss:1.074, Epoch accuracy:77.63%, Validation loss:1.235, Validation accuracy:70.33%\n",
            "\n",
            "Epoch 22 --- epoch_autoencoder_loss1:0.888, epoch_autoencoder_loss2:0.92, epoch_classifier_loss:0.583\n",
            "\n",
            "Epoch 22 --- valid_autoencoder_loss1:0.943, valid_autoencoder_loss2:0.97, valid_classifier_loss:0.635\n",
            "\n",
            "\n",
            "\n",
            "Epoch 23 --- loss:1.061, Epoch accuracy:78.50%, Validation loss:1.173, Validation accuracy:74.72%\n",
            "\n",
            "Epoch 23 --- epoch_autoencoder_loss1:0.888, epoch_autoencoder_loss2:0.92, epoch_classifier_loss:0.561\n",
            "\n",
            "Epoch 23 --- valid_autoencoder_loss1:0.941, valid_autoencoder_loss2:0.97, valid_classifier_loss:0.534\n",
            "\n",
            "\n",
            "\n",
            "Epoch 24 --- loss:1.030, Epoch accuracy:81.11%, Validation loss:1.181, Validation accuracy:74.72%\n",
            "\n",
            "Epoch 24 --- epoch_autoencoder_loss1:0.888, epoch_autoencoder_loss2:0.92, epoch_classifier_loss:0.510\n",
            "\n",
            "Epoch 24 --- valid_autoencoder_loss1:0.938, valid_autoencoder_loss2:0.97, valid_classifier_loss:0.550\n",
            "\n",
            "\n",
            "\n",
            "Epoch 25 --- loss:1.014, Epoch accuracy:81.65%, Validation loss:1.204, Validation accuracy:72.40%\n",
            "\n",
            "Epoch 25 --- epoch_autoencoder_loss1:0.886, epoch_autoencoder_loss2:0.92, epoch_classifier_loss:0.485\n",
            "\n",
            "Epoch 25 --- valid_autoencoder_loss1:0.941, valid_autoencoder_loss2:0.97, valid_classifier_loss:0.588\n",
            "\n",
            "\n",
            "\n",
            "Epoch 26 --- loss:1.013, Epoch accuracy:81.74%, Validation loss:1.231, Validation accuracy:71.36%\n",
            "\n",
            "Epoch 26 --- epoch_autoencoder_loss1:0.885, epoch_autoencoder_loss2:0.92, epoch_classifier_loss:0.486\n",
            "\n",
            "Epoch 26 --- valid_autoencoder_loss1:0.939, valid_autoencoder_loss2:0.97, valid_classifier_loss:0.633\n",
            "\n",
            "\n",
            "\n",
            "Epoch 27 --- loss:1.002, Epoch accuracy:82.23%, Validation loss:1.151, Validation accuracy:75.75%\n",
            "\n",
            "Epoch 27 --- epoch_autoencoder_loss1:0.884, epoch_autoencoder_loss2:0.92, epoch_classifier_loss:0.470\n",
            "\n",
            "Epoch 27 --- valid_autoencoder_loss1:0.938, valid_autoencoder_loss2:0.97, valid_classifier_loss:0.504\n",
            "\n",
            "\n",
            "\n",
            "Epoch 28 --- loss:0.997, Epoch accuracy:82.46%, Validation loss:1.184, Validation accuracy:75.50%\n",
            "\n",
            "Epoch 28 --- epoch_autoencoder_loss1:0.884, epoch_autoencoder_loss2:0.92, epoch_classifier_loss:0.461\n",
            "\n",
            "Epoch 28 --- valid_autoencoder_loss1:0.939, valid_autoencoder_loss2:0.97, valid_classifier_loss:0.557\n",
            "\n",
            "\n",
            "\n",
            "Epoch 29 --- loss:0.994, Epoch accuracy:82.03%, Validation loss:1.156, Validation accuracy:75.75%\n",
            "\n",
            "Epoch 29 --- epoch_autoencoder_loss1:0.885, epoch_autoencoder_loss2:0.92, epoch_classifier_loss:0.455\n",
            "\n",
            "Epoch 29 --- valid_autoencoder_loss1:0.937, valid_autoencoder_loss2:0.97, valid_classifier_loss:0.512\n",
            "\n",
            "\n",
            "\n",
            "Epoch 30 --- loss:0.987, Epoch accuracy:83.26%, Validation loss:1.129, Validation accuracy:78.08%\n",
            "\n",
            "Epoch 30 --- epoch_autoencoder_loss1:0.884, epoch_autoencoder_loss2:0.92, epoch_classifier_loss:0.445\n",
            "\n",
            "Epoch 30 --- valid_autoencoder_loss1:0.937, valid_autoencoder_loss2:0.97, valid_classifier_loss:0.465\n",
            "\n",
            "\n",
            "\n",
            "Epoch 31 --- loss:0.970, Epoch accuracy:84.50%, Validation loss:1.158, Validation accuracy:75.50%\n",
            "\n",
            "Epoch 31 --- epoch_autoencoder_loss1:0.882, epoch_autoencoder_loss2:0.92, epoch_classifier_loss:0.418\n",
            "\n",
            "Epoch 31 --- valid_autoencoder_loss1:0.936, valid_autoencoder_loss2:0.97, valid_classifier_loss:0.516\n",
            "\n",
            "\n",
            "\n",
            "Epoch 32 --- loss:0.954, Epoch accuracy:84.84%, Validation loss:1.093, Validation accuracy:78.08%\n",
            "\n",
            "Epoch 32 --- epoch_autoencoder_loss1:0.882, epoch_autoencoder_loss2:0.92, epoch_classifier_loss:0.391\n",
            "\n",
            "Epoch 32 --- valid_autoencoder_loss1:0.936, valid_autoencoder_loss2:0.97, valid_classifier_loss:0.409\n",
            "\n",
            "\n",
            "\n",
            "Epoch 33 --- loss:0.956, Epoch accuracy:84.52%, Validation loss:1.090, Validation accuracy:78.86%\n",
            "\n",
            "Epoch 33 --- epoch_autoencoder_loss1:0.881, epoch_autoencoder_loss2:0.91, epoch_classifier_loss:0.397\n",
            "\n",
            "Epoch 33 --- valid_autoencoder_loss1:0.936, valid_autoencoder_loss2:0.96, valid_classifier_loss:0.405\n",
            "\n",
            "\n",
            "\n",
            "Epoch 34 --- loss:0.946, Epoch accuracy:85.53%, Validation loss:1.134, Validation accuracy:77.05%\n",
            "\n",
            "Epoch 34 --- epoch_autoencoder_loss1:0.881, epoch_autoencoder_loss2:0.91, epoch_classifier_loss:0.380\n",
            "\n",
            "Epoch 34 --- valid_autoencoder_loss1:0.933, valid_autoencoder_loss2:0.96, valid_classifier_loss:0.481\n",
            "\n",
            "\n",
            "\n",
            "Epoch 35 --- loss:0.939, Epoch accuracy:85.73%, Validation loss:1.088, Validation accuracy:79.89%\n",
            "\n",
            "Epoch 35 --- epoch_autoencoder_loss1:0.881, epoch_autoencoder_loss2:0.91, epoch_classifier_loss:0.368\n",
            "\n",
            "Epoch 35 --- valid_autoencoder_loss1:0.934, valid_autoencoder_loss2:0.96, valid_classifier_loss:0.404\n",
            "\n",
            "\n",
            "\n",
            "Epoch 36 --- loss:0.938, Epoch accuracy:86.97%, Validation loss:1.133, Validation accuracy:77.56%\n",
            "\n",
            "Epoch 36 --- epoch_autoencoder_loss1:0.880, epoch_autoencoder_loss2:0.91, epoch_classifier_loss:0.367\n",
            "\n",
            "Epoch 36 --- valid_autoencoder_loss1:0.934, valid_autoencoder_loss2:0.96, valid_classifier_loss:0.479\n",
            "\n",
            "\n",
            "\n",
            "Epoch 37 --- loss:0.927, Epoch accuracy:86.68%, Validation loss:1.114, Validation accuracy:79.37%\n",
            "\n",
            "Epoch 37 --- epoch_autoencoder_loss1:0.880, epoch_autoencoder_loss2:0.91, epoch_classifier_loss:0.349\n",
            "\n",
            "Epoch 37 --- valid_autoencoder_loss1:0.935, valid_autoencoder_loss2:0.96, valid_classifier_loss:0.446\n",
            "\n",
            "\n",
            "\n",
            "Epoch 38 --- loss:0.904, Epoch accuracy:88.14%, Validation loss:1.112, Validation accuracy:78.60%\n",
            "\n",
            "Epoch 38 --- epoch_autoencoder_loss1:0.880, epoch_autoencoder_loss2:0.91, epoch_classifier_loss:0.313\n",
            "\n",
            "Epoch 38 --- valid_autoencoder_loss1:0.933, valid_autoencoder_loss2:0.96, valid_classifier_loss:0.447\n",
            "\n",
            "\n",
            "\n",
            "Epoch 39 --- loss:0.911, Epoch accuracy:87.63%, Validation loss:1.095, Validation accuracy:80.41%\n",
            "\n",
            "Epoch 39 --- epoch_autoencoder_loss1:0.879, epoch_autoencoder_loss2:0.91, epoch_classifier_loss:0.324\n",
            "\n",
            "Epoch 39 --- valid_autoencoder_loss1:0.933, valid_autoencoder_loss2:0.96, valid_classifier_loss:0.419\n",
            "\n",
            "\n",
            "\n",
            "Epoch 40 --- loss:0.905, Epoch accuracy:87.97%, Validation loss:1.050, Validation accuracy:81.70%\n",
            "\n",
            "Epoch 40 --- epoch_autoencoder_loss1:0.879, epoch_autoencoder_loss2:0.91, epoch_classifier_loss:0.316\n",
            "\n",
            "Epoch 40 --- valid_autoencoder_loss1:0.932, valid_autoencoder_loss2:0.96, valid_classifier_loss:0.344\n",
            "\n",
            "\n",
            "\n",
            "Epoch 41 --- loss:0.905, Epoch accuracy:87.68%, Validation loss:1.058, Validation accuracy:82.21%\n",
            "\n",
            "Epoch 41 --- epoch_autoencoder_loss1:0.879, epoch_autoencoder_loss2:0.91, epoch_classifier_loss:0.316\n",
            "\n",
            "Epoch 41 --- valid_autoencoder_loss1:0.932, valid_autoencoder_loss2:0.96, valid_classifier_loss:0.358\n",
            "\n",
            "\n",
            "\n",
            "Epoch 42 --- loss:0.899, Epoch accuracy:88.86%, Validation loss:1.020, Validation accuracy:84.54%\n",
            "\n",
            "Epoch 42 --- epoch_autoencoder_loss1:0.877, epoch_autoencoder_loss2:0.91, epoch_classifier_loss:0.306\n",
            "\n",
            "Epoch 42 --- valid_autoencoder_loss1:0.931, valid_autoencoder_loss2:0.96, valid_classifier_loss:0.295\n",
            "\n",
            "\n",
            "\n",
            "Epoch 43 --- loss:0.894, Epoch accuracy:88.69%, Validation loss:1.077, Validation accuracy:81.18%\n",
            "\n",
            "Epoch 43 --- epoch_autoencoder_loss1:0.878, epoch_autoencoder_loss2:0.91, epoch_classifier_loss:0.298\n",
            "\n",
            "Epoch 43 --- valid_autoencoder_loss1:0.930, valid_autoencoder_loss2:0.96, valid_classifier_loss:0.391\n",
            "\n",
            "\n",
            "\n",
            "Epoch 44 --- loss:0.900, Epoch accuracy:87.54%, Validation loss:1.059, Validation accuracy:80.66%\n",
            "\n",
            "Epoch 44 --- epoch_autoencoder_loss1:0.876, epoch_autoencoder_loss2:0.91, epoch_classifier_loss:0.309\n",
            "\n",
            "Epoch 44 --- valid_autoencoder_loss1:0.931, valid_autoencoder_loss2:0.96, valid_classifier_loss:0.362\n",
            "\n",
            "\n",
            "\n",
            "Epoch 45 --- loss:0.895, Epoch accuracy:88.92%, Validation loss:1.059, Validation accuracy:80.92%\n",
            "\n",
            "Epoch 45 --- epoch_autoencoder_loss1:0.877, epoch_autoencoder_loss2:0.91, epoch_classifier_loss:0.302\n",
            "\n",
            "Epoch 45 --- valid_autoencoder_loss1:0.929, valid_autoencoder_loss2:0.96, valid_classifier_loss:0.363\n",
            "\n",
            "\n",
            "\n",
            "Epoch 46 --- loss:0.894, Epoch accuracy:88.34%, Validation loss:1.070, Validation accuracy:80.92%\n",
            "\n",
            "Epoch 46 --- epoch_autoencoder_loss1:0.876, epoch_autoencoder_loss2:0.91, epoch_classifier_loss:0.301\n",
            "\n",
            "Epoch 46 --- valid_autoencoder_loss1:0.929, valid_autoencoder_loss2:0.96, valid_classifier_loss:0.381\n",
            "\n",
            "\n",
            "\n",
            "Epoch 47 --- loss:0.888, Epoch accuracy:89.03%, Validation loss:1.056, Validation accuracy:81.44%\n",
            "\n",
            "Epoch 47 --- epoch_autoencoder_loss1:0.876, epoch_autoencoder_loss2:0.91, epoch_classifier_loss:0.291\n",
            "\n",
            "Epoch 47 --- valid_autoencoder_loss1:0.930, valid_autoencoder_loss2:0.96, valid_classifier_loss:0.357\n",
            "\n",
            "\n",
            "\n",
            "Epoch 48 --- loss:0.872, Epoch accuracy:89.87%, Validation loss:1.037, Validation accuracy:81.44%\n",
            "\n",
            "Epoch 48 --- epoch_autoencoder_loss1:0.876, epoch_autoencoder_loss2:0.91, epoch_classifier_loss:0.264\n",
            "\n",
            "Epoch 48 --- valid_autoencoder_loss1:0.930, valid_autoencoder_loss2:0.96, valid_classifier_loss:0.326\n",
            "\n",
            "\n",
            "\n",
            "Epoch 49 --- loss:0.887, Epoch accuracy:89.23%, Validation loss:1.037, Validation accuracy:81.18%\n",
            "\n",
            "Epoch 49 --- epoch_autoencoder_loss1:0.876, epoch_autoencoder_loss2:0.91, epoch_classifier_loss:0.290\n",
            "\n",
            "Epoch 49 --- valid_autoencoder_loss1:0.930, valid_autoencoder_loss2:0.96, valid_classifier_loss:0.326\n",
            "\n",
            "\n",
            "\n",
            "Epoch 50 --- loss:0.860, Epoch accuracy:90.81%, Validation loss:1.050, Validation accuracy:82.47%\n",
            "\n",
            "Epoch 50 --- epoch_autoencoder_loss1:0.876, epoch_autoencoder_loss2:0.91, epoch_classifier_loss:0.245\n",
            "\n",
            "Epoch 50 --- valid_autoencoder_loss1:0.929, valid_autoencoder_loss2:0.96, valid_classifier_loss:0.349\n",
            "\n",
            "\n",
            "\n",
            "Epoch 51 --- loss:0.839, Epoch accuracy:91.65%, Validation loss:1.043, Validation accuracy:81.96%\n",
            "\n",
            "Epoch 51 --- epoch_autoencoder_loss1:0.874, epoch_autoencoder_loss2:0.90, epoch_classifier_loss:0.213\n",
            "\n",
            "Epoch 51 --- valid_autoencoder_loss1:0.928, valid_autoencoder_loss2:0.95, valid_classifier_loss:0.338\n",
            "\n",
            "\n",
            "\n",
            "Epoch 52 --- loss:0.866, Epoch accuracy:90.27%, Validation loss:1.029, Validation accuracy:82.99%\n",
            "\n",
            "Epoch 52 --- epoch_autoencoder_loss1:0.875, epoch_autoencoder_loss2:0.91, epoch_classifier_loss:0.257\n",
            "\n",
            "Epoch 52 --- valid_autoencoder_loss1:0.928, valid_autoencoder_loss2:0.95, valid_classifier_loss:0.316\n",
            "\n",
            "\n",
            "\n",
            "Epoch 53 --- loss:0.857, Epoch accuracy:90.30%, Validation loss:1.047, Validation accuracy:82.21%\n",
            "\n",
            "Epoch 53 --- epoch_autoencoder_loss1:0.875, epoch_autoencoder_loss2:0.91, epoch_classifier_loss:0.242\n",
            "\n",
            "Epoch 53 --- valid_autoencoder_loss1:0.928, valid_autoencoder_loss2:0.95, valid_classifier_loss:0.347\n",
            "\n",
            "\n",
            "\n",
            "Epoch 54 --- loss:0.871, Epoch accuracy:89.81%, Validation loss:1.009, Validation accuracy:81.44%\n",
            "\n",
            "Epoch 54 --- epoch_autoencoder_loss1:0.874, epoch_autoencoder_loss2:0.90, epoch_classifier_loss:0.265\n",
            "\n",
            "Epoch 54 --- valid_autoencoder_loss1:0.925, valid_autoencoder_loss2:0.95, valid_classifier_loss:0.285\n",
            "\n",
            "\n",
            "\n",
            "Epoch 55 --- loss:0.850, Epoch accuracy:90.81%, Validation loss:1.007, Validation accuracy:82.99%\n",
            "\n",
            "Epoch 55 --- epoch_autoencoder_loss1:0.873, epoch_autoencoder_loss2:0.90, epoch_classifier_loss:0.231\n",
            "\n",
            "Epoch 55 --- valid_autoencoder_loss1:0.927, valid_autoencoder_loss2:0.95, valid_classifier_loss:0.281\n",
            "\n",
            "\n",
            "\n",
            "Epoch 56 --- loss:0.847, Epoch accuracy:91.50%, Validation loss:1.017, Validation accuracy:82.21%\n",
            "\n",
            "Epoch 56 --- epoch_autoencoder_loss1:0.873, epoch_autoencoder_loss2:0.90, epoch_classifier_loss:0.227\n",
            "\n",
            "Epoch 56 --- valid_autoencoder_loss1:0.927, valid_autoencoder_loss2:0.95, valid_classifier_loss:0.297\n",
            "\n",
            "\n",
            "\n",
            "Epoch 57 --- loss:0.853, Epoch accuracy:90.81%, Validation loss:1.053, Validation accuracy:81.96%\n",
            "\n",
            "Epoch 57 --- epoch_autoencoder_loss1:0.872, epoch_autoencoder_loss2:0.90, epoch_classifier_loss:0.239\n",
            "\n",
            "Epoch 57 --- valid_autoencoder_loss1:0.925, valid_autoencoder_loss2:0.95, valid_classifier_loss:0.360\n",
            "\n",
            "\n",
            "\n",
            "Epoch 58 --- loss:0.850, Epoch accuracy:91.04%, Validation loss:1.015, Validation accuracy:85.06%\n",
            "\n",
            "Epoch 58 --- epoch_autoencoder_loss1:0.872, epoch_autoencoder_loss2:0.90, epoch_classifier_loss:0.233\n",
            "\n",
            "Epoch 58 --- valid_autoencoder_loss1:0.926, valid_autoencoder_loss2:0.95, valid_classifier_loss:0.296\n",
            "\n",
            "\n",
            "\n",
            "Epoch 59 --- loss:0.836, Epoch accuracy:91.36%, Validation loss:1.003, Validation accuracy:84.54%\n",
            "\n",
            "Epoch 59 --- epoch_autoencoder_loss1:0.872, epoch_autoencoder_loss2:0.90, epoch_classifier_loss:0.211\n",
            "\n",
            "Epoch 59 --- valid_autoencoder_loss1:0.925, valid_autoencoder_loss2:0.95, valid_classifier_loss:0.276\n",
            "\n",
            "\n"
          ]
        }
      ],
      "source": [
        "num_epochs = 60\n",
        "\n",
        "# train it!\n",
        "train(optimizer, model, num_epochs, Xtrain, FeaturesTrain, ytrain, Xvalid, FeaturesValid, yvalid, train_index, test_index)"
      ]
    },
    {
      "cell_type": "code",
      "execution_count": null,
      "metadata": {
        "colab": {
          "base_uri": "https://localhost:8080/",
          "height": 478
        },
        "id": "EqPuvmdpDCm7",
        "outputId": "851a7416-2fc0-4066-8b76-8c19490cad13"
      },
      "outputs": [
        {
          "output_type": "display_data",
          "data": {
            "text/plain": [
              "<Figure size 640x480 with 1 Axes>"
            ],
            "image/png": "[encoded data removed]"
          },
          "metadata": {}
        }
      ],
      "source": [
        "plt.title('Loss Curve for Parallel is All You Want Model')\n",
        "plt.ylabel('Loss', fontsize=16)\n",
        "plt.xlabel('Epoch', fontsize=16)\n",
        "plt.plot(train_losses[:],'b')\n",
        "plt.plot(valid_losses[:],'r')\n",
        "plt.legend(['Training loss','Validation loss'])\n",
        "plt.show()"
      ]
    },
    {
      "cell_type": "code",
      "execution_count": null,
      "metadata": {
        "id": "BzTsga6iFPMz"
      },
      "outputs": [],
      "source": [
        "        # open file in write mode and write data\n",
        "filename = '/content/gdrive/MyDrive/att_w2v_kfold/k10/losses.npy'\n",
        "\n",
        "with open(filename, 'rb') as f:\n",
        "    train_losses = np.load(f)\n",
        "    train_autoencoder_losses1 =  np.load(f)\n",
        "    train_autoencoder_losses2 = np.load(f)\n",
        "    train_classifier_losses = np.load(f)\n",
        "    valid_losses = np.load(f)\n",
        "    valid_autoencoder_losses1 = np.load(f)\n",
        "    valid_autoencoder_losses2 = np.load(f)\n",
        "    valid_classifier_losses = np.load(f)"
      ]
    },
    {
      "cell_type": "code",
      "execution_count": null,
      "metadata": {
        "colab": {
          "base_uri": "https://localhost:8080/",
          "height": 478
        },
        "id": "K3riEVzDRToM",
        "outputId": "0771a631-9b34-4dc2-915a-46b68f417acf"
      },
      "outputs": [
        {
          "output_type": "display_data",
          "data": {
            "text/plain": [
              "<Figure size 640x480 with 1 Axes>"
            ],
            "image/png": "[encoded data removed]"
          },
          "metadata": {}
        }
      ],
      "source": [
        "plt.title('Loss Curve for Parallel is All You Want Model')\n",
        "plt.ylabel('Loss', fontsize=16)\n",
        "plt.xlabel('Epoch', fontsize=16)\n",
        "plt.plot(train_losses[:],'b')\n",
        "plt.plot(valid_losses[:],'r')\n",
        "plt.legend(['Training loss','Validation loss'])\n",
        "plt.show()"
      ]
    },
    {
      "cell_type": "code",
      "execution_count": null,
      "metadata": {
        "id": "WSZ26FjXih7u"
      },
      "outputs": [],
      "source": [
        "        # # create tensors from validation set\n",
        "        # valid_audio_input = processor(Xvalid,\n",
        "        #                               sampling_rate=16000,\n",
        "        #                               return_tensors=\"pt\")\n",
        "        # with torch.no_grad():\n",
        "        #   valid_audio_input_feature = w2v(**valid_audio_input).last_hidden_state\n",
        "        # X_valid_tensor = torch.tensor(valid_audio_input_feature,device=device).float()\n",
        "        # features_valid = torch.tensor(features_valid,device=device).float()\n",
        "        # Y_valid_tensor = torch.tensor(Yvalid,dtype=torch.long,device=device)\n",
        "\n",
        "        # # calculate validation metrics to keep track of progress; don't need predictions now\n",
        "        # valid_loss, valid_acc, valid_autoencoder_loss1, valid_autoencoder_loss2, valid_classifier_loss, _ = validate(features_valid,\n",
        "        #                                                                                                             X_valid_tensor,\n",
        "        #                                                                                                              Y_valid_tensor)"
      ]
    },
    {
      "cell_type": "code",
      "execution_count": null,
      "metadata": {
        "colab": {
          "base_uri": "https://localhost:8080/"
        },
        "id": "cIRDgtp5Rui4",
        "outputId": "5a4c55bb-db9d-45ea-ebaf-ba056668340b"
      },
      "outputs": [
        {
          "output_type": "stream",
          "name": "stdout",
          "text": [
            "Loaded model from /content/gdrive/MyDrive/att_w2v_kfold/k10/k_10_kfold-att_w2v_SpatialAttention_and_channel_attention_dropout.pkl\n"
          ]
        }
      ],
      "source": [
        "# pick load folder\n",
        "load_folder = '/content/gdrive/MyDrive/att_w2v_kfold/k10'\n",
        "\n",
        "# pick the epoch to load\n",
        "epoch = '60'\n",
        "model_name = f'k_10_kfold-att_w2v_SpatialAttention_and_channel_attention_dropout.pkl'\n",
        "\n",
        "# make full load path\n",
        "load_path = os.path.join(load_folder, model_name)\n",
        "\n",
        "## instantiate empty model and populate with params from binary\n",
        "device = 'cuda' if  torch.cuda.is_available() else 'cpu'\n",
        "model = MultiTaskModel(len(emotions_dict)).to(device)\n",
        "load_checkpoint(optimizer, model, load_path)\n",
        "\n",
        "print(f'Loaded model from {load_path}')"
      ]
    },
    {
      "cell_type": "code",
      "execution_count": null,
      "metadata": {
        "colab": {
          "base_uri": "https://localhost:8080/"
        },
        "id": "Dv-FD2kPiQeb",
        "outputId": "e651a870-897b-40ad-c0c8-bf612852ad4c"
      },
      "outputs": [
        {
          "output_type": "stream",
          "name": "stdout",
          "text": [
            "Test accuracy is 77.39%\n"
          ]
        }
      ],
      "source": [
        "# reinitialize validation function with model from chosen checkpoint\n",
        "\n",
        "\n",
        "validate = make_validate_fnc(model,autoencoder_criterion, classifier_criterion)\n",
        "\n",
        "test_audio_input = processor(X_test,\n",
        "                              sampling_rate=16000,\n",
        "                              return_tensors=\"pt\")\n",
        "with torch.no_grad():\n",
        "  test_audio_input_feature = w2v(**test_audio_input).last_hidden_state\n",
        "\n",
        "# Convert 4D test feature set array to tensor and move to GPU\n",
        "X_test_tensor = torch.tensor(test_audio_input_feature,device=device).float()\n",
        "features_test = torch.tensor(features_test,device=device).float()\n",
        "\n",
        "# Convert 4D test label set array to tensor and move to GPU\n",
        "y_test_tensor = torch.tensor(y_test,dtype=torch.long,device=device)\n",
        "\n",
        "# Get the model's performance metrics using the validation function we defined\n",
        "test_loss, test_acc, test_autoencoder_loss1, test_autoencoder_loss2, test_classifier_loss, predicted_emotions = validate(features_test,\n",
        "                                                                                                                         X_test_tensor,\n",
        "                                                                                                                         y_test_tensor)\n",
        "print(f'Test accuracy is {test_acc:.2f}%')"
      ]
    },
    {
      "cell_type": "code",
      "execution_count": null,
      "metadata": {
        "id": "0GvCUtUkygoJ",
        "colab": {
          "base_uri": "https://localhost:8080/",
          "height": 551
        },
        "outputId": "63ab41d5-f807-4b04-c2df-4023635c03a5"
      },
      "outputs": [
        {
          "output_type": "display_data",
          "data": {
            "text/plain": [
              "<Figure size 1600x600 with 4 Axes>"
            ],
            "image/png": "[encoded data removed]"
          },
          "metadata": {}
        }
      ],
      "source": [
        "from sklearn.metrics import confusion_matrix\n",
        "import seaborn as sn\n",
        "\n",
        "# because model tested on GPU, move prediction tensor to CPU then convert to array\n",
        "predicted_emotions = predicted_emotions.cpu().numpy()\n",
        "# use labels from test set\n",
        "emotions_groundtruth = y_test\n",
        "\n",
        "# build confusion matrix and normalized confusion matrix\n",
        "conf_matrix = confusion_matrix(emotions_groundtruth, predicted_emotions)\n",
        "conf_matrix_norm = confusion_matrix(emotions_groundtruth, predicted_emotions,normalize='true')\n",
        "\n",
        "# set labels for matrix axes from emotions\n",
        "emotion_names = [emotion for emotion in emotions_dict.values()]\n",
        "\n",
        "# make a confusion matrix with labels using a DataFrame\n",
        "confmatrix_df = pd.DataFrame(conf_matrix, index=emotion_names, columns=emotion_names)\n",
        "confmatrix_df_norm = pd.DataFrame(conf_matrix_norm, index=emotion_names, columns=emotion_names)\n",
        "\n",
        "# plot confusion matrices\n",
        "plt.figure(figsize=(16,6))\n",
        "sn.set(font_scale=1.8) # emotion label and title size\n",
        "plt.subplot(1,2,1)\n",
        "plt.title('Confusion Matrix')\n",
        "sn.heatmap(confmatrix_df, annot=True, annot_kws={\"size\": 18}) #annot_kws is value font\n",
        "plt.subplot(1,2,2)\n",
        "plt.title('Normalized Confusion Matrix')\n",
        "sn.heatmap(confmatrix_df_norm, annot=True, annot_kws={\"size\": 13}) #annot_kws is value font\n",
        "\n",
        "plt.show()"
      ]
    },
    {
      "cell_type": "code",
      "execution_count": null,
      "metadata": {
        "id": "8w_t9wAwaYjF"
      },
      "outputs": [],
      "source": []
    }
  ],
  "metadata": {
    "colab": {
      "machine_shape": "hm",
      "provenance": [],
      "include_colab_link": true
    },
    "kernelspec": {
      "display_name": "KERNEL",
      "language": "python",
      "name": "kernel"
    },
    "language_info": {
      "codemirror_mode": {
        "name": "ipython",
        "version": 3
      },
      "file_extension": ".py",
      "mimetype": "text/x-python",
      "name": "python",
      "nbconvert_exporter": "python",
      "pygments_lexer": "ipython3",
      "version": "3.8.3"
    },
    "widgets": {
      "application/vnd.jupyter.widget-state+json": {
        "2c4fc59f2a634d3d8e526e158d5992fd": {
          "model_module": "@jupyter-widgets/controls",
          "model_name": "HBoxModel",
          "model_module_version": "1.5.0",
          "state": {
            "_dom_classes": [],
            "_model_module": "@jupyter-widgets/controls",
            "_model_module_version": "1.5.0",
            "_model_name": "HBoxModel",
            "_view_count": null,
            "_view_module": "@jupyter-widgets/controls",
            "_view_module_version": "1.5.0",
            "_view_name": "HBoxView",
            "box_style": "",
            "children": [
              "IPY_MODEL_715836214af845c59f7030221ec1876a",
              "IPY_MODEL_a401a7cd4e0e4afd90c6bbed323f3197",
              "IPY_MODEL_3f9bd7b7a35046a3818b362fc7192c5b"
            ],
            "layout": "IPY_MODEL_0e310daa6d3b40e8b3b6d15e5494e6c7"
          }
        },
        "715836214af845c59f7030221ec1876a": {
          "model_module": "@jupyter-widgets/controls",
          "model_name": "HTMLModel",
          "model_module_version": "1.5.0",
          "state": {
            "_dom_classes": [],
            "_model_module": "@jupyter-widgets/controls",
            "_model_module_version": "1.5.0",
            "_model_name": "HTMLModel",
            "_view_count": null,
            "_view_module": "@jupyter-widgets/controls",
            "_view_module_version": "1.5.0",
            "_view_name": "HTMLView",
            "description": "",
            "description_tooltip": null,
            "layout": "IPY_MODEL_a478b21480aa4f5988985d9db1f6bd98",
            "placeholder": "​",
            "style": "IPY_MODEL_f17862705b14478abd1910b2e34de438",
            "value": "preprocessor_config.json: 100%"
          }
        },
        "a401a7cd4e0e4afd90c6bbed323f3197": {
          "model_module": "@jupyter-widgets/controls",
          "model_name": "FloatProgressModel",
          "model_module_version": "1.5.0",
          "state": {
            "_dom_classes": [],
            "_model_module": "@jupyter-widgets/controls",
            "_model_module_version": "1.5.0",
            "_model_name": "FloatProgressModel",
            "_view_count": null,
            "_view_module": "@jupyter-widgets/controls",
            "_view_module_version": "1.5.0",
            "_view_name": "ProgressView",
            "bar_style": "success",
            "description": "",
            "description_tooltip": null,
            "layout": "IPY_MODEL_3c50872dd0984d96acc507e4ea23e3b8",
            "max": 159,
            "min": 0,
            "orientation": "horizontal",
            "style": "IPY_MODEL_b43d4908ff6d4cfba2413d6dff23b3f1",
            "value": 159
          }
        },
        "3f9bd7b7a35046a3818b362fc7192c5b": {
          "model_module": "@jupyter-widgets/controls",
          "model_name": "HTMLModel",
          "model_module_version": "1.5.0",
          "state": {
            "_dom_classes": [],
            "_model_module": "@jupyter-widgets/controls",
            "_model_module_version": "1.5.0",
            "_model_name": "HTMLModel",
            "_view_count": null,
            "_view_module": "@jupyter-widgets/controls",
            "_view_module_version": "1.5.0",
            "_view_name": "HTMLView",
            "description": "",
            "description_tooltip": null,
            "layout": "IPY_MODEL_6f7434cdfdc24ad2a70fb0dbac2bbb78",
            "placeholder": "​",
            "style": "IPY_MODEL_eb5af02956cb48898a586f3261a816ad",
            "value": " 159/159 [00:00&lt;00:00, 11.7kB/s]"
          }
        },
        "0e310daa6d3b40e8b3b6d15e5494e6c7": {
          "model_module": "@jupyter-widgets/base",
          "model_name": "LayoutModel",
          "model_module_version": "1.2.0",
          "state": {
            "_model_module": "@jupyter-widgets/base",
            "_model_module_version": "1.2.0",
            "_model_name": "LayoutModel",
            "_view_count": null,
            "_view_module": "@jupyter-widgets/base",
            "_view_module_version": "1.2.0",
            "_view_name": "LayoutView",
            "align_content": null,
            "align_items": null,
            "align_self": null,
            "border": null,
            "bottom": null,
            "display": null,
            "flex": null,
            "flex_flow": null,
            "grid_area": null,
            "grid_auto_columns": null,
            "grid_auto_flow": null,
            "grid_auto_rows": null,
            "grid_column": null,
            "grid_gap": null,
            "grid_row": null,
            "grid_template_areas": null,
            "grid_template_columns": null,
            "grid_template_rows": null,
            "height": null,
            "justify_content": null,
            "justify_items": null,
            "left": null,
            "margin": null,
            "max_height": null,
            "max_width": null,
            "min_height": null,
            "min_width": null,
            "object_fit": null,
            "object_position": null,
            "order": null,
            "overflow": null,
            "overflow_x": null,
            "overflow_y": null,
            "padding": null,
            "right": null,
            "top": null,
            "visibility": null,
            "width": null
          }
        },
        "a478b21480aa4f5988985d9db1f6bd98": {
          "model_module": "@jupyter-widgets/base",
          "model_name": "LayoutModel",
          "model_module_version": "1.2.0",
          "state": {
            "_model_module": "@jupyter-widgets/base",
            "_model_module_version": "1.2.0",
            "_model_name": "LayoutModel",
            "_view_count": null,
            "_view_module": "@jupyter-widgets/base",
            "_view_module_version": "1.2.0",
            "_view_name": "LayoutView",
            "align_content": null,
            "align_items": null,
            "align_self": null,
            "border": null,
            "bottom": null,
            "display": null,
            "flex": null,
            "flex_flow": null,
            "grid_area": null,
            "grid_auto_columns": null,
            "grid_auto_flow": null,
            "grid_auto_rows": null,
            "grid_column": null,
            "grid_gap": null,
            "grid_row": null,
            "grid_template_areas": null,
            "grid_template_columns": null,
            "grid_template_rows": null,
            "height": null,
            "justify_content": null,
            "justify_items": null,
            "left": null,
            "margin": null,
            "max_height": null,
            "max_width": null,
            "min_height": null,
            "min_width": null,
            "object_fit": null,
            "object_position": null,
            "order": null,
            "overflow": null,
            "overflow_x": null,
            "overflow_y": null,
            "padding": null,
            "right": null,
            "top": null,
            "visibility": null,
            "width": null
          }
        },
        "f17862705b14478abd1910b2e34de438": {
          "model_module": "@jupyter-widgets/controls",
          "model_name": "DescriptionStyleModel",
          "model_module_version": "1.5.0",
          "state": {
            "_model_module": "@jupyter-widgets/controls",
            "_model_module_version": "1.5.0",
            "_model_name": "DescriptionStyleModel",
            "_view_count": null,
            "_view_module": "@jupyter-widgets/base",
            "_view_module_version": "1.2.0",
            "_view_name": "StyleView",
            "description_width": ""
          }
        },
        "3c50872dd0984d96acc507e4ea23e3b8": {
          "model_module": "@jupyter-widgets/base",
          "model_name": "LayoutModel",
          "model_module_version": "1.2.0",
          "state": {
            "_model_module": "@jupyter-widgets/base",
            "_model_module_version": "1.2.0",
            "_model_name": "LayoutModel",
            "_view_count": null,
            "_view_module": "@jupyter-widgets/base",
            "_view_module_version": "1.2.0",
            "_view_name": "LayoutView",
            "align_content": null,
            "align_items": null,
            "align_self": null,
            "border": null,
            "bottom": null,
            "display": null,
            "flex": null,
            "flex_flow": null,
            "grid_area": null,
            "grid_auto_columns": null,
            "grid_auto_flow": null,
            "grid_auto_rows": null,
            "grid_column": null,
            "grid_gap": null,
            "grid_row": null,
            "grid_template_areas": null,
            "grid_template_columns": null,
            "grid_template_rows": null,
            "height": null,
            "justify_content": null,
            "justify_items": null,
            "left": null,
            "margin": null,
            "max_height": null,
            "max_width": null,
            "min_height": null,
            "min_width": null,
            "object_fit": null,
            "object_position": null,
            "order": null,
            "overflow": null,
            "overflow_x": null,
            "overflow_y": null,
            "padding": null,
            "right": null,
            "top": null,
            "visibility": null,
            "width": null
          }
        },
        "b43d4908ff6d4cfba2413d6dff23b3f1": {
          "model_module": "@jupyter-widgets/controls",
          "model_name": "ProgressStyleModel",
          "model_module_version": "1.5.0",
          "state": {
            "_model_module": "@jupyter-widgets/controls",
            "_model_module_version": "1.5.0",
            "_model_name": "ProgressStyleModel",
            "_view_count": null,
            "_view_module": "@jupyter-widgets/base",
            "_view_module_version": "1.2.0",
            "_view_name": "StyleView",
            "bar_color": null,
            "description_width": ""
          }
        },
        "6f7434cdfdc24ad2a70fb0dbac2bbb78": {
          "model_module": "@jupyter-widgets/base",
          "model_name": "LayoutModel",
          "model_module_version": "1.2.0",
          "state": {
            "_model_module": "@jupyter-widgets/base",
            "_model_module_version": "1.2.0",
            "_model_name": "LayoutModel",
            "_view_count": null,
            "_view_module": "@jupyter-widgets/base",
            "_view_module_version": "1.2.0",
            "_view_name": "LayoutView",
            "align_content": null,
            "align_items": null,
            "align_self": null,
            "border": null,
            "bottom": null,
            "display": null,
            "flex": null,
            "flex_flow": null,
            "grid_area": null,
            "grid_auto_columns": null,
            "grid_auto_flow": null,
            "grid_auto_rows": null,
            "grid_column": null,
            "grid_gap": null,
            "grid_row": null,
            "grid_template_areas": null,
            "grid_template_columns": null,
            "grid_template_rows": null,
            "height": null,
            "justify_content": null,
            "justify_items": null,
            "left": null,
            "margin": null,
            "max_height": null,
            "max_width": null,
            "min_height": null,
            "min_width": null,
            "object_fit": null,
            "object_position": null,
            "order": null,
            "overflow": null,
            "overflow_x": null,
            "overflow_y": null,
            "padding": null,
            "right": null,
            "top": null,
            "visibility": null,
            "width": null
          }
        },
        "eb5af02956cb48898a586f3261a816ad": {
          "model_module": "@jupyter-widgets/controls",
          "model_name": "DescriptionStyleModel",
          "model_module_version": "1.5.0",
          "state": {
            "_model_module": "@jupyter-widgets/controls",
            "_model_module_version": "1.5.0",
            "_model_name": "DescriptionStyleModel",
            "_view_count": null,
            "_view_module": "@jupyter-widgets/base",
            "_view_module_version": "1.2.0",
            "_view_name": "StyleView",
            "description_width": ""
          }
        },
        "359a93f740e047669e40567d9b32bf1d": {
          "model_module": "@jupyter-widgets/controls",
          "model_name": "HBoxModel",
          "model_module_version": "1.5.0",
          "state": {
            "_dom_classes": [],
            "_model_module": "@jupyter-widgets/controls",
            "_model_module_version": "1.5.0",
            "_model_name": "HBoxModel",
            "_view_count": null,
            "_view_module": "@jupyter-widgets/controls",
            "_view_module_version": "1.5.0",
            "_view_name": "HBoxView",
            "box_style": "",
            "children": [
              "IPY_MODEL_39178124cd2e4320870d4726b4f01ef9",
              "IPY_MODEL_3c7d1ebd1ea54fc3983c22dccbb0c9b4",
              "IPY_MODEL_75592b43993b4517bd710156c80b3f2b"
            ],
            "layout": "IPY_MODEL_85bab631a23a46ccb5be370742b91f75"
          }
        },
        "39178124cd2e4320870d4726b4f01ef9": {
          "model_module": "@jupyter-widgets/controls",
          "model_name": "HTMLModel",
          "model_module_version": "1.5.0",
          "state": {
            "_dom_classes": [],
            "_model_module": "@jupyter-widgets/controls",
            "_model_module_version": "1.5.0",
            "_model_name": "HTMLModel",
            "_view_count": null,
            "_view_module": "@jupyter-widgets/controls",
            "_view_module_version": "1.5.0",
            "_view_name": "HTMLView",
            "description": "",
            "description_tooltip": null,
            "layout": "IPY_MODEL_17aee58a75b54a9bafa0068fea5701f0",
            "placeholder": "​",
            "style": "IPY_MODEL_4aea29810f06429da56b404476c75a05",
            "value": "tokenizer_config.json: 100%"
          }
        },
        "3c7d1ebd1ea54fc3983c22dccbb0c9b4": {
          "model_module": "@jupyter-widgets/controls",
          "model_name": "FloatProgressModel",
          "model_module_version": "1.5.0",
          "state": {
            "_dom_classes": [],
            "_model_module": "@jupyter-widgets/controls",
            "_model_module_version": "1.5.0",
            "_model_name": "FloatProgressModel",
            "_view_count": null,
            "_view_module": "@jupyter-widgets/controls",
            "_view_module_version": "1.5.0",
            "_view_name": "ProgressView",
            "bar_style": "success",
            "description": "",
            "description_tooltip": null,
            "layout": "IPY_MODEL_a85c955e313d4fb397d5b999fa7a31d8",
            "max": 163,
            "min": 0,
            "orientation": "horizontal",
            "style": "IPY_MODEL_5e54421dce554a4ba3eb00adf9d427cf",
            "value": 163
          }
        },
        "75592b43993b4517bd710156c80b3f2b": {
          "model_module": "@jupyter-widgets/controls",
          "model_name": "HTMLModel",
          "model_module_version": "1.5.0",
          "state": {
            "_dom_classes": [],
            "_model_module": "@jupyter-widgets/controls",
            "_model_module_version": "1.5.0",
            "_model_name": "HTMLModel",
            "_view_count": null,
            "_view_module": "@jupyter-widgets/controls",
            "_view_module_version": "1.5.0",
            "_view_name": "HTMLView",
            "description": "",
            "description_tooltip": null,
            "layout": "IPY_MODEL_c32483aaf6f6482487e92ada53db9ec2",
            "placeholder": "​",
            "style": "IPY_MODEL_8dd18b74d76949c0a39677d1d5d292e5",
            "value": " 163/163 [00:00&lt;00:00, 13.2kB/s]"
          }
        },
        "85bab631a23a46ccb5be370742b91f75": {
          "model_module": "@jupyter-widgets/base",
          "model_name": "LayoutModel",
          "model_module_version": "1.2.0",
          "state": {
            "_model_module": "@jupyter-widgets/base",
            "_model_module_version": "1.2.0",
            "_model_name": "LayoutModel",
            "_view_count": null,
            "_view_module": "@jupyter-widgets/base",
            "_view_module_version": "1.2.0",
            "_view_name": "LayoutView",
            "align_content": null,
            "align_items": null,
            "align_self": null,
            "border": null,
            "bottom": null,
            "display": null,
            "flex": null,
            "flex_flow": null,
            "grid_area": null,
            "grid_auto_columns": null,
            "grid_auto_flow": null,
            "grid_auto_rows": null,
            "grid_column": null,
            "grid_gap": null,
            "grid_row": null,
            "grid_template_areas": null,
            "grid_template_columns": null,
            "grid_template_rows": null,
            "height": null,
            "justify_content": null,
            "justify_items": null,
            "left": null,
            "margin": null,
            "max_height": null,
            "max_width": null,
            "min_height": null,
            "min_width": null,
            "object_fit": null,
            "object_position": null,
            "order": null,
            "overflow": null,
            "overflow_x": null,
            "overflow_y": null,
            "padding": null,
            "right": null,
            "top": null,
            "visibility": null,
            "width": null
          }
        },
        "17aee58a75b54a9bafa0068fea5701f0": {
          "model_module": "@jupyter-widgets/base",
          "model_name": "LayoutModel",
          "model_module_version": "1.2.0",
          "state": {
            "_model_module": "@jupyter-widgets/base",
            "_model_module_version": "1.2.0",
            "_model_name": "LayoutModel",
            "_view_count": null,
            "_view_module": "@jupyter-widgets/base",
            "_view_module_version": "1.2.0",
            "_view_name": "LayoutView",
            "align_content": null,
            "align_items": null,
            "align_self": null,
            "border": null,
            "bottom": null,
            "display": null,
            "flex": null,
            "flex_flow": null,
            "grid_area": null,
            "grid_auto_columns": null,
            "grid_auto_flow": null,
            "grid_auto_rows": null,
            "grid_column": null,
            "grid_gap": null,
            "grid_row": null,
            "grid_template_areas": null,
            "grid_template_columns": null,
            "grid_template_rows": null,
            "height": null,
            "justify_content": null,
            "justify_items": null,
            "left": null,
            "margin": null,
            "max_height": null,
            "max_width": null,
            "min_height": null,
            "min_width": null,
            "object_fit": null,
            "object_position": null,
            "order": null,
            "overflow": null,
            "overflow_x": null,
            "overflow_y": null,
            "padding": null,
            "right": null,
            "top": null,
            "visibility": null,
            "width": null
          }
        },
        "4aea29810f06429da56b404476c75a05": {
          "model_module": "@jupyter-widgets/controls",
          "model_name": "DescriptionStyleModel",
          "model_module_version": "1.5.0",
          "state": {
            "_model_module": "@jupyter-widgets/controls",
            "_model_module_version": "1.5.0",
            "_model_name": "DescriptionStyleModel",
            "_view_count": null,
            "_view_module": "@jupyter-widgets/base",
            "_view_module_version": "1.2.0",
            "_view_name": "StyleView",
            "description_width": ""
          }
        },
        "a85c955e313d4fb397d5b999fa7a31d8": {
          "model_module": "@jupyter-widgets/base",
          "model_name": "LayoutModel",
          "model_module_version": "1.2.0",
          "state": {
            "_model_module": "@jupyter-widgets/base",
            "_model_module_version": "1.2.0",
            "_model_name": "LayoutModel",
            "_view_count": null,
            "_view_module": "@jupyter-widgets/base",
            "_view_module_version": "1.2.0",
            "_view_name": "LayoutView",
            "align_content": null,
            "align_items": null,
            "align_self": null,
            "border": null,
            "bottom": null,
            "display": null,
            "flex": null,
            "flex_flow": null,
            "grid_area": null,
            "grid_auto_columns": null,
            "grid_auto_flow": null,
            "grid_auto_rows": null,
            "grid_column": null,
            "grid_gap": null,
            "grid_row": null,
            "grid_template_areas": null,
            "grid_template_columns": null,
            "grid_template_rows": null,
            "height": null,
            "justify_content": null,
            "justify_items": null,
            "left": null,
            "margin": null,
            "max_height": null,
            "max_width": null,
            "min_height": null,
            "min_width": null,
            "object_fit": null,
            "object_position": null,
            "order": null,
            "overflow": null,
            "overflow_x": null,
            "overflow_y": null,
            "padding": null,
            "right": null,
            "top": null,
            "visibility": null,
            "width": null
          }
        },
        "5e54421dce554a4ba3eb00adf9d427cf": {
          "model_module": "@jupyter-widgets/controls",
          "model_name": "ProgressStyleModel",
          "model_module_version": "1.5.0",
          "state": {
            "_model_module": "@jupyter-widgets/controls",
            "_model_module_version": "1.5.0",
            "_model_name": "ProgressStyleModel",
            "_view_count": null,
            "_view_module": "@jupyter-widgets/base",
            "_view_module_version": "1.2.0",
            "_view_name": "StyleView",
            "bar_color": null,
            "description_width": ""
          }
        },
        "c32483aaf6f6482487e92ada53db9ec2": {
          "model_module": "@jupyter-widgets/base",
          "model_name": "LayoutModel",
          "model_module_version": "1.2.0",
          "state": {
            "_model_module": "@jupyter-widgets/base",
            "_model_module_version": "1.2.0",
            "_model_name": "LayoutModel",
            "_view_count": null,
            "_view_module": "@jupyter-widgets/base",
            "_view_module_version": "1.2.0",
            "_view_name": "LayoutView",
            "align_content": null,
            "align_items": null,
            "align_self": null,
            "border": null,
            "bottom": null,
            "display": null,
            "flex": null,
            "flex_flow": null,
            "grid_area": null,
            "grid_auto_columns": null,
            "grid_auto_flow": null,
            "grid_auto_rows": null,
            "grid_column": null,
            "grid_gap": null,
            "grid_row": null,
            "grid_template_areas": null,
            "grid_template_columns": null,
            "grid_template_rows": null,
            "height": null,
            "justify_content": null,
            "justify_items": null,
            "left": null,
            "margin": null,
            "max_height": null,
            "max_width": null,
            "min_height": null,
            "min_width": null,
            "object_fit": null,
            "object_position": null,
            "order": null,
            "overflow": null,
            "overflow_x": null,
            "overflow_y": null,
            "padding": null,
            "right": null,
            "top": null,
            "visibility": null,
            "width": null
          }
        },
        "8dd18b74d76949c0a39677d1d5d292e5": {
          "model_module": "@jupyter-widgets/controls",
          "model_name": "DescriptionStyleModel",
          "model_module_version": "1.5.0",
          "state": {
            "_model_module": "@jupyter-widgets/controls",
            "_model_module_version": "1.5.0",
            "_model_name": "DescriptionStyleModel",
            "_view_count": null,
            "_view_module": "@jupyter-widgets/base",
            "_view_module_version": "1.2.0",
            "_view_name": "StyleView",
            "description_width": ""
          }
        },
        "4873d92f984945799b452d5a00f86593": {
          "model_module": "@jupyter-widgets/controls",
          "model_name": "HBoxModel",
          "model_module_version": "1.5.0",
          "state": {
            "_dom_classes": [],
            "_model_module": "@jupyter-widgets/controls",
            "_model_module_version": "1.5.0",
            "_model_name": "HBoxModel",
            "_view_count": null,
            "_view_module": "@jupyter-widgets/controls",
            "_view_module_version": "1.5.0",
            "_view_name": "HBoxView",
            "box_style": "",
            "children": [
              "IPY_MODEL_a653fe65503b4c0ab28525bded6bbd83",
              "IPY_MODEL_4f91d2edf2c245ff926414182b0732fd",
              "IPY_MODEL_e73b957392bc4661802161d4b9900950"
            ],
            "layout": "IPY_MODEL_01dd25fd110445aea2a7a70edea0c881"
          }
        },
        "a653fe65503b4c0ab28525bded6bbd83": {
          "model_module": "@jupyter-widgets/controls",
          "model_name": "HTMLModel",
          "model_module_version": "1.5.0",
          "state": {
            "_dom_classes": [],
            "_model_module": "@jupyter-widgets/controls",
            "_model_module_version": "1.5.0",
            "_model_name": "HTMLModel",
            "_view_count": null,
            "_view_module": "@jupyter-widgets/controls",
            "_view_module_version": "1.5.0",
            "_view_name": "HTMLView",
            "description": "",
            "description_tooltip": null,
            "layout": "IPY_MODEL_978156425e674530b87b2878ec24f306",
            "placeholder": "​",
            "style": "IPY_MODEL_bfe6e4211ca64265a982e09c749aed54",
            "value": "config.json: 100%"
          }
        },
        "4f91d2edf2c245ff926414182b0732fd": {
          "model_module": "@jupyter-widgets/controls",
          "model_name": "FloatProgressModel",
          "model_module_version": "1.5.0",
          "state": {
            "_dom_classes": [],
            "_model_module": "@jupyter-widgets/controls",
            "_model_module_version": "1.5.0",
            "_model_name": "FloatProgressModel",
            "_view_count": null,
            "_view_module": "@jupyter-widgets/controls",
            "_view_module_version": "1.5.0",
            "_view_name": "ProgressView",
            "bar_style": "success",
            "description": "",
            "description_tooltip": null,
            "layout": "IPY_MODEL_bb59abeb23c6429ca587402708608b09",
            "max": 1596,
            "min": 0,
            "orientation": "horizontal",
            "style": "IPY_MODEL_4e5c95c9ae15463bb3f88d7b598e7b8b",
            "value": 1596
          }
        },
        "e73b957392bc4661802161d4b9900950": {
          "model_module": "@jupyter-widgets/controls",
          "model_name": "HTMLModel",
          "model_module_version": "1.5.0",
          "state": {
            "_dom_classes": [],
            "_model_module": "@jupyter-widgets/controls",
            "_model_module_version": "1.5.0",
            "_model_name": "HTMLModel",
            "_view_count": null,
            "_view_module": "@jupyter-widgets/controls",
            "_view_module_version": "1.5.0",
            "_view_name": "HTMLView",
            "description": "",
            "description_tooltip": null,
            "layout": "IPY_MODEL_06f5226b09b140f984525691a921764c",
            "placeholder": "​",
            "style": "IPY_MODEL_0a53879d0ad149e5843c804bea85862c",
            "value": " 1.60k/1.60k [00:00&lt;00:00, 124kB/s]"
          }
        },
        "01dd25fd110445aea2a7a70edea0c881": {
          "model_module": "@jupyter-widgets/base",
          "model_name": "LayoutModel",
          "model_module_version": "1.2.0",
          "state": {
            "_model_module": "@jupyter-widgets/base",
            "_model_module_version": "1.2.0",
            "_model_name": "LayoutModel",
            "_view_count": null,
            "_view_module": "@jupyter-widgets/base",
            "_view_module_version": "1.2.0",
            "_view_name": "LayoutView",
            "align_content": null,
            "align_items": null,
            "align_self": null,
            "border": null,
            "bottom": null,
            "display": null,
            "flex": null,
            "flex_flow": null,
            "grid_area": null,
            "grid_auto_columns": null,
            "grid_auto_flow": null,
            "grid_auto_rows": null,
            "grid_column": null,
            "grid_gap": null,
            "grid_row": null,
            "grid_template_areas": null,
            "grid_template_columns": null,
            "grid_template_rows": null,
            "height": null,
            "justify_content": null,
            "justify_items": null,
            "left": null,
            "margin": null,
            "max_height": null,
            "max_width": null,
            "min_height": null,
            "min_width": null,
            "object_fit": null,
            "object_position": null,
            "order": null,
            "overflow": null,
            "overflow_x": null,
            "overflow_y": null,
            "padding": null,
            "right": null,
            "top": null,
            "visibility": null,
            "width": null
          }
        },
        "978156425e674530b87b2878ec24f306": {
          "model_module": "@jupyter-widgets/base",
          "model_name": "LayoutModel",
          "model_module_version": "1.2.0",
          "state": {
            "_model_module": "@jupyter-widgets/base",
            "_model_module_version": "1.2.0",
            "_model_name": "LayoutModel",
            "_view_count": null,
            "_view_module": "@jupyter-widgets/base",
            "_view_module_version": "1.2.0",
            "_view_name": "LayoutView",
            "align_content": null,
            "align_items": null,
            "align_self": null,
            "border": null,
            "bottom": null,
            "display": null,
            "flex": null,
            "flex_flow": null,
            "grid_area": null,
            "grid_auto_columns": null,
            "grid_auto_flow": null,
            "grid_auto_rows": null,
            "grid_column": null,
            "grid_gap": null,
            "grid_row": null,
            "grid_template_areas": null,
            "grid_template_columns": null,
            "grid_template_rows": null,
            "height": null,
            "justify_content": null,
            "justify_items": null,
            "left": null,
            "margin": null,
            "max_height": null,
            "max_width": null,
            "min_height": null,
            "min_width": null,
            "object_fit": null,
            "object_position": null,
            "order": null,
            "overflow": null,
            "overflow_x": null,
            "overflow_y": null,
            "padding": null,
            "right": null,
            "top": null,
            "visibility": null,
            "width": null
          }
        },
        "bfe6e4211ca64265a982e09c749aed54": {
          "model_module": "@jupyter-widgets/controls",
          "model_name": "DescriptionStyleModel",
          "model_module_version": "1.5.0",
          "state": {
            "_model_module": "@jupyter-widgets/controls",
            "_model_module_version": "1.5.0",
            "_model_name": "DescriptionStyleModel",
            "_view_count": null,
            "_view_module": "@jupyter-widgets/base",
            "_view_module_version": "1.2.0",
            "_view_name": "StyleView",
            "description_width": ""
          }
        },
        "bb59abeb23c6429ca587402708608b09": {
          "model_module": "@jupyter-widgets/base",
          "model_name": "LayoutModel",
          "model_module_version": "1.2.0",
          "state": {
            "_model_module": "@jupyter-widgets/base",
            "_model_module_version": "1.2.0",
            "_model_name": "LayoutModel",
            "_view_count": null,
            "_view_module": "@jupyter-widgets/base",
            "_view_module_version": "1.2.0",
            "_view_name": "LayoutView",
            "align_content": null,
            "align_items": null,
            "align_self": null,
            "border": null,
            "bottom": null,
            "display": null,
            "flex": null,
            "flex_flow": null,
            "grid_area": null,
            "grid_auto_columns": null,
            "grid_auto_flow": null,
            "grid_auto_rows": null,
            "grid_column": null,
            "grid_gap": null,
            "grid_row": null,
            "grid_template_areas": null,
            "grid_template_columns": null,
            "grid_template_rows": null,
            "height": null,
            "justify_content": null,
            "justify_items": null,
            "left": null,
            "margin": null,
            "max_height": null,
            "max_width": null,
            "min_height": null,
            "min_width": null,
            "object_fit": null,
            "object_position": null,
            "order": null,
            "overflow": null,
            "overflow_x": null,
            "overflow_y": null,
            "padding": null,
            "right": null,
            "top": null,
            "visibility": null,
            "width": null
          }
        },
        "4e5c95c9ae15463bb3f88d7b598e7b8b": {
          "model_module": "@jupyter-widgets/controls",
          "model_name": "ProgressStyleModel",
          "model_module_version": "1.5.0",
          "state": {
            "_model_module": "@jupyter-widgets/controls",
            "_model_module_version": "1.5.0",
            "_model_name": "ProgressStyleModel",
            "_view_count": null,
            "_view_module": "@jupyter-widgets/base",
            "_view_module_version": "1.2.0",
            "_view_name": "StyleView",
            "bar_color": null,
            "description_width": ""
          }
        },
        "06f5226b09b140f984525691a921764c": {
          "model_module": "@jupyter-widgets/base",
          "model_name": "LayoutModel",
          "model_module_version": "1.2.0",
          "state": {
            "_model_module": "@jupyter-widgets/base",
            "_model_module_version": "1.2.0",
            "_model_name": "LayoutModel",
            "_view_count": null,
            "_view_module": "@jupyter-widgets/base",
            "_view_module_version": "1.2.0",
            "_view_name": "LayoutView",
            "align_content": null,
            "align_items": null,
            "align_self": null,
            "border": null,
            "bottom": null,
            "display": null,
            "flex": null,
            "flex_flow": null,
            "grid_area": null,
            "grid_auto_columns": null,
            "grid_auto_flow": null,
            "grid_auto_rows": null,
            "grid_column": null,
            "grid_gap": null,
            "grid_row": null,
            "grid_template_areas": null,
            "grid_template_columns": null,
            "grid_template_rows": null,
            "height": null,
            "justify_content": null,
            "justify_items": null,
            "left": null,
            "margin": null,
            "max_height": null,
            "max_width": null,
            "min_height": null,
            "min_width": null,
            "object_fit": null,
            "object_position": null,
            "order": null,
            "overflow": null,
            "overflow_x": null,
            "overflow_y": null,
            "padding": null,
            "right": null,
            "top": null,
            "visibility": null,
            "width": null
          }
        },
        "0a53879d0ad149e5843c804bea85862c": {
          "model_module": "@jupyter-widgets/controls",
          "model_name": "DescriptionStyleModel",
          "model_module_version": "1.5.0",
          "state": {
            "_model_module": "@jupyter-widgets/controls",
            "_model_module_version": "1.5.0",
            "_model_name": "DescriptionStyleModel",
            "_view_count": null,
            "_view_module": "@jupyter-widgets/base",
            "_view_module_version": "1.2.0",
            "_view_name": "StyleView",
            "description_width": ""
          }
        },
        "566599c9ac3246589feb43a70716d669": {
          "model_module": "@jupyter-widgets/controls",
          "model_name": "HBoxModel",
          "model_module_version": "1.5.0",
          "state": {
            "_dom_classes": [],
            "_model_module": "@jupyter-widgets/controls",
            "_model_module_version": "1.5.0",
            "_model_name": "HBoxModel",
            "_view_count": null,
            "_view_module": "@jupyter-widgets/controls",
            "_view_module_version": "1.5.0",
            "_view_name": "HBoxView",
            "box_style": "",
            "children": [
              "IPY_MODEL_b9e62dfbd1044dcf977ca08699bb63df",
              "IPY_MODEL_4783cf95120f4ea1b1552e31ef326afd",
              "IPY_MODEL_46dc5386f16f42a3b1988c3f7d69b443"
            ],
            "layout": "IPY_MODEL_9deea957ae164e93a87165d9e8b688ad"
          }
        },
        "b9e62dfbd1044dcf977ca08699bb63df": {
          "model_module": "@jupyter-widgets/controls",
          "model_name": "HTMLModel",
          "model_module_version": "1.5.0",
          "state": {
            "_dom_classes": [],
            "_model_module": "@jupyter-widgets/controls",
            "_model_module_version": "1.5.0",
            "_model_name": "HTMLModel",
            "_view_count": null,
            "_view_module": "@jupyter-widgets/controls",
            "_view_module_version": "1.5.0",
            "_view_name": "HTMLView",
            "description": "",
            "description_tooltip": null,
            "layout": "IPY_MODEL_3f054d1be9d944898e14fc5cc3ef39af",
            "placeholder": "​",
            "style": "IPY_MODEL_4d86a8292f714452b942009c2b5f297d",
            "value": "vocab.json: 100%"
          }
        },
        "4783cf95120f4ea1b1552e31ef326afd": {
          "model_module": "@jupyter-widgets/controls",
          "model_name": "FloatProgressModel",
          "model_module_version": "1.5.0",
          "state": {
            "_dom_classes": [],
            "_model_module": "@jupyter-widgets/controls",
            "_model_module_version": "1.5.0",
            "_model_name": "FloatProgressModel",
            "_view_count": null,
            "_view_module": "@jupyter-widgets/controls",
            "_view_module_version": "1.5.0",
            "_view_name": "ProgressView",
            "bar_style": "success",
            "description": "",
            "description_tooltip": null,
            "layout": "IPY_MODEL_42208429f312406e8c8b7947e23e4fc0",
            "max": 291,
            "min": 0,
            "orientation": "horizontal",
            "style": "IPY_MODEL_74770a0b6bcc4f81806a1259c9c1c3d7",
            "value": 291
          }
        },
        "46dc5386f16f42a3b1988c3f7d69b443": {
          "model_module": "@jupyter-widgets/controls",
          "model_name": "HTMLModel",
          "model_module_version": "1.5.0",
          "state": {
            "_dom_classes": [],
            "_model_module": "@jupyter-widgets/controls",
            "_model_module_version": "1.5.0",
            "_model_name": "HTMLModel",
            "_view_count": null,
            "_view_module": "@jupyter-widgets/controls",
            "_view_module_version": "1.5.0",
            "_view_name": "HTMLView",
            "description": "",
            "description_tooltip": null,
            "layout": "IPY_MODEL_2d82cc7dec46439eaa3398c22714aea4",
            "placeholder": "​",
            "style": "IPY_MODEL_d0c54113d9da4b87a1c4128fcdbd5667",
            "value": " 291/291 [00:00&lt;00:00, 22.7kB/s]"
          }
        },
        "9deea957ae164e93a87165d9e8b688ad": {
          "model_module": "@jupyter-widgets/base",
          "model_name": "LayoutModel",
          "model_module_version": "1.2.0",
          "state": {
            "_model_module": "@jupyter-widgets/base",
            "_model_module_version": "1.2.0",
            "_model_name": "LayoutModel",
            "_view_count": null,
            "_view_module": "@jupyter-widgets/base",
            "_view_module_version": "1.2.0",
            "_view_name": "LayoutView",
            "align_content": null,
            "align_items": null,
            "align_self": null,
            "border": null,
            "bottom": null,
            "display": null,
            "flex": null,
            "flex_flow": null,
            "grid_area": null,
            "grid_auto_columns": null,
            "grid_auto_flow": null,
            "grid_auto_rows": null,
            "grid_column": null,
            "grid_gap": null,
            "grid_row": null,
            "grid_template_areas": null,
            "grid_template_columns": null,
            "grid_template_rows": null,
            "height": null,
            "justify_content": null,
            "justify_items": null,
            "left": null,
            "margin": null,
            "max_height": null,
            "max_width": null,
            "min_height": null,
            "min_width": null,
            "object_fit": null,
            "object_position": null,
            "order": null,
            "overflow": null,
            "overflow_x": null,
            "overflow_y": null,
            "padding": null,
            "right": null,
            "top": null,
            "visibility": null,
            "width": null
          }
        },
        "3f054d1be9d944898e14fc5cc3ef39af": {
          "model_module": "@jupyter-widgets/base",
          "model_name": "LayoutModel",
          "model_module_version": "1.2.0",
          "state": {
            "_model_module": "@jupyter-widgets/base",
            "_model_module_version": "1.2.0",
            "_model_name": "LayoutModel",
            "_view_count": null,
            "_view_module": "@jupyter-widgets/base",
            "_view_module_version": "1.2.0",
            "_view_name": "LayoutView",
            "align_content": null,
            "align_items": null,
            "align_self": null,
            "border": null,
            "bottom": null,
            "display": null,
            "flex": null,
            "flex_flow": null,
            "grid_area": null,
            "grid_auto_columns": null,
            "grid_auto_flow": null,
            "grid_auto_rows": null,
            "grid_column": null,
            "grid_gap": null,
            "grid_row": null,
            "grid_template_areas": null,
            "grid_template_columns": null,
            "grid_template_rows": null,
            "height": null,
            "justify_content": null,
            "justify_items": null,
            "left": null,
            "margin": null,
            "max_height": null,
            "max_width": null,
            "min_height": null,
            "min_width": null,
            "object_fit": null,
            "object_position": null,
            "order": null,
            "overflow": null,
            "overflow_x": null,
            "overflow_y": null,
            "padding": null,
            "right": null,
            "top": null,
            "visibility": null,
            "width": null
          }
        },
        "4d86a8292f714452b942009c2b5f297d": {
          "model_module": "@jupyter-widgets/controls",
          "model_name": "DescriptionStyleModel",
          "model_module_version": "1.5.0",
          "state": {
            "_model_module": "@jupyter-widgets/controls",
            "_model_module_version": "1.5.0",
            "_model_name": "DescriptionStyleModel",
            "_view_count": null,
            "_view_module": "@jupyter-widgets/base",
            "_view_module_version": "1.2.0",
            "_view_name": "StyleView",
            "description_width": ""
          }
        },
        "42208429f312406e8c8b7947e23e4fc0": {
          "model_module": "@jupyter-widgets/base",
          "model_name": "LayoutModel",
          "model_module_version": "1.2.0",
          "state": {
            "_model_module": "@jupyter-widgets/base",
            "_model_module_version": "1.2.0",
            "_model_name": "LayoutModel",
            "_view_count": null,
            "_view_module": "@jupyter-widgets/base",
            "_view_module_version": "1.2.0",
            "_view_name": "LayoutView",
            "align_content": null,
            "align_items": null,
            "align_self": null,
            "border": null,
            "bottom": null,
            "display": null,
            "flex": null,
            "flex_flow": null,
            "grid_area": null,
            "grid_auto_columns": null,
            "grid_auto_flow": null,
            "grid_auto_rows": null,
            "grid_column": null,
            "grid_gap": null,
            "grid_row": null,
            "grid_template_areas": null,
            "grid_template_columns": null,
            "grid_template_rows": null,
            "height": null,
            "justify_content": null,
            "justify_items": null,
            "left": null,
            "margin": null,
            "max_height": null,
            "max_width": null,
            "min_height": null,
            "min_width": null,
            "object_fit": null,
            "object_position": null,
            "order": null,
            "overflow": null,
            "overflow_x": null,
            "overflow_y": null,
            "padding": null,
            "right": null,
            "top": null,
            "visibility": null,
            "width": null
          }
        },
        "74770a0b6bcc4f81806a1259c9c1c3d7": {
          "model_module": "@jupyter-widgets/controls",
          "model_name": "ProgressStyleModel",
          "model_module_version": "1.5.0",
          "state": {
            "_model_module": "@jupyter-widgets/controls",
            "_model_module_version": "1.5.0",
            "_model_name": "ProgressStyleModel",
            "_view_count": null,
            "_view_module": "@jupyter-widgets/base",
            "_view_module_version": "1.2.0",
            "_view_name": "StyleView",
            "bar_color": null,
            "description_width": ""
          }
        },
        "2d82cc7dec46439eaa3398c22714aea4": {
          "model_module": "@jupyter-widgets/base",
          "model_name": "LayoutModel",
          "model_module_version": "1.2.0",
          "state": {
            "_model_module": "@jupyter-widgets/base",
            "_model_module_version": "1.2.0",
            "_model_name": "LayoutModel",
            "_view_count": null,
            "_view_module": "@jupyter-widgets/base",
            "_view_module_version": "1.2.0",
            "_view_name": "LayoutView",
            "align_content": null,
            "align_items": null,
            "align_self": null,
            "border": null,
            "bottom": null,
            "display": null,
            "flex": null,
            "flex_flow": null,
            "grid_area": null,
            "grid_auto_columns": null,
            "grid_auto_flow": null,
            "grid_auto_rows": null,
            "grid_column": null,
            "grid_gap": null,
            "grid_row": null,
            "grid_template_areas": null,
            "grid_template_columns": null,
            "grid_template_rows": null,
            "height": null,
            "justify_content": null,
            "justify_items": null,
            "left": null,
            "margin": null,
            "max_height": null,
            "max_width": null,
            "min_height": null,
            "min_width": null,
            "object_fit": null,
            "object_position": null,
            "order": null,
            "overflow": null,
            "overflow_x": null,
            "overflow_y": null,
            "padding": null,
            "right": null,
            "top": null,
            "visibility": null,
            "width": null
          }
        },
        "d0c54113d9da4b87a1c4128fcdbd5667": {
          "model_module": "@jupyter-widgets/controls",
          "model_name": "DescriptionStyleModel",
          "model_module_version": "1.5.0",
          "state": {
            "_model_module": "@jupyter-widgets/controls",
            "_model_module_version": "1.5.0",
            "_model_name": "DescriptionStyleModel",
            "_view_count": null,
            "_view_module": "@jupyter-widgets/base",
            "_view_module_version": "1.2.0",
            "_view_name": "StyleView",
            "description_width": ""
          }
        },
        "f1b205759d2849eabcce7cb864ae113b": {
          "model_module": "@jupyter-widgets/controls",
          "model_name": "HBoxModel",
          "model_module_version": "1.5.0",
          "state": {
            "_dom_classes": [],
            "_model_module": "@jupyter-widgets/controls",
            "_model_module_version": "1.5.0",
            "_model_name": "HBoxModel",
            "_view_count": null,
            "_view_module": "@jupyter-widgets/controls",
            "_view_module_version": "1.5.0",
            "_view_name": "HBoxView",
            "box_style": "",
            "children": [
              "IPY_MODEL_d392f7e8fefd4d1a9b3dee081b5a0ff3",
              "IPY_MODEL_ec20ccf11f384a96818b131554443779",
              "IPY_MODEL_302da2efefc84370a39b42e1cb01a5a3"
            ],
            "layout": "IPY_MODEL_16a6ff02e4f4448e80f1dafeb25a9d2f"
          }
        },
        "d392f7e8fefd4d1a9b3dee081b5a0ff3": {
          "model_module": "@jupyter-widgets/controls",
          "model_name": "HTMLModel",
          "model_module_version": "1.5.0",
          "state": {
            "_dom_classes": [],
            "_model_module": "@jupyter-widgets/controls",
            "_model_module_version": "1.5.0",
            "_model_name": "HTMLModel",
            "_view_count": null,
            "_view_module": "@jupyter-widgets/controls",
            "_view_module_version": "1.5.0",
            "_view_name": "HTMLView",
            "description": "",
            "description_tooltip": null,
            "layout": "IPY_MODEL_f0533a4fefd1404aa05978582b071f1c",
            "placeholder": "​",
            "style": "IPY_MODEL_879a3bc4e9cd4e208b0b647a2256cf8e",
            "value": "special_tokens_map.json: 100%"
          }
        },
        "ec20ccf11f384a96818b131554443779": {
          "model_module": "@jupyter-widgets/controls",
          "model_name": "FloatProgressModel",
          "model_module_version": "1.5.0",
          "state": {
            "_dom_classes": [],
            "_model_module": "@jupyter-widgets/controls",
            "_model_module_version": "1.5.0",
            "_model_name": "FloatProgressModel",
            "_view_count": null,
            "_view_module": "@jupyter-widgets/controls",
            "_view_module_version": "1.5.0",
            "_view_name": "ProgressView",
            "bar_style": "success",
            "description": "",
            "description_tooltip": null,
            "layout": "IPY_MODEL_727efd78a7014bf7ac5740e3bb636b79",
            "max": 85,
            "min": 0,
            "orientation": "horizontal",
            "style": "IPY_MODEL_7101d9288e3f4dd6aa0bf287a68d9d29",
            "value": 85
          }
        },
        "302da2efefc84370a39b42e1cb01a5a3": {
          "model_module": "@jupyter-widgets/controls",
          "model_name": "HTMLModel",
          "model_module_version": "1.5.0",
          "state": {
            "_dom_classes": [],
            "_model_module": "@jupyter-widgets/controls",
            "_model_module_version": "1.5.0",
            "_model_name": "HTMLModel",
            "_view_count": null,
            "_view_module": "@jupyter-widgets/controls",
            "_view_module_version": "1.5.0",
            "_view_name": "HTMLView",
            "description": "",
            "description_tooltip": null,
            "layout": "IPY_MODEL_ae2915cfeb41465b9644d80fed0db4c6",
            "placeholder": "​",
            "style": "IPY_MODEL_bdab37bf3445430f8be1bc87fb785d0f",
            "value": " 85.0/85.0 [00:00&lt;00:00, 5.78kB/s]"
          }
        },
        "16a6ff02e4f4448e80f1dafeb25a9d2f": {
          "model_module": "@jupyter-widgets/base",
          "model_name": "LayoutModel",
          "model_module_version": "1.2.0",
          "state": {
            "_model_module": "@jupyter-widgets/base",
            "_model_module_version": "1.2.0",
            "_model_name": "LayoutModel",
            "_view_count": null,
            "_view_module": "@jupyter-widgets/base",
            "_view_module_version": "1.2.0",
            "_view_name": "LayoutView",
            "align_content": null,
            "align_items": null,
            "align_self": null,
            "border": null,
            "bottom": null,
            "display": null,
            "flex": null,
            "flex_flow": null,
            "grid_area": null,
            "grid_auto_columns": null,
            "grid_auto_flow": null,
            "grid_auto_rows": null,
            "grid_column": null,
            "grid_gap": null,
            "grid_row": null,
            "grid_template_areas": null,
            "grid_template_columns": null,
            "grid_template_rows": null,
            "height": null,
            "justify_content": null,
            "justify_items": null,
            "left": null,
            "margin": null,
            "max_height": null,
            "max_width": null,
            "min_height": null,
            "min_width": null,
            "object_fit": null,
            "object_position": null,
            "order": null,
            "overflow": null,
            "overflow_x": null,
            "overflow_y": null,
            "padding": null,
            "right": null,
            "top": null,
            "visibility": null,
            "width": null
          }
        },
        "f0533a4fefd1404aa05978582b071f1c": {
          "model_module": "@jupyter-widgets/base",
          "model_name": "LayoutModel",
          "model_module_version": "1.2.0",
          "state": {
            "_model_module": "@jupyter-widgets/base",
            "_model_module_version": "1.2.0",
            "_model_name": "LayoutModel",
            "_view_count": null,
            "_view_module": "@jupyter-widgets/base",
            "_view_module_version": "1.2.0",
            "_view_name": "LayoutView",
            "align_content": null,
            "align_items": null,
            "align_self": null,
            "border": null,
            "bottom": null,
            "display": null,
            "flex": null,
            "flex_flow": null,
            "grid_area": null,
            "grid_auto_columns": null,
            "grid_auto_flow": null,
            "grid_auto_rows": null,
            "grid_column": null,
            "grid_gap": null,
            "grid_row": null,
            "grid_template_areas": null,
            "grid_template_columns": null,
            "grid_template_rows": null,
            "height": null,
            "justify_content": null,
            "justify_items": null,
            "left": null,
            "margin": null,
            "max_height": null,
            "max_width": null,
            "min_height": null,
            "min_width": null,
            "object_fit": null,
            "object_position": null,
            "order": null,
            "overflow": null,
            "overflow_x": null,
            "overflow_y": null,
            "padding": null,
            "right": null,
            "top": null,
            "visibility": null,
            "width": null
          }
        },
        "879a3bc4e9cd4e208b0b647a2256cf8e": {
          "model_module": "@jupyter-widgets/controls",
          "model_name": "DescriptionStyleModel",
          "model_module_version": "1.5.0",
          "state": {
            "_model_module": "@jupyter-widgets/controls",
            "_model_module_version": "1.5.0",
            "_model_name": "DescriptionStyleModel",
            "_view_count": null,
            "_view_module": "@jupyter-widgets/base",
            "_view_module_version": "1.2.0",
            "_view_name": "StyleView",
            "description_width": ""
          }
        },
        "727efd78a7014bf7ac5740e3bb636b79": {
          "model_module": "@jupyter-widgets/base",
          "model_name": "LayoutModel",
          "model_module_version": "1.2.0",
          "state": {
            "_model_module": "@jupyter-widgets/base",
            "_model_module_version": "1.2.0",
            "_model_name": "LayoutModel",
            "_view_count": null,
            "_view_module": "@jupyter-widgets/base",
            "_view_module_version": "1.2.0",
            "_view_name": "LayoutView",
            "align_content": null,
            "align_items": null,
            "align_self": null,
            "border": null,
            "bottom": null,
            "display": null,
            "flex": null,
            "flex_flow": null,
            "grid_area": null,
            "grid_auto_columns": null,
            "grid_auto_flow": null,
            "grid_auto_rows": null,
            "grid_column": null,
            "grid_gap": null,
            "grid_row": null,
            "grid_template_areas": null,
            "grid_template_columns": null,
            "grid_template_rows": null,
            "height": null,
            "justify_content": null,
            "justify_items": null,
            "left": null,
            "margin": null,
            "max_height": null,
            "max_width": null,
            "min_height": null,
            "min_width": null,
            "object_fit": null,
            "object_position": null,
            "order": null,
            "overflow": null,
            "overflow_x": null,
            "overflow_y": null,
            "padding": null,
            "right": null,
            "top": null,
            "visibility": null,
            "width": null
          }
        },
        "7101d9288e3f4dd6aa0bf287a68d9d29": {
          "model_module": "@jupyter-widgets/controls",
          "model_name": "ProgressStyleModel",
          "model_module_version": "1.5.0",
          "state": {
            "_model_module": "@jupyter-widgets/controls",
            "_model_module_version": "1.5.0",
            "_model_name": "ProgressStyleModel",
            "_view_count": null,
            "_view_module": "@jupyter-widgets/base",
            "_view_module_version": "1.2.0",
            "_view_name": "StyleView",
            "bar_color": null,
            "description_width": ""
          }
        },
        "ae2915cfeb41465b9644d80fed0db4c6": {
          "model_module": "@jupyter-widgets/base",
          "model_name": "LayoutModel",
          "model_module_version": "1.2.0",
          "state": {
            "_model_module": "@jupyter-widgets/base",
            "_model_module_version": "1.2.0",
            "_model_name": "LayoutModel",
            "_view_count": null,
            "_view_module": "@jupyter-widgets/base",
            "_view_module_version": "1.2.0",
            "_view_name": "LayoutView",
            "align_content": null,
            "align_items": null,
            "align_self": null,
            "border": null,
            "bottom": null,
            "display": null,
            "flex": null,
            "flex_flow": null,
            "grid_area": null,
            "grid_auto_columns": null,
            "grid_auto_flow": null,
            "grid_auto_rows": null,
            "grid_column": null,
            "grid_gap": null,
            "grid_row": null,
            "grid_template_areas": null,
            "grid_template_columns": null,
            "grid_template_rows": null,
            "height": null,
            "justify_content": null,
            "justify_items": null,
            "left": null,
            "margin": null,
            "max_height": null,
            "max_width": null,
            "min_height": null,
            "min_width": null,
            "object_fit": null,
            "object_position": null,
            "order": null,
            "overflow": null,
            "overflow_x": null,
            "overflow_y": null,
            "padding": null,
            "right": null,
            "top": null,
            "visibility": null,
            "width": null
          }
        },
        "bdab37bf3445430f8be1bc87fb785d0f": {
          "model_module": "@jupyter-widgets/controls",
          "model_name": "DescriptionStyleModel",
          "model_module_version": "1.5.0",
          "state": {
            "_model_module": "@jupyter-widgets/controls",
            "_model_module_version": "1.5.0",
            "_model_name": "DescriptionStyleModel",
            "_view_count": null,
            "_view_module": "@jupyter-widgets/base",
            "_view_module_version": "1.2.0",
            "_view_name": "StyleView",
            "description_width": ""
          }
        },
        "36e93ca6b895434faf610ea2a7caee66": {
          "model_module": "@jupyter-widgets/controls",
          "model_name": "HBoxModel",
          "model_module_version": "1.5.0",
          "state": {
            "_dom_classes": [],
            "_model_module": "@jupyter-widgets/controls",
            "_model_module_version": "1.5.0",
            "_model_name": "HBoxModel",
            "_view_count": null,
            "_view_module": "@jupyter-widgets/controls",
            "_view_module_version": "1.5.0",
            "_view_name": "HBoxView",
            "box_style": "",
            "children": [
              "IPY_MODEL_3efeb9010a0345cba8efe2fe21dfc345",
              "IPY_MODEL_cd68371d18ab4714b390a92d54b5b550",
              "IPY_MODEL_16fe2eb5599642d49b7cb39c6cfceb1e"
            ],
            "layout": "IPY_MODEL_0c2284a17b2749b791caf2f9b18c84cf"
          }
        },
        "3efeb9010a0345cba8efe2fe21dfc345": {
          "model_module": "@jupyter-widgets/controls",
          "model_name": "HTMLModel",
          "model_module_version": "1.5.0",
          "state": {
            "_dom_classes": [],
            "_model_module": "@jupyter-widgets/controls",
            "_model_module_version": "1.5.0",
            "_model_name": "HTMLModel",
            "_view_count": null,
            "_view_module": "@jupyter-widgets/controls",
            "_view_module_version": "1.5.0",
            "_view_name": "HTMLView",
            "description": "",
            "description_tooltip": null,
            "layout": "IPY_MODEL_967bcbc8fa194bd190057c7a137d244a",
            "placeholder": "​",
            "style": "IPY_MODEL_386a873bbafa45d0a54d6d2ba0282c76",
            "value": "model.safetensors: 100%"
          }
        },
        "cd68371d18ab4714b390a92d54b5b550": {
          "model_module": "@jupyter-widgets/controls",
          "model_name": "FloatProgressModel",
          "model_module_version": "1.5.0",
          "state": {
            "_dom_classes": [],
            "_model_module": "@jupyter-widgets/controls",
            "_model_module_version": "1.5.0",
            "_model_name": "FloatProgressModel",
            "_view_count": null,
            "_view_module": "@jupyter-widgets/controls",
            "_view_module_version": "1.5.0",
            "_view_name": "ProgressView",
            "bar_style": "success",
            "description": "",
            "description_tooltip": null,
            "layout": "IPY_MODEL_a578dd9d1b374313bf9badcec62dbb5c",
            "max": 377607901,
            "min": 0,
            "orientation": "horizontal",
            "style": "IPY_MODEL_c1790609027d437bbe1196bc6ec05c6b",
            "value": 377607901
          }
        },
        "16fe2eb5599642d49b7cb39c6cfceb1e": {
          "model_module": "@jupyter-widgets/controls",
          "model_name": "HTMLModel",
          "model_module_version": "1.5.0",
          "state": {
            "_dom_classes": [],
            "_model_module": "@jupyter-widgets/controls",
            "_model_module_version": "1.5.0",
            "_model_name": "HTMLModel",
            "_view_count": null,
            "_view_module": "@jupyter-widgets/controls",
            "_view_module_version": "1.5.0",
            "_view_name": "HTMLView",
            "description": "",
            "description_tooltip": null,
            "layout": "IPY_MODEL_9352a255e40e4a66a1708bcaea721c0d",
            "placeholder": "​",
            "style": "IPY_MODEL_44fd090ca6ef44d4b89d07994da4ff59",
            "value": " 378M/378M [00:01&lt;00:00, 236MB/s]"
          }
        },
        "0c2284a17b2749b791caf2f9b18c84cf": {
          "model_module": "@jupyter-widgets/base",
          "model_name": "LayoutModel",
          "model_module_version": "1.2.0",
          "state": {
            "_model_module": "@jupyter-widgets/base",
            "_model_module_version": "1.2.0",
            "_model_name": "LayoutModel",
            "_view_count": null,
            "_view_module": "@jupyter-widgets/base",
            "_view_module_version": "1.2.0",
            "_view_name": "LayoutView",
            "align_content": null,
            "align_items": null,
            "align_self": null,
            "border": null,
            "bottom": null,
            "display": null,
            "flex": null,
            "flex_flow": null,
            "grid_area": null,
            "grid_auto_columns": null,
            "grid_auto_flow": null,
            "grid_auto_rows": null,
            "grid_column": null,
            "grid_gap": null,
            "grid_row": null,
            "grid_template_areas": null,
            "grid_template_columns": null,
            "grid_template_rows": null,
            "height": null,
            "justify_content": null,
            "justify_items": null,
            "left": null,
            "margin": null,
            "max_height": null,
            "max_width": null,
            "min_height": null,
            "min_width": null,
            "object_fit": null,
            "object_position": null,
            "order": null,
            "overflow": null,
            "overflow_x": null,
            "overflow_y": null,
            "padding": null,
            "right": null,
            "top": null,
            "visibility": null,
            "width": null
          }
        },
        "967bcbc8fa194bd190057c7a137d244a": {
          "model_module": "@jupyter-widgets/base",
          "model_name": "LayoutModel",
          "model_module_version": "1.2.0",
          "state": {
            "_model_module": "@jupyter-widgets/base",
            "_model_module_version": "1.2.0",
            "_model_name": "LayoutModel",
            "_view_count": null,
            "_view_module": "@jupyter-widgets/base",
            "_view_module_version": "1.2.0",
            "_view_name": "LayoutView",
            "align_content": null,
            "align_items": null,
            "align_self": null,
            "border": null,
            "bottom": null,
            "display": null,
            "flex": null,
            "flex_flow": null,
            "grid_area": null,
            "grid_auto_columns": null,
            "grid_auto_flow": null,
            "grid_auto_rows": null,
            "grid_column": null,
            "grid_gap": null,
            "grid_row": null,
            "grid_template_areas": null,
            "grid_template_columns": null,
            "grid_template_rows": null,
            "height": null,
            "justify_content": null,
            "justify_items": null,
            "left": null,
            "margin": null,
            "max_height": null,
            "max_width": null,
            "min_height": null,
            "min_width": null,
            "object_fit": null,
            "object_position": null,
            "order": null,
            "overflow": null,
            "overflow_x": null,
            "overflow_y": null,
            "padding": null,
            "right": null,
            "top": null,
            "visibility": null,
            "width": null
          }
        },
        "386a873bbafa45d0a54d6d2ba0282c76": {
          "model_module": "@jupyter-widgets/controls",
          "model_name": "DescriptionStyleModel",
          "model_module_version": "1.5.0",
          "state": {
            "_model_module": "@jupyter-widgets/controls",
            "_model_module_version": "1.5.0",
            "_model_name": "DescriptionStyleModel",
            "_view_count": null,
            "_view_module": "@jupyter-widgets/base",
            "_view_module_version": "1.2.0",
            "_view_name": "StyleView",
            "description_width": ""
          }
        },
        "a578dd9d1b374313bf9badcec62dbb5c": {
          "model_module": "@jupyter-widgets/base",
          "model_name": "LayoutModel",
          "model_module_version": "1.2.0",
          "state": {
            "_model_module": "@jupyter-widgets/base",
            "_model_module_version": "1.2.0",
            "_model_name": "LayoutModel",
            "_view_count": null,
            "_view_module": "@jupyter-widgets/base",
            "_view_module_version": "1.2.0",
            "_view_name": "LayoutView",
            "align_content": null,
            "align_items": null,
            "align_self": null,
            "border": null,
            "bottom": null,
            "display": null,
            "flex": null,
            "flex_flow": null,
            "grid_area": null,
            "grid_auto_columns": null,
            "grid_auto_flow": null,
            "grid_auto_rows": null,
            "grid_column": null,
            "grid_gap": null,
            "grid_row": null,
            "grid_template_areas": null,
            "grid_template_columns": null,
            "grid_template_rows": null,
            "height": null,
            "justify_content": null,
            "justify_items": null,
            "left": null,
            "margin": null,
            "max_height": null,
            "max_width": null,
            "min_height": null,
            "min_width": null,
            "object_fit": null,
            "object_position": null,
            "order": null,
            "overflow": null,
            "overflow_x": null,
            "overflow_y": null,
            "padding": null,
            "right": null,
            "top": null,
            "visibility": null,
            "width": null
          }
        },
        "c1790609027d437bbe1196bc6ec05c6b": {
          "model_module": "@jupyter-widgets/controls",
          "model_name": "ProgressStyleModel",
          "model_module_version": "1.5.0",
          "state": {
            "_model_module": "@jupyter-widgets/controls",
            "_model_module_version": "1.5.0",
            "_model_name": "ProgressStyleModel",
            "_view_count": null,
            "_view_module": "@jupyter-widgets/base",
            "_view_module_version": "1.2.0",
            "_view_name": "StyleView",
            "bar_color": null,
            "description_width": ""
          }
        },
        "9352a255e40e4a66a1708bcaea721c0d": {
          "model_module": "@jupyter-widgets/base",
          "model_name": "LayoutModel",
          "model_module_version": "1.2.0",
          "state": {
            "_model_module": "@jupyter-widgets/base",
            "_model_module_version": "1.2.0",
            "_model_name": "LayoutModel",
            "_view_count": null,
            "_view_module": "@jupyter-widgets/base",
            "_view_module_version": "1.2.0",
            "_view_name": "LayoutView",
            "align_content": null,
            "align_items": null,
            "align_self": null,
            "border": null,
            "bottom": null,
            "display": null,
            "flex": null,
            "flex_flow": null,
            "grid_area": null,
            "grid_auto_columns": null,
            "grid_auto_flow": null,
            "grid_auto_rows": null,
            "grid_column": null,
            "grid_gap": null,
            "grid_row": null,
            "grid_template_areas": null,
            "grid_template_columns": null,
            "grid_template_rows": null,
            "height": null,
            "justify_content": null,
            "justify_items": null,
            "left": null,
            "margin": null,
            "max_height": null,
            "max_width": null,
            "min_height": null,
            "min_width": null,
            "object_fit": null,
            "object_position": null,
            "order": null,
            "overflow": null,
            "overflow_x": null,
            "overflow_y": null,
            "padding": null,
            "right": null,
            "top": null,
            "visibility": null,
            "width": null
          }
        },
        "44fd090ca6ef44d4b89d07994da4ff59": {
          "model_module": "@jupyter-widgets/controls",
          "model_name": "DescriptionStyleModel",
          "model_module_version": "1.5.0",
          "state": {
            "_model_module": "@jupyter-widgets/controls",
            "_model_module_version": "1.5.0",
            "_model_name": "DescriptionStyleModel",
            "_view_count": null,
            "_view_module": "@jupyter-widgets/base",
            "_view_module_version": "1.2.0",
            "_view_name": "StyleView",
            "description_width": ""
          }
        }
      }
    }
  },
  "nbformat": 4,
  "nbformat_minor": 0
}