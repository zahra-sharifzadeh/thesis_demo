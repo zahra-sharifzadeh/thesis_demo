{
  "cells": [
    {
      "cell_type": "markdown",
      "metadata": {
        "id": "view-in-github",
        "colab_type": "text"
      },
      "source": [
        "<a href=\"https://colab.research.google.com/github/zahra-sharifzadeh/thesis_demo/blob/main/Ravdess/spa_ca_Att_w2v/demo_k6_kfold_att_w2v_SpatialAttention_and_channel_attention_dropout_mfc_coefficients_two_CNNAE_Parallel_Ravdess.ipynb\" target=\"_parent\"><img src=\"https://colab.research.google.com/assets/colab-badge.svg\" alt=\"Open In Colab\"/></a>"
      ]
    },
    {
      "cell_type": "markdown",
      "metadata": {
        "id": "ExkoPoNs60Cu"
      },
      "source": [
        "#### Setup"
      ]
    },
    {
      "cell_type": "code",
      "execution_count": null,
      "metadata": {
        "id": "ZcoBEft660Cv"
      },
      "outputs": [],
      "source": [
        "import torch\n",
        "import torch.nn as nn\n",
        "import matplotlib.pyplot as plt\n",
        "import numpy as np\n",
        "import pandas as pd\n",
        "import os, glob\n",
        "import librosa\n",
        "import librosa.display\n",
        "import torch.nn.functional as F\n",
        "\n",
        "import IPython\n",
        "from IPython.display import Audio\n",
        "\n",
        "from IPython.display import Image\n",
        "import warnings; warnings.filterwarnings('ignore') #matplot lib complains about librosa"
      ]
    },
    {
      "cell_type": "code",
      "execution_count": null,
      "metadata": {
        "id": "PpsDKlWozqZn"
      },
      "outputs": [],
      "source": [
        "try:\n",
        "  from transformers import Wav2Vec2Model, Wav2Vec2Processor\n",
        "except:\n",
        "  !pip install transformers\n",
        "  from transformers import Wav2Vec2Model, Wav2Vec2Processor\n"
      ]
    },
    {
      "cell_type": "code",
      "execution_count": null,
      "metadata": {
        "colab": {
          "base_uri": "https://localhost:8080/"
        },
        "id": "wXgX4hsZ60C1",
        "outputId": "2b3065d0-7411-4a08-cbd4-51727c095677"
      },
      "outputs": [
        {
          "name": "stdout",
          "output_type": "stream",
          "text": [
            "Mounted at /content/gdrive\n"
          ]
        }
      ],
      "source": [
        "# needed to import dataset from google drive into colab\n",
        "from google.colab import drive\n",
        "drive.mount(\"/content/gdrive\")"
      ]
    },
    {
      "cell_type": "code",
      "execution_count": null,
      "metadata": {
        "id": "T8GiBMh2CJCR"
      },
      "outputs": [],
      "source": [
        "# copy RAVDESS dataset from gdrive and unzip\n",
        "!cp '/content/gdrive/MyDrive/RAVDESS.zip' .\n",
        "!unzip -q RAVDESS.zip"
      ]
    },
    {
      "cell_type": "markdown",
      "metadata": {
        "id": "ADgTrt0X60C3"
      },
      "source": [
        "## Define features\n",
        "\n",
        "Define features as in the previous notebook on this task from my ['sklearn-audio-classification' repo](https://github.com/IliaZenkov/sklearn-audio-classification). That notebook explains the motivation behind the Mel Spectrogram and its derivative MFCC, which we use as a feature. In short, we're looking for transitions in audible pitch frequencies.\n",
        "\n",
        "**MFCCs alone provide the best accuracy in this model with training considerations in mind - and provide as good an accuracy as using chromagrams + mel spectrograms + MFCCs. We don't want extra complexity in a highly parameterized deep neural net such as this one** (unless we absolutely need it).\n",
        "\n"
      ]
    },
    {
      "cell_type": "code",
      "execution_count": null,
      "metadata": {
        "id": "OBZMdi7l60C4"
      },
      "outputs": [],
      "source": [
        "# RAVDESS native sample rate is 16000\n",
        "sample_rate = 16000\n",
        "\n",
        "# Mel Spectrograms are not directly used as a feature in this model\n",
        "# Mel Spectrograms are used in calculating MFCCs, which are a higher-level representation of pitch transition\n",
        "# MFCCs work better - left the mel spectrogram function here in case anyone wants to experiment\n",
        "def feature_melspectrogram(\n",
        "    waveform,\n",
        "    sample_rate,\n",
        "    fft = 1024,\n",
        "    winlen = 512,\n",
        "    window='hamming',\n",
        "    hop=256,\n",
        "    mels=128,\n",
        "    ):\n",
        "\n",
        "    # Produce the mel spectrogram for all STFT frames and get the mean of each column of the resulting matrix to create a feature array\n",
        "    # Using 8khz as upper frequency bound should be enough for most speech classification tasks\n",
        "    melspectrogram = librosa.feature.melspectrogram(\n",
        "        y=waveform,\n",
        "        sr=sample_rate,\n",
        "        n_fft=fft,\n",
        "        win_length=winlen,\n",
        "        window=window,\n",
        "        hop_length=hop,\n",
        "        n_mels=mels,\n",
        "        fmax=sample_rate/2)\n",
        "\n",
        "    # convert from power (amplitude**2) to decibels\n",
        "    # necessary for network to learn - doesn't converge with raw power spectrograms\n",
        "    melspectrogram = librosa.power_to_db(melspectrogram, ref=np.max)\n",
        "\n",
        "    return melspectrogram\n",
        "\n",
        "def feature_mfcc(\n",
        "    waveform,\n",
        "    sample_rate,\n",
        "    n_mfcc = 40,\n",
        "    fft = 1024,\n",
        "    winlen = 512,\n",
        "    window='hamming',\n",
        "    #hop=256, # increases # of time steps; was not helpful\n",
        "    mels=128\n",
        "    ):\n",
        "\n",
        "    # Compute the MFCCs for all STFT frames\n",
        "    # 40 mel filterbanks (n_mfcc) = 40 coefficients\n",
        "    mfc_coefficients=librosa.feature.mfcc(\n",
        "        y=waveform,\n",
        "        sr=sample_rate,\n",
        "        n_mfcc=n_mfcc,\n",
        "        n_fft=fft,\n",
        "        win_length=winlen,\n",
        "        window=window,\n",
        "        #hop_length=hop,\n",
        "        n_mels=mels,\n",
        "        fmax=sample_rate/2\n",
        "        )\n",
        "\n",
        "    return mfc_coefficients\n",
        "\n",
        "def get_features(waveforms, features, samplerate):\n",
        "\n",
        "    # initialize counter to track progress\n",
        "    file_count = 0\n",
        "\n",
        "    # process each waveform individually to get its MFCCs\n",
        "    for waveform in waveforms:\n",
        "        mfccs = feature_mfcc(waveform, sample_rate)\n",
        "        features.append(mfccs)\n",
        "        file_count += 1\n",
        "        # print progress\n",
        "        print('\\r'+f' Processed {file_count}/{len(waveforms)} waveforms',end='')\n",
        "\n",
        "    # return all features from list of waveforms\n",
        "    return features\n",
        "\n",
        "def get_waveforms(file):\n",
        "\n",
        "    # load an individual sample audio file\n",
        "    # read the full 3 seconds of the file, cut off the first 0.5s of silence; native sample rate = 48k\n",
        "    # don't need to store the sample rate that librosa.load returns\n",
        "    waveform, _ = librosa.load(file, duration=3, offset=0.5, sr=sample_rate)\n",
        "\n",
        "    # make sure waveform vectors are homogenous by defining explicitly\n",
        "    waveform_homo = np.zeros((int(sample_rate*3,)))\n",
        "    waveform_homo[:len(waveform)] = waveform\n",
        "\n",
        "    # return a single file's waveform\n",
        "    return waveform_homo\n",
        "\n",
        "# RAVDESS dataset emotions\n",
        "# shift emotions left to be 0 indexed for PyTorch\n",
        "emotions_dict ={\n",
        "    '0':'surprised',\n",
        "    '1':'neutral',\n",
        "    '2':'calm',\n",
        "    '3':'happy',\n",
        "    '4':'sad',\n",
        "    '5':'angry',\n",
        "    '6':'fearful',\n",
        "    '7':'disgust'\n",
        "}\n",
        "\n",
        "# Additional attributes from RAVDESS to play with\n",
        "emotion_attributes = {\n",
        "    '01': 'normal',\n",
        "    '02': 'strong'\n",
        "}"
      ]
    },
    {
      "cell_type": "markdown",
      "metadata": {
        "id": "VoHM-Dh860C6"
      },
      "source": [
        "## Load Data and Extract Features\n",
        "\n",
        "\n",
        "We process each file in the dataset and extract its features.\n",
        "\n",
        "We return the waveforms and the labels (from the file names of the RAVDESS audio samples). We return the raw waveforms because we're going to do some extra processing.\n"
      ]
    },
    {
      "cell_type": "code",
      "execution_count": null,
      "metadata": {
        "id": "XasJEOjN60C7"
      },
      "outputs": [],
      "source": [
        "# path to data for glob\n",
        "data_path = '/content/Actor_*/*.wav'\n",
        "\n",
        "def load_data():\n",
        "    # features and labels\n",
        "    emotions = []\n",
        "    # raw waveforms to augment later\n",
        "    waveforms = []\n",
        "    # extra labels\n",
        "    intensities, genders = [],[]\n",
        "    # progress counter\n",
        "    file_count = 0\n",
        "    for file in glob.glob(data_path):\n",
        "        # get file name with labels\n",
        "        file_name = os.path.basename(file)\n",
        "\n",
        "        # get emotion label from the sample's file\n",
        "        emotion = int(file_name.split(\"-\")[2])\n",
        "\n",
        "        #  move surprise to 0 for cleaner behaviour with PyTorch/0-indexing\n",
        "        if emotion == 8: emotion = 0 # surprise is now at 0 index; other emotion indeces unchanged\n",
        "\n",
        "        # can convert emotion label to emotion string if desired, but\n",
        "        # training on number is better; better convert to emotion string after predictions are ready\n",
        "        # emotion = emotions_dict[str(emotion)]\n",
        "\n",
        "        # get other labels we might want\n",
        "        intensity = emotion_attributes[file_name.split(\"-\")[3]]\n",
        "        # even actors are female, odd are male\n",
        "        if (int((file_name.split(\"-\")[6]).split(\".\")[0]))%2==0:\n",
        "            gender = 'female'\n",
        "        else:\n",
        "            gender = 'male'\n",
        "\n",
        "        # get waveform from the sample\n",
        "        waveform = get_waveforms(file)\n",
        "\n",
        "        # store waveforms and labels\n",
        "        waveforms.append(waveform)\n",
        "        emotions.append(emotion)\n",
        "        intensities.append(intensity) # store intensity in case we wish to predict\n",
        "        genders.append(gender) # store gender in case we wish to predict\n",
        "\n",
        "        file_count += 1\n",
        "        # keep track of data loader's progress\n",
        "        print('\\r'+f' Processed {file_count}/{1440} audio samples',end='')\n",
        "\n",
        "    return waveforms, emotions, intensities, genders"
      ]
    },
    {
      "cell_type": "code",
      "execution_count": null,
      "metadata": {
        "colab": {
          "base_uri": "https://localhost:8080/"
        },
        "id": "37LrPb2i60C9",
        "outputId": "39a0a036-d365-48d3-e285-25d871bc40d6"
      },
      "outputs": [
        {
          "name": "stdout",
          "output_type": "stream",
          "text": [
            " Processed 1440/1440 audio samples"
          ]
        }
      ],
      "source": [
        "# load data\n",
        "# init explicitly to prevent data leakage from past sessions, since load_data() appends\n",
        "waveforms, emotions, intensities, genders = [],[],[],[]\n",
        "waveforms, emotions, intensities, genders = load_data()"
      ]
    },
    {
      "cell_type": "markdown",
      "metadata": {
        "id": "PLBp0B-n60DB"
      },
      "source": [
        "## Check extracted audio waveforms and labels:\n"
      ]
    },
    {
      "cell_type": "code",
      "execution_count": null,
      "metadata": {
        "colab": {
          "base_uri": "https://localhost:8080/"
        },
        "id": "pjjUpfNm60DC",
        "outputId": "11f47585-f6aa-455f-bbc4-7b1cbaa4ea1f"
      },
      "outputs": [
        {
          "name": "stdout",
          "output_type": "stream",
          "text": [
            "Waveforms set: 1440 samples\n",
            "Waveform signal length: 48000\n",
            "Emotions set: 1440 sample labels\n"
          ]
        }
      ],
      "source": [
        "print(f'Waveforms set: {len(waveforms)} samples')\n",
        "# we have 1440 waveforms but we need to know their length too; should be 3 sec * 48k = 144k\n",
        "print(f'Waveform signal length: {len(waveforms[0])}')\n",
        "print(f'Emotions set: {len(emotions)} sample labels')"
      ]
    },
    {
      "cell_type": "markdown",
      "metadata": {
        "id": "Zkfe5cWQGa-P"
      },
      "source": [
        "Looks good. 1440 samples and 1440 labels in total.\n",
        "\n",
        "**Waveforms are 144k long because 3 seconds * 48k sample rate = 144k length array representing the 3 second audio snippet.**"
      ]
    },
    {
      "cell_type": "markdown",
      "metadata": {
        "id": "UDnnCn8HEOQq"
      },
      "source": [
        "## Split into Train/Validation/Test Sets\n",
        "We'll use an 80/10/10 train/validation/test split to maximize training data and keep a reasonable validation/test set.\n",
        "\n",
        "**We're splitting waveforms so we can process train/validation/test waveforms separately and avoid data leakage.**\n",
        "\n",
        "**Have to take care to split the sets proportionally w.r.t. emotion.**\n",
        "\n",
        "**Yes, we can use sklearn - but to convince myself I've eradicated data leakage issues I did this manually.**"
      ]
    },
    {
      "cell_type": "code",
      "execution_count": null,
      "metadata": {
        "id": "vdxZCsfEjNmL"
      },
      "outputs": [],
      "source": [
        "# from sklearn.model_selection import train_test_split\n",
        "# waveforms = np.array(waveforms)\n",
        "# # Your data and labels\n",
        "# data = waveforms  # Replace with your data\n",
        "# labels = np.array(emotions) # Replace with your labels\n",
        "\n",
        "# # Split the data into training, testing, and validation sets\n",
        "# test_size = 0.1  # You can adjust the ratio for the test set\n",
        "# valid_size = 0.1  # You can adjust the ratio for the validation set\n",
        "\n",
        "# # First, split into training and the remaining data\n",
        "# remaining_data, X_test, remaining_labels, y_test = train_test_split(\n",
        "#     data, labels, test_size=test_size, random_state=42)\n",
        "\n",
        "# # Then, split the remaining data into validation and test sets\n",
        "# X_train, X_valid, y_train, y_valid = train_test_split(\n",
        "#     remaining_data, remaining_labels, test_size=valid_size, random_state=42)\n",
        "\n",
        "# # Now, you have train_data, test_data, and valid_data, along with their corresponding labels.\n",
        "# # Adjust the test_size and valid_size values as needed.\n",
        "# # check shape of each set\n",
        "# print(f'Training waveforms:{X_train.shape}, y_train:{y_train.shape}')\n",
        "# print(f'Validation waveforms:{X_valid.shape}, y_valid:{y_valid.shape}')\n",
        "# print(f'Test waveforms:{X_test.shape}, y_test:{y_test.shape}')"
      ]
    },
    {
      "cell_type": "code",
      "execution_count": null,
      "metadata": {
        "id": "ofaAetu48YEg"
      },
      "outputs": [],
      "source": [
        "# create storage for train, validation, test sets and their indices\n",
        "train_set,valid_set,test_set = [],[],[]\n",
        "X_train,X_valid,X_test = [],[],[]\n",
        "y_train,y_valid,y_test = [],[],[]\n",
        "\n",
        "# convert waveforms to array for processing\n",
        "waveforms = np.array(waveforms)\n",
        "\n",
        "# process each emotion separately to make sure we builf balanced train/valid/test sets\n",
        "for emotion_num in range(len(emotions_dict)):\n",
        "\n",
        "    # find all indices of a single unique emotion\n",
        "    emotion_indices = [index for index, emotion in enumerate(emotions) if emotion==emotion_num]\n",
        "\n",
        "    # seed for reproducibility\n",
        "    np.random.seed(69)\n",
        "    # shuffle indicies\n",
        "    # emotion_indices = np.random.permutation(emotion_indices)\n",
        "\n",
        "    # store dim (length) of the emotion list to make indices\n",
        "    dim = len(emotion_indices)\n",
        "\n",
        "    # store indices of training, validation and test sets in 80/10/10 proportion\n",
        "    # train set is first 80%\n",
        "    train_indices = emotion_indices[:int(0.9*dim)]\n",
        "    # validation set is next 10% (between 80% and 90%)\n",
        "    # valid_indices = emotion_indices[int(0.8*dim):int(0.9*dim)]\n",
        "    # test set is last 10% (between 90% - end/100%)\n",
        "    test_indices = emotion_indices[int(0.9*dim):]\n",
        "\n",
        "    # create train waveforms/labels sets\n",
        "    X_train.append(waveforms[train_indices,:])\n",
        "    y_train.append(np.array([emotion_num]*len(train_indices),dtype=np.int32))\n",
        "    # create validation waveforms/labels sets\n",
        "    # X_valid.append(waveforms[valid_indices,:])\n",
        "    # y_valid.append(np.array([emotion_num]*len(valid_indices),dtype=np.int32))\n",
        "    # create test waveforms/labels sets\n",
        "    X_test.append(waveforms[test_indices,:])\n",
        "    y_test.append(np.array([emotion_num]*len(test_indices),dtype=np.int32))\n",
        "\n",
        "    # store indices for each emotion set to verify uniqueness between sets\n",
        "    train_set.append(train_indices)\n",
        "    # valid_set.append(valid_indices)\n",
        "    test_set.append(test_indices)\n",
        "\n",
        "# concatenate, in order, all waveforms back into one array\n",
        "X_train = np.concatenate(X_train,axis=0)\n",
        "# X_valid = np.concatenate(X_valid,axis=0)\n",
        "X_test = np.concatenate(X_test,axis=0)\n",
        "\n",
        "# concatenate, in order, all emotions back into one array\n",
        "y_train = np.concatenate(y_train,axis=0)\n",
        "# y_valid = np.concatenate(y_valid,axis=0)\n",
        "y_test = np.concatenate(y_test,axis=0)\n",
        "\n",
        "# combine and store indices for all emotions' train, validation, test sets to verify uniqueness of sets\n",
        "train_set = np.concatenate(train_set,axis=0)\n",
        "# valid_set = np.concatenate(valid_set,axis=0)\n",
        "test_set = np.concatenate(test_set,axis=0)\n",
        "\n",
        "# check shape of each set\n",
        "print(f'Training waveforms:{X_train.shape}, y_train:{y_train.shape}')\n",
        "# print(f'Validation waveforms:{X_valid.shape}, y_valid:{y_valid.shape}')\n",
        "print(f'Test waveforms:{X_test.shape}, y_test:{y_test.shape}')\n",
        "\n"
      ]
    },
    {
      "cell_type": "markdown",
      "metadata": {
        "id": "kikSzy0MCFix"
      },
      "source": [
        "## Extract Features\n"
      ]
    },
    {
      "cell_type": "markdown",
      "metadata": {
        "id": "HJ0phzMzy40S"
      },
      "source": [
        "Extract the features from unaugmented waveforms first. In the next step, we'll append features from augmented waveforms to these 'native' features."
      ]
    },
    {
      "cell_type": "code",
      "execution_count": null,
      "metadata": {
        "id": "OI4y4gFgCED3"
      },
      "outputs": [],
      "source": [
        "# # initialize feature arrays\n",
        "# # We extract MFCC features from waveforms and store in respective 'features' array\n",
        "# features_train, features_valid, features_test = [],[],[]\n",
        "\n",
        "# print('Train waveforms:') # get training set features\n",
        "# features_train = get_features(X_train, features_train, sample_rate)\n",
        "\n",
        "# print('\\n\\nValidation waveforms:') # get validation set features\n",
        "# features_valid = get_features(X_valid, features_valid, sample_rate)\n",
        "\n",
        "# print('\\n\\nTest waveforms:') # get test set features\n",
        "# features_test = get_features(X_test, features_test, sample_rate)\n",
        "\n",
        "# print(f'\\n\\nFeatures set: {len(features_train)+len(features_test)+len(features_valid)} total, {len(features_train)} train, {len(features_valid)} validation, {len(features_test)} test samples')\n",
        "# print(f'Features (MFC coefficient matrix) shape: {len(features_train[0])} mel frequency coefficients x {len(features_train[0][1])} time steps')"
      ]
    },
    {
      "cell_type": "markdown",
      "metadata": {
        "id": "mx3PipOL60DG"
      },
      "source": [
        "## Augmenting the Data with AWGN - Additive White Gaussian Noise\n",
        "\n",
        "### Motivation\n",
        "\n",
        "Since our dataset is small, it is prone to overfitting - especially with highly parameterized deep neural net models\n",
        "such as the one we aim to build in this notebook. As such, we're going to want to augment our data. Generating more real samples will be immensely difficult. Instead, we can add white noise to the audio signals - not only to mask the effect of random noise present in the training set - but also **to create pseudo-new training samples and offset the impact of noise intrinsic to the dataset.**\n",
        "\n",
        "In addition, the RAVDESS dataset is extremely clean - we will likely want to make predictions on noisy, real-world data - yet another reason to augment the training data.\n",
        "\n",
        "We're going to use Additive White Gaussian Noise (AWGN). It's Additive because we're adding it to the source audio signal,\n",
        "**it's Gaussian because the noise vector will be sampled from a normal distribution and have a time average of zero (zero-mean), and it's white because after a whitening transformation the noise will add power to the audio signal uniformly across the frequency distribution.**\n",
        "\n",
        "We need a good balance of noise - too little will be useless, and too much will make it too difficult for the network to learn from the training data. **Note that this is just for training - we would _not_ need to add AWGN to real-world data on which we make predictions** (although we could).\n",
        "\n",
        "### Math\n",
        "The key parameters in AWGN are the signal to noise ratio (SNR), defining the magnitude of the noise added w.r.t. the audio signal. We parameterize AWGN with the minimum and maximize SNR so we can pick a random SNR to use in augmenting each sample's waveform.\n",
        "\n",
        "We need to constrain covariance to make it true AWGN. **We make a zero-mean vector of Gaussian noises (np.random.normal) that are statistically dependent. We need to apply a [whitening transformation](https://en.wikipedia.org/wiki/Whitening_transformation)**, a linear transformation taking a vector of random normal (Gaussian) variables with a known covariance matrix and mapping it to a new vector whose covariance is the identity matrix, i.e. the vector is now perfectly uncorrelated with a diaganol covariance matrix, each point of noise having variance == stdev == 1. **The whitening transformation by definition transforms a vector into a white noise vector.**\n",
        "\n",
        "We're going to add the AWGN augmented waveforms as new samples to our dataset. **Since we generate AWGN which is random for each and every sample - random random noise - we can add multiples of our noise-augmented dataset. I'll add 2 extra identical, randomly noisy datasets with 1440 samples each to get a dataset with 1440 native + 1440x2 == 4320 noisy samples.**"
      ]
    },
    {
      "cell_type": "code",
      "execution_count": null,
      "metadata": {
        "id": "T6iY69E-60DG"
      },
      "outputs": [],
      "source": [
        "# def awgn_augmentation(waveform, multiples=2, bits=16, snr_min=15, snr_max=30):\n",
        "\n",
        "#     # get length of waveform (should be 3*48k = 144k)\n",
        "#     wave_len = len(waveform)\n",
        "\n",
        "#     # Generate normally distributed (Gaussian) noises\n",
        "#     # one for each waveform and multiple (i.e. wave_len*multiples noises)\n",
        "#     noise = np.random.normal(size=(multiples, wave_len))\n",
        "\n",
        "#     # Normalize waveform and noise\n",
        "#     norm_constant = 2.0**(bits-1)\n",
        "#     norm_wave = waveform / norm_constant\n",
        "#     norm_noise = noise / norm_constant\n",
        "\n",
        "#     # Compute power of waveform and power of noise\n",
        "#     signal_power = np.sum(norm_wave ** 2) / wave_len\n",
        "#     noise_power = np.sum(norm_noise ** 2, axis=1) / wave_len\n",
        "\n",
        "#     # Choose random SNR in decibels in range [15,30]\n",
        "#     snr = np.random.randint(snr_min, snr_max)\n",
        "\n",
        "#     # Apply whitening transformation: make the Gaussian noise into Gaussian white noise\n",
        "#     # Compute the covariance matrix used to whiten each noise\n",
        "#     # actual SNR = signal/noise (power)\n",
        "#     # actual noise power = 10**(-snr/10)\n",
        "#     covariance = np.sqrt((signal_power / noise_power) * 10 ** (- snr / 10))\n",
        "#     # Get covariance matrix with dim: (144000, 2) so we can transform 2 noises: dim (2, 144000)\n",
        "#     covariance = np.ones((wave_len, multiples)) * covariance\n",
        "\n",
        "#     # Since covariance and noise are arrays, * is the haddamard product\n",
        "#     # Take Haddamard product of covariance and noise to generate white noise\n",
        "#     multiple_augmented_waveforms = waveform + covariance.T * noise\n",
        "\n",
        "#     return multiple_augmented_waveforms"
      ]
    },
    {
      "cell_type": "code",
      "execution_count": null,
      "metadata": {
        "id": "61KDvjLQngzZ"
      },
      "outputs": [],
      "source": [
        "# def augment_waveforms(waveforms,  emotions, multiples):\n",
        "#     # keep track of how many waveforms we've processed so we can add correct emotion label in the same order\n",
        "#     emotion_count = 0\n",
        "#     # keep track of how many augmented samples we've added\n",
        "#     added_count = 0\n",
        "#     # convert emotion array to list for more efficient appending\n",
        "#     emotions = emotions.tolist()\n",
        "\n",
        "#     for waveform in waveforms:\n",
        "\n",
        "#         # Generate 2 augmented multiples of the dataset, i.e. 1440 native + 1440*2 noisy = 4320 samples total\n",
        "#         augmented_waveforms = awgn_augmentation(waveform, multiples=multiples)\n",
        "#         waveforms= np.concatenate([waveforms,augmented_waveforms],axis=0)\n",
        "\n",
        "\n",
        "#         # compute spectrogram for each of 2 augmented waveforms\n",
        "#         for augmented_waveform in augmented_waveforms:\n",
        "\n",
        "#             # Compute MFCCs over augmented waveforms\n",
        "#             augmented_mfcc = feature_mfcc(augmented_waveform, sample_rate=sample_rate)\n",
        "\n",
        "#             # append the augmented spectrogram to the rest of the native data\n",
        "#             # features.append(augmented_mfcc)\n",
        "#             # print(augmented_waveforms.shape)\n",
        "#             emotions.append(emotions[emotion_count])\n",
        "\n",
        "#             # keep track of new augmented samples\n",
        "#             added_count += 1\n",
        "\n",
        "#             # check progress\n",
        "#             print('\\r'+f'Processed {emotion_count + 1}/{len(waveforms)} waveforms for {added_count}/{len(waveforms)*multiples} new augmented samples',end='')\n",
        "\n",
        "#         # keep track of the emotion labels to append in order\n",
        "#         emotion_count += 1\n",
        "\n",
        "#         # store augmented waveforms to check their shape\n",
        "#         augmented_waveforms_temp.append(augmented_waveforms)\n",
        "\n",
        "\n",
        "#     return waveforms, augmented_mfcc,  emotions"
      ]
    },
    {
      "cell_type": "markdown",
      "metadata": {
        "id": "4GZ2CAy3F-nK"
      },
      "source": [
        "### Compute AWGN-augmented features and add to the rest of the dataset\n",
        "\n"
      ]
    },
    {
      "cell_type": "code",
      "execution_count": null,
      "metadata": {
        "id": "g_EwfKc3j7wR"
      },
      "outputs": [],
      "source": [
        "def addAWGN(signal, num_bits=16, augmented_num=2, snr_low=15, snr_high=30):\n",
        "    signal_len = len(signal)\n",
        "    # Generate White Gaussian noise\n",
        "    noise = np.random.normal(size=(augmented_num, signal_len))\n",
        "    # Normalize signal and noise\n",
        "    norm_constant = 2.0**(num_bits-1)\n",
        "    signal_norm = signal / norm_constant\n",
        "    noise_norm = noise / norm_constant\n",
        "    # Compute signal and noise power\n",
        "    s_power = np.sum(signal_norm ** 2) / signal_len\n",
        "    n_power = np.sum(noise_norm ** 2, axis=1) / signal_len\n",
        "    # Random SNR: Uniform [15, 30] in dB\n",
        "    target_snr = np.random.randint(snr_low, snr_high)\n",
        "    # Compute K (covariance matrix) for each noise\n",
        "    K = np.sqrt((s_power / n_power) * 10 ** (- target_snr / 10))\n",
        "    K = np.ones((signal_len, augmented_num)) * K\n",
        "    # Generate noisy signal\n",
        "    return signal + K.T * noise"
      ]
    },
    {
      "cell_type": "code",
      "execution_count": null,
      "metadata": {
        "colab": {
          "base_uri": "https://localhost:8080/"
        },
        "id": "W1J6XnXOkAgZ",
        "outputId": "7335f53a-25e7-4856-e41b-1f03aa345a81"
      },
      "outputs": [
        {
          "name": "stdout",
          "output_type": "stream",
          "text": [
            " Processed 1290/1290 files\n",
            "X_train:(3870, 48000), Y_train:(3870,)\n"
          ]
        }
      ],
      "source": [
        "aug_signals = []\n",
        "aug_labels = []\n",
        "emotion_list = y_train.tolist()\n",
        "for i in range(X_train.shape[0]):\n",
        "    signal = X_train[i,:]\n",
        "    augmented_signals = addAWGN(signal)\n",
        "    for j in range(augmented_signals.shape[0]):\n",
        "        aug_labels.append(emotion_list[i])\n",
        "        aug_signals.append(augmented_signals[j,:])\n",
        "        # data = data.append(data.iloc[i], ignore_index=True)\n",
        "    print(\"\\r Processed {}/{} files\".format(i+1,X_train.shape[0]),end='')\n",
        "aug_signals = np.stack(aug_signals,axis=0)\n",
        "X_train = np.concatenate([X_train,aug_signals],axis=0)\n",
        "aug_labels = np.stack(aug_labels,axis=0)\n",
        "y_train = np.concatenate([y_train,aug_labels])\n",
        "print('')\n",
        "print(f'X_train:{X_train.shape}, Y_train:{y_train.shape}')"
      ]
    },
    {
      "cell_type": "code",
      "execution_count": null,
      "metadata": {
        "id": "u3DO8dkZoDtb"
      },
      "outputs": [],
      "source": [
        "# aug_signals = []\n",
        "# aug_labels = []\n",
        "# emotion_list = y_valid.tolist()\n",
        "# for i in range(X_valid.shape[0]):\n",
        "#     signal = X_valid[i,:]\n",
        "#     augmented_signals = addAWGN(signal)\n",
        "#     for j in range(augmented_signals.shape[0]):\n",
        "#         aug_labels.append(emotion_list[i])\n",
        "#         aug_signals.append(augmented_signals[j,:])\n",
        "#         # data = data.append(data.iloc[i], ignore_index=True)\n",
        "#     print(\"\\r Processed {}/{} files\".format(i+1,y_valid.shape[0]),end='')\n",
        "# aug_signals = np.stack(aug_signals,axis=0)\n",
        "# X_valid = np.concatenate([X_valid,aug_signals],axis=0)\n",
        "# aug_labels = np.stack(aug_labels,axis=0)\n",
        "# y_valid = np.concatenate([y_valid,aug_labels])\n",
        "# print('')\n",
        "# print(f'X_valid:{X_valid.shape}, y_valid:{y_valid.shape}')"
      ]
    },
    {
      "cell_type": "code",
      "execution_count": null,
      "metadata": {
        "colab": {
          "base_uri": "https://localhost:8080/"
        },
        "id": "IeBXMOwjotEx",
        "outputId": "d2cebb82-2082-4ee3-d82d-f673b9bf0e79"
      },
      "outputs": [
        {
          "output_type": "stream",
          "name": "stdout",
          "text": [
            " Processed 143/143 files\n",
            "X_valid:(429, 48000), Y_train:(429,)\n"
          ]
        }
      ],
      "source": [
        "aug_signals = []\n",
        "aug_labels = []\n",
        "emotion_list = y_test.tolist()\n",
        "for i in range(X_test.shape[0]):\n",
        "    signal = X_test[i,:]\n",
        "    augmented_signals = addAWGN(signal)\n",
        "    for j in range(augmented_signals.shape[0]):\n",
        "        aug_labels.append(emotion_list[i])\n",
        "        aug_signals.append(augmented_signals[j,:])\n",
        "        # data = data.append(data.iloc[i], ignore_index=True)\n",
        "    print(\"\\r Processed {}/{} files\".format(i+1,y_test.shape[0]),end='')\n",
        "aug_signals = np.stack(aug_signals,axis=0)\n",
        "X_test = np.concatenate([X_test,aug_signals],axis=0)\n",
        "aug_labels = np.stack(aug_labels,axis=0)\n",
        "y_test = np.concatenate([y_test,aug_labels])\n",
        "print('')\n",
        "print(f'X_valid:{X_test.shape}, Y_train:{y_test.shape}')"
      ]
    },
    {
      "cell_type": "code",
      "execution_count": null,
      "metadata": {
        "colab": {
          "base_uri": "https://localhost:8080/"
        },
        "id": "soHKB0MppPos",
        "outputId": "24d7b599-04da-47d8-bbad-2c7bb13a350a"
      },
      "outputs": [
        {
          "output_type": "stream",
          "name": "stdout",
          "text": [
            "Train waveforms:\n",
            " Processed 1290/1290 waveforms\n",
            "\n",
            "Test waveforms:\n",
            " Processed 429/429 waveforms\n",
            "\n",
            "Features set: 1719 total, 1290 train, 429 test samples\n",
            "Features (MFC coefficient matrix) shape: 40 mel frequency coefficients x 94 time steps\n"
          ]
        }
      ],
      "source": [
        "# initialize feature arrays\n",
        "# We extract MFCC features from waveforms and store in respective 'features' array\n",
        "features_train, features_valid, features_test = [],[],[]\n",
        "\n",
        "print('Train waveforms:') # get training set features\n",
        "features_train = get_features(X_train, features_train, sample_rate)\n",
        "\n",
        "# print('\\n\\nValidation waveforms:') # get validation set features\n",
        "# features_valid = get_features(X_valid, features_valid, sample_rate)\n",
        "\n",
        "print('\\n\\nTest waveforms:') # get test set features\n",
        "features_test = get_features(X_test, features_test, sample_rate)\n",
        "\n",
        "print(f'\\n\\nFeatures set: {len(features_train)+len(features_test)} total, {len(features_train)} train, {len(features_test)} test samples')\n",
        "print(f'Features (MFC coefficient matrix) shape: {len(features_train[0])} mel frequency coefficients x {len(features_train[0][1])} time steps')"
      ]
    },
    {
      "cell_type": "code",
      "execution_count": null,
      "metadata": {
        "id": "05bOxnra54ia"
      },
      "outputs": [],
      "source": [
        "# # # store augmented waveforms to verify their shape and random-ness\n",
        "# augmented_waveforms_temp = []\n",
        "\n",
        "# # # specify multiples of our dataset to add as augmented data\n",
        "# multiples = 2\n",
        "\n",
        "# # print('Train waveforms:') # augment waveforms of training set\n",
        "# # signal, augmented_mfcc,  emotions\n",
        "# signal, features_train , y_train = augment_waveforms(X_train,  y_train, multiples)\n",
        "\n",
        "# # print('\\n\\nValidation waveforms:') # augment waveforms of validation set\n",
        "# # features_valid, y_valid = augment_waveforms(X_valid,  y_valid, multiples)\n",
        "\n",
        "# # print('\\n\\nTest waveforms:') # augment waveforms of test set\n",
        "# # features_test, y_test = augment_waveforms(X_test,  y_test, multiples)\n",
        "\n",
        "# # # Check new shape of extracted features and data:\n",
        "# # print(f'\\n\\nNative + Augmented Features set: {len(features_train)+len(features_test)+len(features_valid)} total, {len(features_train)} train, {len(features_valid)} validation, {len(features_test)} test samples')\n",
        "# # print(f'{len(y_train)} training sample labels, {len(y_valid)} validation sample labels, {len(y_test)} test sample labels')\n"
      ]
    },
    {
      "cell_type": "markdown",
      "metadata": {
        "id": "pG6UTrZ160DO"
      },
      "source": [
        "### Check Augmented Waveforms:"
      ]
    },
    {
      "cell_type": "code",
      "execution_count": null,
      "metadata": {
        "id": "co938icT60DP"
      },
      "outputs": [],
      "source": [
        "# # pick a random waveform, but same one from native and augmented set for easier comparison\n",
        "# plt.figure(figsize=(15,4))\n",
        "# plt.subplot(1, 2, 1)\n",
        "# librosa.display.waveshow(waveforms[12], sr=sample_rate)\n",
        "# plt.title('Native')\n",
        "\n",
        "# plt.subplot(1, 2, 2)\n",
        "# # augmented waveforms are 2D len 1440 list with 2 waveforms in each position\n",
        "# librosa.display.waveshow(augmented_waveforms_temp[0][0], sr=sample_rate)\n",
        "# plt.title('AWGN Augmented')\n",
        "# plt.show()\n",
        "\n",
        "# plt.figure(figsize=(15,4))\n",
        "# plt.subplot(1, 2, 1)\n",
        "# librosa.display.waveshow(augmented_waveforms_temp[2][0], sr=sample_rate)\n",
        "# plt.title('AWGN Augmented')\n",
        "\n",
        "# plt.subplot(1, 2, 2)\n",
        "# librosa.display.waveshow(augmented_waveforms_temp[7][0], sr=sample_rate)\n",
        "# plt.title('AWGN Augmented')\n",
        "# plt.show()\n"
      ]
    },
    {
      "cell_type": "markdown",
      "metadata": {
        "id": "Z-GOeKiP60DV"
      },
      "source": [
        "Looks noisy alright. Noise is clearly visible in otherwise-silent regions of the waveform. We can see the variability of the noise, which should have an SNR between 15 and 30.\n",
        "\n",
        "**Note that augmentation was only done after splitting data into train, validation, and test sets - and we processed each set separately.**\n",
        "\n",
        "**When we augmented the data before splitting it, test and validation data leaked into the training set giving a 97% test accuracy after training.**\n",
        "\n",
        "## Format Data into Tensor Ready 4D Arrays\n",
        "We don't have a colour channel in our MFCC feature array of dim (#samples, #MFC coefficients, time steps). **We have an analog of a black and white image: instead of 3 colour channels, we have 1 signal intensity channel: magnitude of each of 40 mel frequency coefficients at time t.**\n",
        "\n",
        "**We need an input channel dim to expand to output channels using CNN filters. We create a dummy channel dim to expand features into 2D-CNN-ready 4D tensor format: N x C x H x W.**"
      ]
    },
    {
      "cell_type": "code",
      "execution_count": null,
      "metadata": {
        "id": "PQCm9rLx60DW",
        "colab": {
          "base_uri": "https://localhost:8080/"
        },
        "outputId": "f06c4097-2ce6-4474-9bfe-40b6fc32a3d3"
      },
      "outputs": [
        {
          "output_type": "stream",
          "name": "stdout",
          "text": [
            "Shape of 4D feature array for input tensor: (1290, 1, 40, 94) train, (429, 1, 40, 94) test\n",
            "Shape of emotion labels: (1290,) train, (429,) test\n"
          ]
        }
      ],
      "source": [
        "# need to make dummy input channel for CNN input feature tensor\n",
        "features_train = np.expand_dims(features_train,1)\n",
        "# features_valid = np.expand_dims(features_valid, 1)\n",
        "features_test = np.expand_dims(features_test,1)\n",
        "\n",
        "# # convert emotion labels from list back to numpy arrays for PyTorch to work with\n",
        "y_train = np.array(y_train)\n",
        "# y_valid = np.array(y_valid)\n",
        "y_test = np.array(y_test)\n",
        "\n",
        "# confiorm that we have tensor-ready 4D data array\n",
        "# should print (batch, channel, width, height) == (4320, 1, 128, 282) when multiples==2\n",
        "print(f'Shape of 4D feature array for input tensor: {features_train.shape} train, {features_test.shape} test')\n",
        "print(f'Shape of emotion labels: {y_train.shape} train, {y_test.shape} test')"
      ]
    },
    {
      "cell_type": "code",
      "execution_count": null,
      "metadata": {
        "id": "zDHxL8j11OjH"
      },
      "outputs": [],
      "source": [
        "X_train.shape"
      ]
    },
    {
      "cell_type": "code",
      "execution_count": null,
      "metadata": {
        "id": "3mHDd2jiB9o6"
      },
      "outputs": [],
      "source": [
        "# free up some RAM - no longer need full feature set or any waveforms\n",
        "# del features_train, features_valid, features_test, waveforms, augmented_waveforms_temp"
      ]
    },
    {
      "cell_type": "markdown",
      "metadata": {
        "id": "0Mr8NcUd60Dd"
      },
      "source": [
        "## Feature Scaling\n",
        "Scaling will drastically decrease the length of time the model needs to train to convergence - it will have easier computations to perform on smaller magnitudes. **For reference, scaling reduces the time to convergence from about 500 to 200 epochs for this model.**\n",
        "\n",
        "**Standard Scaling makes the most sense because we have features whose target distribution we don't know.** When I performed classification on this dataset with an MLP classifier standard scaling was best across a variety of conditions and features.\n"
      ]
    },
    {
      "cell_type": "code",
      "execution_count": null,
      "metadata": {
        "id": "tlOPCDUx60De",
        "colab": {
          "base_uri": "https://localhost:8080/"
        },
        "outputId": "4b34bf65-02a5-4597-e24f-44725447a168"
      },
      "outputs": [
        {
          "output_type": "stream",
          "name": "stdout",
          "text": [
            "X_train scaled:(1290, 1, 40, 94), y_train:(1290,)\n",
            "X_test scaled:(429, 1, 40, 94), y_test:(429,)\n"
          ]
        }
      ],
      "source": [
        "from sklearn.preprocessing import StandardScaler\n",
        "\n",
        "scaler = StandardScaler()\n",
        "\n",
        "\n",
        "#### Scale the training data ####\n",
        "# store shape so we can transform it back\n",
        "N,C,H,W = features_train.shape\n",
        "# Reshape to 1D because StandardScaler operates on a 1D array\n",
        "# tell numpy to infer shape of 1D array with '-1' argument\n",
        "features_train = np.reshape(features_train, (N,-1))\n",
        "features_train = scaler.fit_transform(features_train)\n",
        "# Transform back to NxCxHxW 4D tensor format\n",
        "features_train = np.reshape(features_train, (N,C,H,W))\n",
        "\n",
        "# ##### Scale the validation set ####\n",
        "# N,C,H,W = features_valid.shape\n",
        "# features_valid = np.reshape(features_valid, (N,-1))\n",
        "# features_valid = scaler.transform(features_valid)\n",
        "# features_valid = np.reshape(features_valid, (N,C,H,W))\n",
        "\n",
        "#### Scale the test set ####\n",
        "N,C,H,W = features_test.shape\n",
        "features_test = np.reshape(features_test, (N,-1))\n",
        "features_test = scaler.transform(features_test)\n",
        "features_test = np.reshape(features_test, (N,C,H,W))\n",
        "\n",
        "# check shape of each set again\n",
        "print(f'X_train scaled:{features_train.shape}, y_train:{y_train.shape}')\n",
        "# print(f'X_valid scaled:{features_valid.shape}, y_valid:{y_valid.shape}')\n",
        "print(f'X_test scaled:{features_test.shape}, y_test:{y_test.shape}')"
      ]
    },
    {
      "cell_type": "markdown",
      "metadata": {
        "id": "zvZh_Cuv7zAb"
      },
      "source": [
        "## Save and Reload Data as NumPy Arrays\n",
        "We can save the training/validation/test data as numpy arrays to enable faster loading in case the notebook kernel crashes / google colab runtime crashes / any number of reasons the training data might be cleared from memory. This is much faster than loading 1440 files and computing their features again - not to mention augmented features."
      ]
    },
    {
      "cell_type": "code",
      "execution_count": null,
      "metadata": {
        "id": "Q2EmDJEB42ty"
      },
      "outputs": [],
      "source": []
    },
    {
      "cell_type": "code",
      "execution_count": null,
      "metadata": {
        "colab": {
          "base_uri": "https://localhost:8080/"
        },
        "id": "yx4vK5ssRIzH",
        "outputId": "5245051b-efcb-46ea-cd7e-ed512c77a93a"
      },
      "outputs": [
        {
          "output_type": "stream",
          "name": "stdout",
          "text": [
            "Features and labels saved to /content/gdrive/MyDrive/att_w2v_kfold/k6/features+rawAudio+labels.npy\n"
          ]
        }
      ],
      "source": [
        "###### SAVE #########\n",
        "# choose save file name\n",
        "filename = '/content/gdrive/MyDrive/att_w2v_kfold/k6/features+rawAudio+labels.npy'\n",
        "\n",
        "# open file in write mode and write data\n",
        "with open(filename, 'wb') as f:\n",
        "    np.save(f, features_train)\n",
        "    np.save(f, X_train)\n",
        "    np.save(f, features_test)\n",
        "    np.save(f, X_test)\n",
        "\n",
        "    np.save(f, y_train)\n",
        "    np.save(f, y_test)\n",
        "\n",
        "print(f'Features and labels saved to {filename}')"
      ]
    },
    {
      "cell_type": "code",
      "execution_count": null,
      "metadata": {
        "colab": {
          "background_save": true
        },
        "id": "bj46pQstRKlI",
        "outputId": "44d1eeb4-fe44-4b68-e259-b18243df626d"
      },
      "outputs": [
        {
          "name": "stdout",
          "output_type": "stream",
          "text": [
            "X_train:(3870, 48000), features_train:(3870, 1, 40, 94), y_train:(3870,)\n",
            "X_test:(429, 48000) features_test: (429, 1, 40, 94), y_test:(429,)\n"
          ]
        }
      ],
      "source": [
        "##### LOAD #########\n",
        "# choose load file name\n",
        "filename = '/content/gdrive/MyDrive/att_w2v_kfold/k6/features+rawAudio+labels.npy'\n",
        "\n",
        "# open file in read mode and read data\n",
        "with open(filename, 'rb') as f:\n",
        "    features_train = np.load(f)\n",
        "    X_train = np.load(f)\n",
        "    # features_valid = np.load(f)\n",
        "\n",
        "    features_test = np.load(f)\n",
        "    X_test = np.load(f)\n",
        "\n",
        "    y_train = np.load(f)\n",
        "    # y_valid = np.load(f)\n",
        "    y_test = np.load(f)\n",
        "\n",
        "# Check that we've recovered the right data\n",
        "print(f'X_train:{X_train.shape}, features_train:{features_train.shape}, y_train:{y_train.shape}')\n",
        "# print(f'X_valid:{features_valid.shape}, y_valid:{y_valid.shape}')\n",
        "print(f'X_test:{X_test.shape} features_test: {features_test.shape}, y_test:{y_test.shape}')"
      ]
    },
    {
      "cell_type": "code",
      "execution_count": null,
      "metadata": {
        "colab": {
          "background_save": true
        },
        "id": "ZcdVeQiA_xLw",
        "outputId": "5a4e93b8-e663-4e54-b557-de6cdcdf8ffb"
      },
      "outputs": [
        {
          "data": {
            "text/plain": [
              "(3870, 48000)"
            ]
          },
          "execution_count": 27,
          "metadata": {},
          "output_type": "execute_result"
        }
      ],
      "source": [
        "X_train.shape"
      ]
    },
    {
      "cell_type": "code",
      "execution_count": null,
      "metadata": {
        "colab": {
          "background_save": true
        },
        "id": "L6ObDdbgjQaJ"
      },
      "outputs": [],
      "source": []
    },
    {
      "cell_type": "code",
      "execution_count": null,
      "metadata": {
        "colab": {
          "background_save": true
        },
        "id": "Xw7cZN8q877f",
        "outputId": "6821fd23-7007-4083-82c4-bf6ce07c8130"
      },
      "outputs": [
        {
          "name": "stdout",
          "output_type": "stream",
          "text": [
            "Input shape: torch.Size([2, 64, 1, 2])\n",
            "Output shape: torch.Size([2, 64, 1, 2])\n"
          ]
        }
      ],
      "source": [
        "class SpatialAttention(nn.Module):\n",
        "    def __init__(self, in_channels):\n",
        "        super(SpatialAttention, self).__init__()\n",
        "        self.conv1 = nn.Conv2d(in_channels * 2, 1, kernel_size=1)  # Double the channels in the convolution\n",
        "        self.sigmoid = nn.Sigmoid()\n",
        "\n",
        "    def forward(self, x):\n",
        "        # Assuming x has shape [batches, 64, 1, 8]\n",
        "        avg_pool = F.avg_pool2d(x, kernel_size=(1, x.size(3)))\n",
        "        max_pool = F.max_pool2d(x, kernel_size=(1, x.size(3)))\n",
        "\n",
        "        # Double the channels in the features concatenation\n",
        "        features = torch.cat([avg_pool, max_pool], dim=1)\n",
        "\n",
        "        attention = self.conv1(features)\n",
        "        attention = self.sigmoid(attention)\n",
        "\n",
        "        # Applying attention to the input tensor along the spatial dimension\n",
        "        x = x * attention\n",
        "\n",
        "        return x\n",
        "\n",
        "# Example usage\n",
        "batches, channels, height, width = 2, 64, 1, 2\n",
        "input_tensor = torch.randn(batches, channels, height, width)\n",
        "attention_module = SpatialAttention(in_channels=channels)\n",
        "output_tensor = attention_module(input_tensor)\n",
        "\n",
        "print(\"Input shape:\", input_tensor.shape)\n",
        "print(\"Output shape:\", output_tensor.shape)\n"
      ]
    },
    {
      "cell_type": "code",
      "execution_count": null,
      "metadata": {
        "colab": {
          "background_save": true
        },
        "id": "b0Eq8DIg9JTR",
        "outputId": "552913bf-b9cc-4b7b-969d-2c92e4b67485"
      },
      "outputs": [
        {
          "name": "stdout",
          "output_type": "stream",
          "text": [
            "Input shape: torch.Size([2, 64, 1, 2])\n",
            "Output shape: torch.Size([2, 64, 1, 2])\n"
          ]
        }
      ],
      "source": [
        "class ChannelAttention(nn.Module):\n",
        "    def __init__(self, in_channels, reduction=16):\n",
        "        super(ChannelAttention, self).__init__()\n",
        "        self.avg_pool = nn.AdaptiveAvgPool2d(1)\n",
        "        self.max_pool = nn.AdaptiveMaxPool2d(1)\n",
        "        self.fc = nn.Sequential(\n",
        "            nn.Linear(in_channels, in_channels // reduction),\n",
        "            nn.ReLU(),\n",
        "            nn.Linear(in_channels // reduction, in_channels),\n",
        "            nn.Sigmoid()\n",
        "        )\n",
        "\n",
        "    def forward(self, x):\n",
        "        avg_pool = self.avg_pool(x).view(x.size(0), -1)\n",
        "        max_pool = self.max_pool(x).view(x.size(0), -1)\n",
        "        channel_att = self.fc(avg_pool + max_pool).view(x.size(0), x.size(1), 1, 1)\n",
        "        x = x * channel_att\n",
        "        return x\n",
        "\n",
        "\n",
        "# Example usage\n",
        "batches, channels, height, width = 2, 64, 1, 2\n",
        "input_tensor = torch.randn(batches, channels, height, width)\n",
        "attention_module = ChannelAttention(in_channels=channels)\n",
        "output_tensor = attention_module(input_tensor)\n",
        "\n",
        "print(\"Input shape:\", input_tensor.shape)\n",
        "print(\"Output shape:\", output_tensor.shape)\n",
        "\n"
      ]
    },
    {
      "cell_type": "code",
      "execution_count": null,
      "metadata": {
        "colab": {
          "background_save": true
        },
        "id": "UZfXC9Zebrf_"
      },
      "outputs": [],
      "source": [
        "import torch\n",
        "import torch.nn as nn\n",
        "\n",
        "class Encoder1(nn.Module):\n",
        "    def __init__(self):\n",
        "        super(Encoder1, self).__init__()\n",
        "\n",
        "        self.encoder1 = nn.Sequential(\n",
        "            # 1st 2D convolution layer\n",
        "            nn.Conv2d(1, 16, kernel_size=3, stride=1, padding=1),\n",
        "            nn.BatchNorm2d(16),\n",
        "            nn.SELU(),\n",
        "            nn.MaxPool2d(kernel_size=2, stride=2),\n",
        "            nn.Dropout(p=0.3),\n",
        "\n",
        "            # 2nd 2D convolution layer\n",
        "            nn.Conv2d(16, 32, kernel_size=3, stride=1, padding=1),\n",
        "            nn.BatchNorm2d(32),\n",
        "            nn.SELU(),\n",
        "            nn.MaxPool2d(kernel_size=4, stride=4),\n",
        "            nn.Dropout(p=0.3),\n",
        "\n",
        "            # 3rd 2D convolution layer\n",
        "            nn.Conv2d(32, 64, kernel_size=3, stride=1, padding=1),\n",
        "            nn.BatchNorm2d(64),\n",
        "            nn.SELU(),\n",
        "            nn.MaxPool2d(kernel_size=4, stride=4)\n",
        "        )\n",
        "\n",
        "    def forward(self, x):\n",
        "        return self.encoder1(x)\n",
        "\n",
        "\n",
        "\n"
      ]
    },
    {
      "cell_type": "code",
      "execution_count": null,
      "metadata": {
        "colab": {
          "background_save": true
        },
        "id": "8O8F62-AU8RZ"
      },
      "outputs": [],
      "source": [
        "class Decoder1(nn.Module):\n",
        "    def __init__(self):\n",
        "        super(Decoder1, self).__init__()\n",
        "\n",
        "        self.decoder1 = nn.Sequential(\n",
        "            # 1st 2D transpose convolution layer\n",
        "            nn.ConvTranspose2d(64, 32, kernel_size=5, stride=(1, 4), padding=0, output_padding=(0, 2)),\n",
        "            nn.BatchNorm2d(32),\n",
        "            nn.SELU(),\n",
        "\n",
        "            # 2nd 2D transpose convolution layer\n",
        "            nn.ConvTranspose2d(32, 16, kernel_size=3, stride=4, padding=0, output_padding=(1, 2)),\n",
        "            nn.BatchNorm2d(16),\n",
        "            nn.SELU(),\n",
        "\n",
        "            # 3rd 2D transpose convolution layer\n",
        "            nn.ConvTranspose2d(16, 1, kernel_size=(3,7), stride=2, padding=1, output_padding=1)\n",
        "        )\n",
        "\n",
        "    def forward(self, x):\n",
        "        return self.decoder1(x)\n"
      ]
    },
    {
      "cell_type": "code",
      "execution_count": null,
      "metadata": {
        "colab": {
          "background_save": true
        },
        "id": "vuaEWdW7U-Hn"
      },
      "outputs": [],
      "source": [
        "\n",
        "class Autoencoder1(nn.Module):\n",
        "    def __init__(self):\n",
        "        super(Autoencoder1, self).__init__()\n",
        "        self.encoder = Encoder1()\n",
        "        self.spatial_attention = SpatialAttention(64)\n",
        "        self.channel_attention = ChannelAttention(64)\n",
        "        self.decoder = Decoder1()\n",
        "\n",
        "    def forward(self, x):\n",
        "        encoded = self.encoder(x)\n",
        "        # print(\"encoded1:\", encoded.shape)\n",
        "        sa = self.spatial_attention(encoded)\n",
        "        # print(\"sa1:\",sa.shape)\n",
        "        ca = self.channel_attention(encoded)\n",
        "        # print(\"ca1:\", ca.shape)\n",
        "        att_encoded = sa + ca + encoded\n",
        "\n",
        "        decoded = self.decoder(att_encoded)\n",
        "        return encoded, decoded\n"
      ]
    },
    {
      "cell_type": "code",
      "execution_count": null,
      "metadata": {
        "colab": {
          "background_save": true
        },
        "id": "xIiTmfm8VBYb",
        "outputId": "0e66444e-03f4-42ed-9c7a-724863bd2790"
      },
      "outputs": [
        {
          "data": {
            "text/plain": [
              "(torch.Size([1, 64, 1, 2]), torch.Size([1, 1, 40, 94]))"
            ]
          },
          "execution_count": 33,
          "metadata": {},
          "output_type": "execute_result"
        }
      ],
      "source": [
        "# Example usage\n",
        "autoencoder = Autoencoder1()\n",
        "input_data = torch.randn(1, 1, 40, 94)  # Replace with your input shape\n",
        "encoded1, decoded1 = autoencoder(input_data)\n",
        "encoded1.shape, decoded1.shape"
      ]
    },
    {
      "cell_type": "code",
      "execution_count": null,
      "metadata": {
        "colab": {
          "background_save": true
        },
        "id": "vYH4SzyKbXkw"
      },
      "outputs": [],
      "source": [
        "import torch.nn as nn\n",
        "\n",
        "class Encoder2(nn.Module):\n",
        "    def __init__(self):\n",
        "        super(Encoder2, self).__init__()\n",
        "\n",
        "        # Define the 2D convolutional layers\n",
        "        self.conv2Dblock = nn.Sequential(\n",
        "            # 1st 2D convolution layer\n",
        "            nn.Conv2d(1, 16, kernel_size=3, stride=1, padding=1),\n",
        "            nn.BatchNorm2d(16),\n",
        "            nn.SELU(),\n",
        "            nn.MaxPool2d(kernel_size=2, stride=2),\n",
        "            nn.Dropout(p=0.3),\n",
        "\n",
        "            # 2nd 2D convolution layer\n",
        "            nn.Conv2d(16, 32, kernel_size=3, stride=1, padding=1),\n",
        "            nn.BatchNorm2d(32),\n",
        "            nn.SELU(),\n",
        "            nn.MaxPool2d(kernel_size=4, stride=4),\n",
        "            nn.Dropout(p=0.3),\n",
        "\n",
        "            # 3rd 2D convolution layer\n",
        "            nn.Conv2d(32, 64, kernel_size=3, stride=1, padding=1),\n",
        "            nn.BatchNorm2d(64),\n",
        "            nn.SELU(),\n",
        "            nn.MaxPool2d(kernel_size=4, stride=4),\n",
        "            nn.Dropout(p=0.3)\n",
        "        )\n",
        "\n",
        "    def forward(self, x):\n",
        "        # Pass the input through the convolutional layers\n",
        "        return self.conv2Dblock(x)\n",
        "\n"
      ]
    },
    {
      "cell_type": "code",
      "execution_count": null,
      "metadata": {
        "colab": {
          "background_save": true
        },
        "id": "TtOYsGn2bXYU"
      },
      "outputs": [],
      "source": [
        "import torch.nn as nn\n",
        "\n",
        "class Decoder2(nn.Module):\n",
        "    def __init__(self):\n",
        "        super(Decoder2, self).__init__()\n",
        "\n",
        "        # Define the 2D transposed convolutional layers for the decoder\n",
        "        self.decoder2 = nn.Sequential(\n",
        "            # 1st 2D transposed convolution layer\n",
        "            nn.ConvTranspose2d(64, 32, kernel_size=5, stride=(1, 4), padding=0, output_padding=(0, 2)),\n",
        "            nn.BatchNorm2d(32),\n",
        "            nn.SELU(),\n",
        "\n",
        "            # 2nd 2D transposed convolution layer\n",
        "            nn.ConvTranspose2d(32, 16, kernel_size=3, stride=4, padding=0, output_padding=(1, 2)),\n",
        "            nn.BatchNorm2d(16),\n",
        "            nn.SELU(),\n",
        "\n",
        "            # 3rd 2D transposed convolution layer\n",
        "            nn.ConvTranspose2d(16, 1, kernel_size=(3,7), stride=2, padding=1, output_padding=1)\n",
        "        )\n",
        "\n",
        "    def forward(self, x):\n",
        "        # Pass the input through the decoder's transposed convolutional layers\n",
        "        return self.decoder2(x)\n",
        "\n"
      ]
    },
    {
      "cell_type": "code",
      "execution_count": null,
      "metadata": {
        "colab": {
          "background_save": true
        },
        "id": "l8S9c0vKbXP7",
        "outputId": "915de3b7-5862-4e91-f68c-add4730c5518"
      },
      "outputs": [
        {
          "data": {
            "text/plain": [
              "(torch.Size([1, 64, 1, 2]), torch.Size([1, 1, 40, 94]))"
            ]
          },
          "execution_count": 36,
          "metadata": {},
          "output_type": "execute_result"
        }
      ],
      "source": [
        "import torch.nn as nn\n",
        "\n",
        "class Autoencoder2(nn.Module):\n",
        "    def __init__(self):\n",
        "        super(Autoencoder2, self).__init__()\n",
        "\n",
        "        # Define the encoder and decoder\n",
        "        self.encoder = Encoder2()\n",
        "        self.spatial_attention = SpatialAttention(64)\n",
        "        self.channel_attention = ChannelAttention(64)\n",
        "        self.decoder = Decoder2()\n",
        "\n",
        "    def forward(self, x):\n",
        "        # Encode the input\n",
        "        encoded = self.encoder(x)\n",
        "        sa = self.spatial_attention(encoded)\n",
        "        ca = self.channel_attention(encoded)\n",
        "        att_encoded = sa + ca + encoded\n",
        "\n",
        "        # Decode the encoded representation\n",
        "        decoded = self.decoder(att_encoded)\n",
        "        return encoded, decoded\n",
        "# Example usage\n",
        "autoencoder2 = Autoencoder2()\n",
        "input_data = torch.randn(1, 1, 40, 94)  # Replace with your input shape\n",
        "encoded2, decoded2 = autoencoder2(input_data)\n",
        "encoded2.shape, decoded2.shape\n"
      ]
    },
    {
      "cell_type": "code",
      "execution_count": null,
      "metadata": {
        "colab": {
          "background_save": true
        },
        "id": "tdqK5CyM4H_n"
      },
      "outputs": [],
      "source": [
        "# import torch.nn as nn\n",
        "\n",
        "# class TransformerBlock(nn.Module):\n",
        "#     def __init__(self):\n",
        "#         super(TransformerBlock, self).__init__()\n",
        "\n",
        "#         # Maxpool the input feature map/tensor to the transformer\n",
        "#         self.transformer_maxpool = nn.MaxPool2d(kernel_size=[1, 4], stride=[1, 4])\n",
        "\n",
        "#         # Define a single transformer encoder layer\n",
        "#         transformer_layer = nn.TransformerEncoderLayer(\n",
        "#             d_model=40,            # Input feature (frequency) dim after max-pooling: 40*282 -> 40*70 (MFC * time)\n",
        "#             nhead=4,               # Number of self-attention layers in each multi-head self-attention layer in each encoder block\n",
        "#             dim_feedforward=512,   # Dimension for the feedforward network in each encoder block: 40 -> 512 -> 40\n",
        "#             dropout=0.4,\n",
        "#             activation='relu'      # Activation function (e.g., ReLU) for feedforward network\n",
        "#         )\n",
        "\n",
        "#         # The complete transformer block contains 4 full transformer encoder layers\n",
        "#         self.transformer_encoder = nn.TransformerEncoder(transformer_layer, num_layers=4)\n",
        "\n",
        "#     def forward(self, x):\n",
        "\n",
        "\n",
        "#                 ########## 4-encoder-layer Transformer block w/ 40-->512-->40 feedfwd network ##############\n",
        "#         # maxpool input feature map: 1*40*282 w/ 1*4 kernel --> 1*40*70\n",
        "#         x_maxpool = self.transformer_maxpool(x)\n",
        "\n",
        "#         # remove channel dim: 1*40*70 --> 40*70\n",
        "#         x_maxpool_reduced = torch.squeeze(x_maxpool,1)\n",
        "\n",
        "#         # convert maxpooled feature map format: batch * freq * time ---> time * batch * freq format\n",
        "#         # because transformer encoder layer requires tensor in format: time * batch * embedding (freq)\n",
        "#         x = x_maxpool_reduced.permute(2,0,1)\n",
        "\n",
        "#         # finally, pass reduced input feature map x into transformer encoder layers\n",
        "#         transformer_output = self.transformer_encoder(x)\n",
        "\n",
        "#         # create final feature emedding from transformer layer by taking mean in the time dimension (now the 0th dim)\n",
        "#         # transformer outputs 2x40 (MFCC embedding*time) feature map, take mean of columns i.e. take time average\n",
        "#         transformer_embedding = torch.mean(transformer_output, dim=0) # dim 40x70 --> 40\n",
        "#         return transformer_embedding\n",
        "\n",
        "# # You can use this TransformerBlock within your larger model as needed.\n"
      ]
    },
    {
      "cell_type": "code",
      "execution_count": null,
      "metadata": {
        "colab": {
          "background_save": true
        },
        "id": "9TVnM56Tz1Wi",
        "outputId": "2adcdd56-bd27-4e88-fd18-202e12a9b64d"
      },
      "outputs": [
        {
          "data": {
            "text/plain": [
              "(3870, 48000)"
            ]
          },
          "execution_count": 38,
          "metadata": {},
          "output_type": "execute_result"
        }
      ],
      "source": [
        "X_train.shape"
      ]
    },
    {
      "cell_type": "code",
      "execution_count": null,
      "metadata": {
        "colab": {
          "background_save": true
        },
        "id": "3DfsBLsR463y"
      },
      "outputs": [],
      "source": [
        "import torch.nn as nn\n",
        "\n",
        "class EmotionClassifier(nn.Module):\n",
        "    def __init__(self, num_emotions):\n",
        "        super(EmotionClassifier, self).__init__()\n",
        "\n",
        "        # Linear softmax layer to take the final concatenated embedding tensor\n",
        "        # from parallel 2D convolutional and transformer blocks, output 8 logits\n",
        "        # Each full convolution block outputs (64*1*8) embedding flattened to dim 512 1D array\n",
        "        # Full transformer block outputs 40*70 feature map, which we time-avg to dim 40 1D array\n",
        "        # 512*2 + 40 == 1064 input features --> 8 output emotions\n",
        "        self.fc1_linear = nn.Linear(128*3 , 128)\n",
        "        self.fc2_linear = nn.Linear(128 , num_emotions)\n",
        "        self.drop = nn.Dropout(p=0.1)\n",
        "\n",
        "\n",
        "\n",
        "        # Softmax layer for the 8 output logits from the final FC linear layer\n",
        "        self.softmax_out = nn.Softmax(dim=1)  # dim==1 refers to the frequency embedding\n",
        "\n",
        "    def forward(self,x):\n",
        "\n",
        "        # Pass the concatenated features through the final linear layer\n",
        "        out1 = self.fc1_linear(x)\n",
        "        out1 = self.drop(out1)\n",
        "        output = self.fc2_linear(out1)\n",
        "\n",
        "\n",
        "        # Apply softmax to get the class probabilities\n",
        "        class_probs = self.softmax_out(output)\n",
        "\n",
        "        return output , class_probs\n",
        "\n",
        "# You can use this EmotionClassifier as part of your larger model to perform emotion classification.\n"
      ]
    },
    {
      "cell_type": "code",
      "execution_count": null,
      "metadata": {
        "colab": {
          "background_save": true
        },
        "id": "GMXQKZMEnkmg"
      },
      "outputs": [],
      "source": [
        "# import torch\n",
        "# import torch.nn as nn\n",
        "\n",
        "# class CNNLinearModel(nn.Module):\n",
        "#     def __init__(self):\n",
        "#         super(CNNLinearModel, self).__init__()\n",
        "#         self.conv1 = nn.Conv2d(1, 1, kernel_size=(4, 4), stride=(2, 2))\n",
        "#         self.drop = nn.Dropout(p=0.1)\n",
        "#         self.relu = nn.ReLU(inplace=True)\n",
        "#         self.maxpool = nn.MaxPool2d(kernel_size=(2, 2), stride=(2, 2))\n",
        "#         self.conv2 = nn.Conv2d(1, 1, kernel_size=(4, 4), stride=(2, 2))\n",
        "#         self.fc1 = nn.Linear(376, 128)  # Adjust the input size based on your input shape\n",
        "\n",
        "#     def forward(self, x):\n",
        "#         x = self.conv1(x)\n",
        "#         x = self.relu(x)\n",
        "#         x = self.maxpool(x)\n",
        "#         x = self.drop(x)\n",
        "#         x = self.conv2(x)\n",
        "#         x = self.relu(x)\n",
        "#         x = self.maxpool(x)\n",
        "#         x = self.drop(x)\n",
        "#         x = torch.flatten(x, start_dim=1)\n",
        "#         # print(x.shape)\n",
        "#         x = self.fc1(x)\n",
        "#         return x\n",
        "\n",
        "# # Example usage\n",
        "# batches, channels, height, width = 2, 1, 149, 768\n",
        "# input_tensor = torch.randn(batches, channels, height, width)\n",
        "# model = CNNLinearModel()\n",
        "# print('Number of trainable params: ',sum(p.numel() for p in model.parameters()) )\n",
        "# output_tensor = model(input_tensor)\n",
        "\n",
        "# print(\"Input shape:\", input_tensor.shape)\n",
        "# print(\"Output shape:\", output_tensor.shape)\n",
        "\n"
      ]
    },
    {
      "cell_type": "code",
      "execution_count": null,
      "metadata": {
        "colab": {
          "background_save": true
        },
        "id": "TdjcC_6p_j1T"
      },
      "outputs": [],
      "source": [
        "# Combine the models\n",
        "\n",
        "\n",
        "\n",
        "class MultiTaskModel(nn.Module):\n",
        "    def __init__(self,num_emotions):\n",
        "\n",
        "        super(MultiTaskModel, self).__init__()\n",
        "        self.autoencoder1 = Autoencoder1()\n",
        "        self.autoencoder2 = Autoencoder2()\n",
        "        # self.transformerblock = TransformerBlock()\n",
        "        self.emotion_classifier = EmotionClassifier(num_emotions)\n",
        "        self.post_spec_mfcc_att_dropout = nn.Dropout(p=0.1)\n",
        "        self.post_spec_mfcc_att_layer = nn.Linear(256, 149)\n",
        "        self.post_wav_dropout = nn.Dropout(p=0.1)\n",
        "        self.post_wav_layer = nn.Linear(768, 128) # 512 for 1 and 768 for 2\n",
        "        self.drop = nn.Dropout(p=0.1)\n",
        "\n",
        "\n",
        "\n",
        "\n",
        "\n",
        "\n",
        "    def forward(self, x, y):\n",
        "\n",
        "        # print(w2v_features.shape)\n",
        "\n",
        "\n",
        "\n",
        "\n",
        "\n",
        "\n",
        "        encoded1, decoded1 = self.autoencoder1(x)\n",
        "        encoded1_embedding1 = torch.flatten(encoded1, start_dim=1)\n",
        "        # print(\"encoded1_embedding1\", encoded1_embedding1.shape)\n",
        "        encoded2, decoded2= self.autoencoder2(x)\n",
        "        encoded2_embedding2 = torch.flatten(encoded2, start_dim=1)\n",
        "        # print(\"encoded1_embedding2\", encoded2_embedding2.shape)\n",
        "\n",
        "\n",
        "        # FOR WAV2VEC2.0 WEIGHTS\n",
        "        spec_mfcc = torch.cat([encoded1_embedding1, encoded2_embedding2], dim=-1) # [batch, 256]\n",
        "        audio_spec_mfcc_att_d = self.post_spec_mfcc_att_dropout(spec_mfcc)# [batch, 256]\n",
        "        audio_spec_mfcc_att_p = F.relu(self.post_spec_mfcc_att_layer(audio_spec_mfcc_att_d), inplace=False)# [batch, 149]\n",
        "        audio_spec_mfcc_att_p = audio_spec_mfcc_att_p.reshape(audio_spec_mfcc_att_p.shape[0], 1, -1)# [batch, 1, 149]\n",
        "        #+ audio_spec_mfcc_att_2 = F.softmax(audio_spec_mfcc_att_1, dim=2)\n",
        "\n",
        "        # wav2vec 2.0\n",
        "        audio_wav = y # [batch, 149, 768]\n",
        "        audio_wav = torch.matmul(audio_spec_mfcc_att_p, audio_wav) # [batch, 1, 768]\n",
        "        audio_wav = audio_wav.reshape(audio_wav.shape[0], -1) # [batch, 768]\n",
        "        #audio_wav = torch.mean(audio_wav, dim=1)\n",
        "        audio_wav_d = self.post_wav_dropout(audio_wav) # [batch, 768]\n",
        "        audio_wav_p = F.relu(self.post_wav_layer(audio_wav_d), inplace=False) # [batch, 128]\n",
        "\n",
        "\n",
        "\n",
        "\n",
        "\n",
        "        complete_embedding = torch.cat([encoded1_embedding1, encoded2_embedding2,audio_wav_p], dim=1)\n",
        "        complete_embedding = self.drop(complete_embedding)\n",
        "\n",
        "        # print(\"complete_embedding\", complete_embedding.shape)\n",
        "\n",
        "\n",
        "        output_logits, output_softmax = self.emotion_classifier(complete_embedding)\n",
        "\n",
        "        return decoded1, decoded2, output_logits, output_softmax"
      ]
    },
    {
      "cell_type": "code",
      "execution_count": null,
      "metadata": {
        "colab": {
          "background_save": true
        },
        "id": "c3y4K40_a-ZT",
        "outputId": "721d8fcb-e8f8-427c-94fa-ee2672a52cde"
      },
      "outputs": [
        {
          "name": "stdout",
          "output_type": "stream",
          "text": [
            "Number of trainable params:  348073\n"
          ]
        },
        {
          "data": {
            "text/plain": [
              "(torch.Size([2, 1, 40, 94]),\n",
              " torch.Size([2, 1, 40, 94]),\n",
              " tensor([[ 0.2812,  0.1284,  0.5948,  0.7806,  0.2489, -1.9089, -1.3144, -2.7770],\n",
              "         [-0.2906,  1.1236, -0.9533,  0.0448, -0.5982, -2.7865,  1.6078, -3.6147]],\n",
              "        grad_fn=<AddmmBackward0>),\n",
              " tensor([[0.1612, 0.1383, 0.2205, 0.2656, 0.1561, 0.0180, 0.0327, 0.0076],\n",
              "         [0.0687, 0.2826, 0.0354, 0.0961, 0.0505, 0.0057, 0.4586, 0.0025]],\n",
              "        grad_fn=<SoftmaxBackward0>))"
            ]
          },
          "execution_count": 42,
          "metadata": {},
          "output_type": "execute_result"
        }
      ],
      "source": [
        "# Example usage\n",
        "model = MultiTaskModel(num_emotions=8)\n",
        "print('Number of trainable params: ',sum(p.numel() for p in model.parameters()) )\n",
        "\n",
        "input_data = torch.randn(2, 1, 40, 94)  # Replace with your input shape\n",
        "input_data2 = torch.randn( 2, 149, 768)  # Replace with your input shape\n",
        "# print(input_data2.unsqueeze(dim=1).shape)\n",
        "# rrr= input_data2.unsqueeze(dim=1)\n",
        "decoded1, decoded2, output_logits, output_softmax = model(input_data,input_data2)\n",
        "decoded1.shape, decoded2.shape, output_logits, output_softmax\n"
      ]
    },
    {
      "cell_type": "code",
      "execution_count": null,
      "metadata": {
        "colab": {
          "background_save": true
        },
        "id": "RYcFptSEdxHE"
      },
      "outputs": [],
      "source": [
        "# Loss functions\n",
        "autoencoder_criterion = nn.MSELoss()  # Use Mean Squared Error for autoencoder loss\n",
        "classifier_criterion = nn.CrossEntropyLoss()  # Use Cross-Entropy for emotion classification loss\n",
        "optimizer = torch.optim.SGD(model.parameters(),lr=0.01, weight_decay=1e-3, momentum=0.8)"
      ]
    },
    {
      "cell_type": "code",
      "execution_count": null,
      "metadata": {
        "colab": {
          "background_save": true
        },
        "id": "um-Jau0xNY5L"
      },
      "outputs": [],
      "source": []
    },
    {
      "cell_type": "code",
      "execution_count": null,
      "metadata": {
        "colab": {
          "background_save": true
        },
        "id": "3MQ6t3m0kaeg"
      },
      "outputs": [],
      "source": [
        "# define function to create a single step of the training phase\n",
        "def make_train_step(model, autoencoder_criterion, classifier_criterion, optimizer):\n",
        "\n",
        "    # define the training step of the training phase\n",
        "    def train_step(X, features, Y):\n",
        "        model.train()\n",
        "\n",
        "\n",
        "        # forward pass\n",
        "        decoded1, decoded2, output_logits, output_softmax  = model(X, features)\n",
        "        predictions = torch.argmax(output_softmax,dim=1)\n",
        "        accuracy = torch.sum(Y==predictions)/float(len(Y))\n",
        "\n",
        "        # Compute losses\n",
        "        autoencoder_loss1 = autoencoder_criterion(decoded1, X)\n",
        "        autoencoder_loss2 = autoencoder_criterion(decoded2, X)\n",
        "        classifier_loss = classifier_criterion(output_logits, Y)\n",
        "\n",
        "        # Define a trade-off parameter to balance losses\n",
        "        tradeoff = 0.4 # Adjust as needed\n",
        "\n",
        "        # Calculate the combined loss\n",
        "        loss = tradeoff * (autoencoder_loss1 + autoencoder_loss2) + (1 - tradeoff) * classifier_loss\n",
        "\n",
        "        # compute gradients for the optimizer to use\n",
        "        loss.backward()\n",
        "\n",
        "        # update network parameters based on gradient stored (by calling loss.backward())\n",
        "        optimizer.step()\n",
        "\n",
        "        # zero out gradients for next pass\n",
        "        # pytorch accumulates gradients from backwards passes (convenient for RNNs)\n",
        "        optimizer.zero_grad()\n",
        "\n",
        "        return loss.item(), accuracy*100, autoencoder_loss1.item(), autoencoder_loss2.item(), classifier_loss.item()\n",
        "    return train_step"
      ]
    },
    {
      "cell_type": "code",
      "execution_count": null,
      "metadata": {
        "colab": {
          "background_save": true
        },
        "id": "yLHclkxGx9vP"
      },
      "outputs": [],
      "source": [
        "def make_validate_fnc(model,autoencoder_criterion, classifier_criterion):\n",
        "    def validate(X,features,Y):\n",
        "\n",
        "        # don't want to update any network parameters on validation passes: don't need gradient\n",
        "        # wrap in torch.no_grad to save memory and compute in validation phase:\n",
        "        with torch.no_grad():\n",
        "\n",
        "            # set model to validation phase i.e. turn off dropout and batchnorm layers\n",
        "            model.eval()\n",
        "\n",
        "            # get the model's predictions on the validation set\n",
        "            decoded1, decoded2, output_logits, output_softmax  = model(X, features)\n",
        "            predictions = torch.argmax(output_softmax,dim=1)\n",
        "\n",
        "            # calculate the mean accuracy over the entire validation set\n",
        "            accuracy = torch.sum(Y==predictions)/float(len(Y))\n",
        "\n",
        "            # Compute losses\n",
        "            autoencoder_loss1 = autoencoder_criterion(decoded1, X)\n",
        "            autoencoder_loss2 = autoencoder_criterion(decoded2, X)\n",
        "            classifier_loss = classifier_criterion(output_logits, Y)\n",
        "\n",
        "            # compute error from logits (nn.crossentropy implements softmax)\n",
        "            # Define a trade-off parameter to balance losses\n",
        "            tradeoff = 0.4 # Adjust as needed\n",
        "\n",
        "            # Calculate the combined loss\n",
        "            loss = tradeoff * (autoencoder_loss1 + autoencoder_loss2) + (1 - tradeoff) * classifier_loss\n",
        "\n",
        "\n",
        "        return loss.item(), accuracy*100, autoencoder_loss1.item(), autoencoder_loss2.item(), classifier_loss.item(), predictions\n",
        "    return validate"
      ]
    },
    {
      "cell_type": "code",
      "execution_count": null,
      "metadata": {
        "colab": {
          "background_save": true
        },
        "id": "qlELYNnnyUUD"
      },
      "outputs": [],
      "source": [
        "def make_save_checkpoint():\n",
        "    def save_checkpoint(optimizer, model, epoch, filename):\n",
        "        checkpoint_dict = {\n",
        "            'optimizer': optimizer.state_dict(),\n",
        "            'model': model.state_dict(),\n",
        "            'epoch': epoch\n",
        "        }\n",
        "        torch.save(checkpoint_dict, filename)\n",
        "    return save_checkpoint\n",
        "\n",
        "def load_checkpoint(optimizer, model, filename):\n",
        "    checkpoint_dict = torch.load(filename)\n",
        "    epoch = checkpoint_dict['epoch']\n",
        "    model.load_state_dict(checkpoint_dict['model'])\n",
        "    if optimizer is not None:\n",
        "        optimizer.load_state_dict(checkpoint_dict['optimizer'])\n",
        "    return epoch"
      ]
    },
    {
      "cell_type": "code",
      "execution_count": null,
      "metadata": {
        "colab": {
          "background_save": true
        },
        "id": "HqDdx6tCLvjV",
        "outputId": "6c19b7fc-97d2-4ec1-a60e-aed2b1de124e"
      },
      "outputs": [
        {
          "name": "stdout",
          "output_type": "stream",
          "text": [
            "cpu selected\n"
          ]
        }
      ],
      "source": [
        "# get training set size to calculate # iterations and minibatch indices\n",
        "train_size = X_train.shape[0]\n",
        "\n",
        "# pick minibatch size (of 32... always)\n",
        "minibatch = 32\n",
        "\n",
        "# set device to GPU\n",
        "device = 'cuda' if torch.cuda.is_available() else 'cpu'\n",
        "print(f'{device} selected')\n",
        "\n"
      ]
    },
    {
      "cell_type": "code",
      "execution_count": null,
      "metadata": {
        "colab": {
          "background_save": true
        },
        "id": "GwTutLftLzGm",
        "outputId": "0b80e4c6-963b-43c9-b0b5-b226bf7c240d"
      },
      "outputs": [
        {
          "name": "stdout",
          "output_type": "stream",
          "text": [
            "Number of trainable params:  348073\n"
          ]
        }
      ],
      "source": [
        "# instantiate model and move to GPU for training\n",
        "model = MultiTaskModel(num_emotions=len(emotions_dict)).to(device)\n",
        "print('Number of trainable params: ',sum(p.numel() for p in model.parameters()) )"
      ]
    },
    {
      "cell_type": "code",
      "execution_count": null,
      "metadata": {
        "colab": {
          "background_save": true
        },
        "id": "XIvcVjmLL2GW"
      },
      "outputs": [],
      "source": [
        "# encountered bugs in google colab only, unless I explicitly defined optimizer in this cell...\n",
        "optimizer = torch.optim.AdamW(model.parameters(),lr=0.001, weight_decay=1e-3)\n",
        "# Loss functions\n",
        "autoencoder_criterion = nn.MSELoss()  # Use Mean Squared Error for autoencoder loss\n",
        "classifier_criterion = nn.CrossEntropyLoss()  # Use Cross-Entropy for emotion classification loss"
      ]
    },
    {
      "cell_type": "code",
      "execution_count": null,
      "metadata": {
        "colab": {
          "background_save": true
        },
        "id": "VRsAfkRZL84X"
      },
      "outputs": [],
      "source": [
        "# instantiate the checkpoint save function\n",
        "save_checkpoint = make_save_checkpoint()\n",
        "\n",
        "# instantiate the training step function\n",
        "train_step = make_train_step(model, autoencoder_criterion, classifier_criterion, optimizer=optimizer)\n",
        "\n",
        "# instantiate the validation loop function\n",
        "validate = make_validate_fnc(model,autoencoder_criterion, classifier_criterion)\n",
        "\n"
      ]
    },
    {
      "cell_type": "code",
      "execution_count": null,
      "metadata": {
        "colab": {
          "background_save": true
        },
        "id": "h2xNDb87YpRN"
      },
      "outputs": [],
      "source": [
        "# instantiate lists to hold scalar performance metrics to plot later\n",
        "train_losses=[]\n",
        "valid_losses = []\n",
        "train_autoencoder_losses1=[]\n",
        "train_autoencoder_losses2=[]\n",
        "train_classifier_losses=[]\n",
        "\n",
        "\n",
        "valid_autoencoder_losses1=[]\n",
        "valid_autoencoder_losses2=[]\n",
        "valid_classifier_losses=[]"
      ]
    },
    {
      "cell_type": "code",
      "execution_count": null,
      "metadata": {
        "id": "X216zyEUzerO"
      },
      "outputs": [],
      "source": [
        "\n",
        "# Load the pretrained model and processor\n",
        "processor = Wav2Vec2Processor.from_pretrained(\"facebook/wav2vec2-base-960h\")\n",
        "w2v = Wav2Vec2Model.from_pretrained(\"facebook/wav2vec2-base-960h\")"
      ]
    },
    {
      "cell_type": "code",
      "execution_count": null,
      "metadata": {
        "id": "uT0GgS9mNxI5"
      },
      "outputs": [],
      "source": [
        "# features_train\n",
        "# features_valid\n",
        "# features_test"
      ]
    },
    {
      "cell_type": "code",
      "execution_count": null,
      "metadata": {
        "id": "AlAGsrcCiZFr"
      },
      "outputs": [],
      "source": []
    },
    {
      "cell_type": "code",
      "execution_count": null,
      "metadata": {
        "id": "fyy32mmECe5c"
      },
      "outputs": [],
      "source": [
        "# create training loop for one complete epoch (entire training set)\n",
        "def train(optimizer, model, num_epochs, X_train, Features_train, Y_train, Xvalid, features_valid, Yvalid, train_index, test_index):\n",
        "    e = 0\n",
        "\n",
        "    for epoch in range(num_epochs):\n",
        "\n",
        "        # set model to train phase\n",
        "        model.train()\n",
        "\n",
        "        # shuffle entire training set in each epoch to randomize minibatch order\n",
        "        train_indices = np.random.permutation(train_size)\n",
        "\n",
        "        # shuffle the training set for each epoch:\n",
        "        Features_train = Features_train[train_indices,:,:,:]\n",
        "        X_train = X_train[train_indices,:]\n",
        "        Y_train = Y_train[train_indices]\n",
        "        # print(X_train.shape,Y_train.shape, Features_train.shape)\n",
        "\n",
        "\n",
        "\n",
        "        # instantiate scalar values to keep track of progress after each epoch so we can stop training when appropriate\n",
        "        epoch_acc = 0\n",
        "        epoch_loss = 0\n",
        "        epoch_autoencoder_loss1 = 0\n",
        "        epoch_autoencoder_loss2 = 0\n",
        "        epoch_classifier_loss = 0\n",
        "\n",
        "\n",
        "\n",
        "\n",
        "        num_iterations = int(train_size / minibatch)\n",
        "\n",
        "        # create a loop for each minibatch of 32 samples:\n",
        "        for i in range(num_iterations):\n",
        "\n",
        "            # we have to track and update minibatch position for the current minibatch\n",
        "            # if we take a random batch position from a set, we almost certainly will skip some of the data in that set\n",
        "            # track minibatch position based on iteration number:\n",
        "            batch_start = i * minibatch\n",
        "            # ensure we don't go out of the bounds of our training set:\n",
        "            batch_end = min(batch_start + minibatch, train_size)\n",
        "            # ensure we don't have an index error\n",
        "            actual_batch_size = batch_end-batch_start\n",
        "\n",
        "            # get training minibatch with all channnels and 2D feature dims\n",
        "            features_train = Features_train[batch_start:batch_end,:,:,:]\n",
        "            # print('\\n',features_train.shape)\n",
        "\n",
        "            X = X_train[batch_start:batch_end,:]\n",
        "            # print(\"pr:\", X.shape)\n",
        "\n",
        "            audio_input = processor(X,\n",
        "                                    sampling_rate=16000,\n",
        "                                    return_tensors=\"pt\")\n",
        "            with torch.no_grad():\n",
        "              X = w2v(**audio_input).last_hidden_state\n",
        "\n",
        "            # print(\"after:\", X.shape)\n",
        "\n",
        "\n",
        "\n",
        "\n",
        "            # get training minibatch labels\n",
        "            Y = Y_train[batch_start:batch_end]\n",
        "\n",
        "            # instantiate training tensors\n",
        "            X_tensor = torch.tensor(X, device=device).float()\n",
        "            features_train = torch.tensor(features_train, device=device).float()\n",
        "\n",
        "            Y_tensor = torch.tensor(Y, dtype=torch.long,device=device)\n",
        "            # Pass input tensors thru 1 training step (fwd+backwards pass)\n",
        "\n",
        "            loss, acc, autoencoder_loss1, autoencoder_loss2, classifier_loss = train_step(features_train, X_tensor,Y_tensor)\n",
        "\n",
        "            # aggregate batch accuracy to measure progress of entire epoch\n",
        "            epoch_acc += acc * actual_batch_size / train_size\n",
        "            epoch_loss += loss * actual_batch_size / train_size\n",
        "            epoch_autoencoder_loss1 += autoencoder_loss1 * actual_batch_size / train_size\n",
        "            epoch_autoencoder_loss2 += autoencoder_loss2 * actual_batch_size / train_size\n",
        "            epoch_classifier_loss += classifier_loss * actual_batch_size / train_size\n",
        "            e = epoch\n",
        "\n",
        "            # keep track of the iteration to see if the model's too slow\n",
        "\n",
        "\n",
        "        # create tensors from validation set\n",
        "        valid_audio_input = processor(Xvalid,\n",
        "                                      sampling_rate=16000,\n",
        "                                      return_tensors=\"pt\")\n",
        "        with torch.no_grad():\n",
        "          valid_audio_input_feature = w2v(**valid_audio_input).last_hidden_state\n",
        "        X_valid_tensor = torch.tensor(valid_audio_input_feature,device=device).float()\n",
        "        features_valid = torch.tensor(features_valid,device=device).float()\n",
        "        Y_valid_tensor = torch.tensor(Yvalid,dtype=torch.long,device=device)\n",
        "\n",
        "        # calculate validation metrics to keep track of progress; don't need predictions now\n",
        "        valid_loss, valid_acc, valid_autoencoder_loss1, valid_autoencoder_loss2, valid_classifier_loss, _ = validate(features_valid,\n",
        "                                                                                                                    X_valid_tensor,\n",
        "                                                                                                                     Y_valid_tensor)\n",
        "\n",
        "        # accumulate scalar performance metrics at each epoch to track and plot later\n",
        "        train_losses.append(epoch_loss)\n",
        "        train_autoencoder_losses1.append(epoch_autoencoder_loss1)\n",
        "        train_autoencoder_losses2.append(epoch_autoencoder_loss2)\n",
        "        train_classifier_losses.append(epoch_classifier_loss)\n",
        "\n",
        "        valid_losses.append(valid_loss)\n",
        "        valid_autoencoder_losses1.append(valid_autoencoder_loss1)\n",
        "        valid_autoencoder_losses2.append(valid_autoencoder_loss2)\n",
        "        valid_classifier_losses.append(valid_classifier_loss )\n",
        "\n",
        "\n",
        "        # Save checkpoint of the model\n",
        "        checkpoint_filename = '/content/gdrive/MyDrive/att_w2v_kfold/k6/k_6_kfold-att_w2v_SpatialAttention_and_channel_attention_dropout.pkl'\n",
        "        save_checkpoint(optimizer, model, epoch, checkpoint_filename)\n",
        "\n",
        "                ###### SAVE #########\n",
        "        # choose save file name\n",
        "        filename = '/content/gdrive/MyDrive/att_w2v_kfold/k6/losses.npy'\n",
        "\n",
        "        # open file in write mode and write data\n",
        "        with open(filename, 'wb') as f:\n",
        "            np.save(f, train_losses)\n",
        "            np.save(f, train_autoencoder_losses1)\n",
        "            np.save(f, train_autoencoder_losses2)\n",
        "            np.save(f, train_classifier_losses)\n",
        "            np.save(f, valid_losses)\n",
        "            np.save(f, valid_autoencoder_losses1)\n",
        "            np.save(f, valid_autoencoder_losses2)\n",
        "            np.save(f, valid_classifier_losses)\n",
        "\n",
        "\n",
        "        # print(f'Features and labels saved to {filename}')\n",
        "        # print('\\r'+f'Epoch {e}, end='')\n",
        "\n",
        "        # keep track of each epoch's progress\n",
        "        # if epoch == num_epochs-1:\n",
        "        print(f'\\nEpoch {epoch} --- loss:{epoch_loss:.3f}, Epoch accuracy:{epoch_acc:.2f}%, Validation loss:{valid_loss:.3f}, Validation accuracy:{valid_acc:.2f}%')\n",
        "        print(f'\\nEpoch {epoch} --- epoch_autoencoder_loss1:{epoch_autoencoder_loss1:.3f}, epoch_autoencoder_loss2:{epoch_autoencoder_loss2 :.2f}, epoch_classifier_loss:{epoch_classifier_loss:.3f}')\n",
        "        print(f'\\nEpoch {epoch} --- valid_autoencoder_loss1:{valid_autoencoder_loss1 :.3f}, valid_autoencoder_loss2:{valid_autoencoder_loss2:.2f}, valid_classifier_loss:{valid_classifier_loss:.3f}\\n\\n')\n",
        "\n",
        "\n"
      ]
    },
    {
      "cell_type": "code",
      "execution_count": null,
      "metadata": {
        "id": "eIonIcW5Alq8"
      },
      "outputs": [],
      "source": [
        "import random\n",
        "from sklearn.ensemble import RandomForestClassifier\n",
        "from sklearn.model_selection import KFold\n",
        "kfold = KFold(n_splits=10, shuffle=True, random_state=42)\n",
        "i = 0\n",
        "\n",
        "train_index, test_index = list(kfold.split(X_train, y_train))[5]\n",
        "\n",
        "Xtrain, Xvalid = X_train[train_index], X_train[test_index]\n",
        "ytrain, yvalid = y_train[train_index], y_train[test_index]\n",
        "FeaturesTrain, FeaturesValid = features_train[train_index], features_train[test_index]\n",
        "print(Xtrain.shape, Xvalid.shape, FeaturesTrain.shape, FeaturesValid.shape)\n",
        "train_size = Xtrain.shape[0]\n",
        "\n",
        "\n",
        "\n",
        "\n",
        "\n"
      ]
    },
    {
      "cell_type": "code",
      "execution_count": null,
      "metadata": {
        "colab": {
          "base_uri": "https://localhost:8080/"
        },
        "id": "Kc52hNzRCTMX",
        "outputId": "899437d6-88a6-462c-8276-e284855563cf"
      },
      "outputs": [
        {
          "output_type": "stream",
          "name": "stdout",
          "text": [
            "\n",
            "Epoch 0 --- loss:2.050, Epoch accuracy:24.59%, Validation loss:1.910, Validation accuracy:29.56%\n",
            "\n",
            "Epoch 0 --- epoch_autoencoder_loss1:1.052, epoch_autoencoder_loss2:1.06, epoch_classifier_loss:2.018\n",
            "\n",
            "Epoch 0 --- valid_autoencoder_loss1:1.009, valid_autoencoder_loss2:1.01, valid_classifier_loss:1.778\n",
            "\n",
            "\n",
            "\n",
            "Epoch 1 --- loss:1.761, Epoch accuracy:37.40%, Validation loss:1.732, Validation accuracy:41.70%\n",
            "\n",
            "Epoch 1 --- epoch_autoencoder_loss1:0.967, epoch_autoencoder_loss2:0.99, epoch_classifier_loss:1.641\n",
            "\n",
            "Epoch 1 --- valid_autoencoder_loss1:0.966, valid_autoencoder_loss2:1.00, valid_classifier_loss:1.515\n",
            "\n",
            "\n",
            "\n",
            "Epoch 2 --- loss:1.646, Epoch accuracy:45.55%, Validation loss:1.602, Validation accuracy:45.84%\n",
            "\n",
            "Epoch 2 --- epoch_autoencoder_loss1:0.943, epoch_autoencoder_loss2:0.98, epoch_classifier_loss:1.471\n",
            "\n",
            "Epoch 2 --- valid_autoencoder_loss1:0.947, valid_autoencoder_loss2:0.99, valid_classifier_loss:1.322\n",
            "\n",
            "\n",
            "\n",
            "Epoch 3 --- loss:1.559, Epoch accuracy:50.37%, Validation loss:1.528, Validation accuracy:52.56%\n",
            "\n",
            "Epoch 3 --- epoch_autoencoder_loss1:0.930, epoch_autoencoder_loss2:0.97, epoch_classifier_loss:1.341\n",
            "\n",
            "Epoch 3 --- valid_autoencoder_loss1:0.936, valid_autoencoder_loss2:0.98, valid_classifier_loss:1.210\n",
            "\n",
            "\n",
            "\n",
            "Epoch 4 --- loss:1.516, Epoch accuracy:53.13%, Validation loss:1.559, Validation accuracy:48.42%\n",
            "\n",
            "Epoch 4 --- epoch_autoencoder_loss1:0.921, epoch_autoencoder_loss2:0.96, epoch_classifier_loss:1.279\n",
            "\n",
            "Epoch 4 --- valid_autoencoder_loss1:0.929, valid_autoencoder_loss2:0.97, valid_classifier_loss:1.274\n",
            "\n",
            "\n",
            "\n",
            "Epoch 5 --- loss:1.476, Epoch accuracy:55.77%, Validation loss:1.422, Validation accuracy:57.72%\n",
            "\n",
            "Epoch 5 --- epoch_autoencoder_loss1:0.917, epoch_autoencoder_loss2:0.96, epoch_classifier_loss:1.218\n",
            "\n",
            "Epoch 5 --- valid_autoencoder_loss1:0.924, valid_autoencoder_loss2:0.97, valid_classifier_loss:1.050\n",
            "\n",
            "\n",
            "\n",
            "Epoch 6 --- loss:1.429, Epoch accuracy:58.12%, Validation loss:1.413, Validation accuracy:58.50%\n",
            "\n",
            "Epoch 6 --- epoch_autoencoder_loss1:0.913, epoch_autoencoder_loss2:0.95, epoch_classifier_loss:1.145\n",
            "\n",
            "Epoch 6 --- valid_autoencoder_loss1:0.921, valid_autoencoder_loss2:0.96, valid_classifier_loss:1.044\n",
            "\n",
            "\n",
            "\n",
            "Epoch 7 --- loss:1.401, Epoch accuracy:60.19%, Validation loss:1.380, Validation accuracy:58.76%\n",
            "\n",
            "Epoch 7 --- epoch_autoencoder_loss1:0.908, epoch_autoencoder_loss2:0.95, epoch_classifier_loss:1.108\n",
            "\n",
            "Epoch 7 --- valid_autoencoder_loss1:0.918, valid_autoencoder_loss2:0.96, valid_classifier_loss:0.991\n",
            "\n",
            "\n",
            "\n",
            "Epoch 8 --- loss:1.371, Epoch accuracy:61.37%, Validation loss:1.335, Validation accuracy:63.93%\n",
            "\n",
            "Epoch 8 --- epoch_autoencoder_loss1:0.906, epoch_autoencoder_loss2:0.94, epoch_classifier_loss:1.061\n",
            "\n",
            "Epoch 8 --- valid_autoencoder_loss1:0.918, valid_autoencoder_loss2:0.95, valid_classifier_loss:0.919\n",
            "\n",
            "\n",
            "\n",
            "Epoch 9 --- loss:1.343, Epoch accuracy:62.89%, Validation loss:1.298, Validation accuracy:68.06%\n",
            "\n",
            "Epoch 9 --- epoch_autoencoder_loss1:0.905, epoch_autoencoder_loss2:0.94, epoch_classifier_loss:1.014\n",
            "\n",
            "Epoch 9 --- valid_autoencoder_loss1:0.914, valid_autoencoder_loss2:0.95, valid_classifier_loss:0.861\n",
            "\n",
            "\n",
            "\n",
            "Epoch 10 --- loss:1.302, Epoch accuracy:65.53%, Validation loss:1.239, Validation accuracy:69.35%\n",
            "\n",
            "Epoch 10 --- epoch_autoencoder_loss1:0.902, epoch_autoencoder_loss2:0.94, epoch_classifier_loss:0.951\n",
            "\n",
            "Epoch 10 --- valid_autoencoder_loss1:0.912, valid_autoencoder_loss2:0.95, valid_classifier_loss:0.766\n",
            "\n",
            "\n",
            "\n",
            "Epoch 11 --- loss:1.291, Epoch accuracy:66.28%, Validation loss:1.268, Validation accuracy:68.32%\n",
            "\n",
            "Epoch 11 --- epoch_autoencoder_loss1:0.901, epoch_autoencoder_loss2:0.94, epoch_classifier_loss:0.935\n",
            "\n",
            "Epoch 11 --- valid_autoencoder_loss1:0.912, valid_autoencoder_loss2:0.94, valid_classifier_loss:0.816\n",
            "\n",
            "\n",
            "\n",
            "Epoch 12 --- loss:1.262, Epoch accuracy:67.46%, Validation loss:1.260, Validation accuracy:67.28%\n",
            "\n",
            "Epoch 12 --- epoch_autoencoder_loss1:0.901, epoch_autoencoder_loss2:0.93, epoch_classifier_loss:0.887\n",
            "\n",
            "Epoch 12 --- valid_autoencoder_loss1:0.909, valid_autoencoder_loss2:0.94, valid_classifier_loss:0.809\n",
            "\n",
            "\n",
            "\n",
            "Epoch 13 --- loss:1.225, Epoch accuracy:70.84%, Validation loss:1.267, Validation accuracy:66.51%\n",
            "\n",
            "Epoch 13 --- epoch_autoencoder_loss1:0.898, epoch_autoencoder_loss2:0.93, epoch_classifier_loss:0.830\n",
            "\n",
            "Epoch 13 --- valid_autoencoder_loss1:0.911, valid_autoencoder_loss2:0.94, valid_classifier_loss:0.819\n",
            "\n",
            "\n",
            "\n",
            "Epoch 14 --- loss:1.210, Epoch accuracy:72.11%, Validation loss:1.195, Validation accuracy:69.87%\n",
            "\n",
            "Epoch 14 --- epoch_autoencoder_loss1:0.898, epoch_autoencoder_loss2:0.93, epoch_classifier_loss:0.806\n",
            "\n",
            "Epoch 14 --- valid_autoencoder_loss1:0.907, valid_autoencoder_loss2:0.94, valid_classifier_loss:0.703\n",
            "\n",
            "\n",
            "\n",
            "Epoch 15 --- loss:1.190, Epoch accuracy:72.94%, Validation loss:1.270, Validation accuracy:68.58%\n",
            "\n",
            "Epoch 15 --- epoch_autoencoder_loss1:0.895, epoch_autoencoder_loss2:0.93, epoch_classifier_loss:0.776\n",
            "\n",
            "Epoch 15 --- valid_autoencoder_loss1:0.905, valid_autoencoder_loss2:0.93, valid_classifier_loss:0.834\n",
            "\n",
            "\n",
            "\n",
            "Epoch 16 --- loss:1.188, Epoch accuracy:73.26%, Validation loss:1.130, Validation accuracy:75.55%\n",
            "\n",
            "Epoch 16 --- epoch_autoencoder_loss1:0.895, epoch_autoencoder_loss2:0.93, epoch_classifier_loss:0.773\n",
            "\n",
            "Epoch 16 --- valid_autoencoder_loss1:0.905, valid_autoencoder_loss2:0.93, valid_classifier_loss:0.600\n",
            "\n",
            "\n",
            "\n",
            "Epoch 17 --- loss:1.173, Epoch accuracy:73.66%, Validation loss:1.125, Validation accuracy:74.26%\n",
            "\n",
            "Epoch 17 --- epoch_autoencoder_loss1:0.893, epoch_autoencoder_loss2:0.92, epoch_classifier_loss:0.751\n",
            "\n",
            "Epoch 17 --- valid_autoencoder_loss1:0.904, valid_autoencoder_loss2:0.93, valid_classifier_loss:0.595\n",
            "\n",
            "\n",
            "\n",
            "Epoch 18 --- loss:1.137, Epoch accuracy:75.81%, Validation loss:1.107, Validation accuracy:75.04%\n",
            "\n",
            "Epoch 18 --- epoch_autoencoder_loss1:0.892, epoch_autoencoder_loss2:0.92, epoch_classifier_loss:0.692\n",
            "\n",
            "Epoch 18 --- valid_autoencoder_loss1:0.902, valid_autoencoder_loss2:0.93, valid_classifier_loss:0.564\n",
            "\n",
            "\n",
            "\n",
            "Epoch 19 --- loss:1.154, Epoch accuracy:74.40%, Validation loss:1.093, Validation accuracy:77.10%\n",
            "\n",
            "Epoch 19 --- epoch_autoencoder_loss1:0.893, epoch_autoencoder_loss2:0.92, epoch_classifier_loss:0.720\n",
            "\n",
            "Epoch 19 --- valid_autoencoder_loss1:0.904, valid_autoencoder_loss2:0.93, valid_classifier_loss:0.542\n",
            "\n",
            "\n",
            "\n",
            "Epoch 20 --- loss:1.109, Epoch accuracy:77.99%, Validation loss:1.103, Validation accuracy:77.10%\n",
            "\n",
            "Epoch 20 --- epoch_autoencoder_loss1:0.890, epoch_autoencoder_loss2:0.92, epoch_classifier_loss:0.648\n",
            "\n",
            "Epoch 20 --- valid_autoencoder_loss1:0.905, valid_autoencoder_loss2:0.93, valid_classifier_loss:0.559\n",
            "\n",
            "\n",
            "\n",
            "Epoch 21 --- loss:1.087, Epoch accuracy:79.37%, Validation loss:1.067, Validation accuracy:78.40%\n",
            "\n",
            "Epoch 21 --- epoch_autoencoder_loss1:0.890, epoch_autoencoder_loss2:0.92, epoch_classifier_loss:0.612\n",
            "\n",
            "Epoch 21 --- valid_autoencoder_loss1:0.900, valid_autoencoder_loss2:0.92, valid_classifier_loss:0.503\n",
            "\n",
            "\n",
            "\n",
            "Epoch 22 --- loss:1.084, Epoch accuracy:78.57%, Validation loss:1.046, Validation accuracy:79.69%\n",
            "\n",
            "Epoch 22 --- epoch_autoencoder_loss1:0.889, epoch_autoencoder_loss2:0.92, epoch_classifier_loss:0.608\n",
            "\n",
            "Epoch 22 --- valid_autoencoder_loss1:0.901, valid_autoencoder_loss2:0.92, valid_classifier_loss:0.469\n",
            "\n",
            "\n",
            "\n",
            "Epoch 23 --- loss:1.093, Epoch accuracy:78.60%, Validation loss:1.076, Validation accuracy:77.36%\n",
            "\n",
            "Epoch 23 --- epoch_autoencoder_loss1:0.888, epoch_autoencoder_loss2:0.92, epoch_classifier_loss:0.625\n",
            "\n",
            "Epoch 23 --- valid_autoencoder_loss1:0.899, valid_autoencoder_loss2:0.92, valid_classifier_loss:0.520\n",
            "\n",
            "\n",
            "\n",
            "Epoch 24 --- loss:1.049, Epoch accuracy:81.15%, Validation loss:1.121, Validation accuracy:75.29%\n",
            "\n",
            "Epoch 24 --- epoch_autoencoder_loss1:0.887, epoch_autoencoder_loss2:0.92, epoch_classifier_loss:0.553\n",
            "\n",
            "Epoch 24 --- valid_autoencoder_loss1:0.899, valid_autoencoder_loss2:0.92, valid_classifier_loss:0.596\n",
            "\n",
            "\n",
            "\n",
            "Epoch 25 --- loss:1.054, Epoch accuracy:81.50%, Validation loss:1.133, Validation accuracy:74.00%\n",
            "\n",
            "Epoch 25 --- epoch_autoencoder_loss1:0.887, epoch_autoencoder_loss2:0.92, epoch_classifier_loss:0.561\n",
            "\n",
            "Epoch 25 --- valid_autoencoder_loss1:0.899, valid_autoencoder_loss2:0.92, valid_classifier_loss:0.614\n",
            "\n",
            "\n",
            "\n",
            "Epoch 26 --- loss:1.036, Epoch accuracy:82.41%, Validation loss:1.046, Validation accuracy:79.69%\n",
            "\n",
            "Epoch 26 --- epoch_autoencoder_loss1:0.886, epoch_autoencoder_loss2:0.92, epoch_classifier_loss:0.533\n",
            "\n",
            "Epoch 26 --- valid_autoencoder_loss1:0.897, valid_autoencoder_loss2:0.92, valid_classifier_loss:0.473\n",
            "\n",
            "\n",
            "\n",
            "Epoch 27 --- loss:1.039, Epoch accuracy:82.33%, Validation loss:1.010, Validation accuracy:79.43%\n",
            "\n",
            "Epoch 27 --- epoch_autoencoder_loss1:0.885, epoch_autoencoder_loss2:0.91, epoch_classifier_loss:0.539\n",
            "\n",
            "Epoch 27 --- valid_autoencoder_loss1:0.896, valid_autoencoder_loss2:0.92, valid_classifier_loss:0.414\n",
            "\n",
            "\n",
            "\n",
            "Epoch 28 --- loss:1.027, Epoch accuracy:82.82%, Validation loss:0.971, Validation accuracy:83.82%\n",
            "\n",
            "Epoch 28 --- epoch_autoencoder_loss1:0.885, epoch_autoencoder_loss2:0.92, epoch_classifier_loss:0.519\n",
            "\n",
            "Epoch 28 --- valid_autoencoder_loss1:0.898, valid_autoencoder_loss2:0.92, valid_classifier_loss:0.349\n",
            "\n",
            "\n",
            "\n",
            "Epoch 29 --- loss:1.026, Epoch accuracy:82.21%, Validation loss:0.981, Validation accuracy:84.86%\n",
            "\n",
            "Epoch 29 --- epoch_autoencoder_loss1:0.884, epoch_autoencoder_loss2:0.91, epoch_classifier_loss:0.518\n",
            "\n",
            "Epoch 29 --- valid_autoencoder_loss1:0.897, valid_autoencoder_loss2:0.92, valid_classifier_loss:0.366\n",
            "\n",
            "\n",
            "\n",
            "Epoch 30 --- loss:1.007, Epoch accuracy:84.34%, Validation loss:1.019, Validation accuracy:81.50%\n",
            "\n",
            "Epoch 30 --- epoch_autoencoder_loss1:0.884, epoch_autoencoder_loss2:0.91, epoch_classifier_loss:0.489\n",
            "\n",
            "Epoch 30 --- valid_autoencoder_loss1:0.897, valid_autoencoder_loss2:0.92, valid_classifier_loss:0.429\n",
            "\n",
            "\n",
            "\n",
            "Epoch 31 --- loss:1.008, Epoch accuracy:84.28%, Validation loss:0.974, Validation accuracy:85.37%\n",
            "\n",
            "Epoch 31 --- epoch_autoencoder_loss1:0.883, epoch_autoencoder_loss2:0.91, epoch_classifier_loss:0.491\n",
            "\n",
            "Epoch 31 --- valid_autoencoder_loss1:0.896, valid_autoencoder_loss2:0.92, valid_classifier_loss:0.357\n",
            "\n",
            "\n",
            "\n",
            "Epoch 32 --- loss:0.992, Epoch accuracy:85.29%, Validation loss:0.960, Validation accuracy:86.15%\n",
            "\n",
            "Epoch 32 --- epoch_autoencoder_loss1:0.882, epoch_autoencoder_loss2:0.91, epoch_classifier_loss:0.465\n",
            "\n",
            "Epoch 32 --- valid_autoencoder_loss1:0.895, valid_autoencoder_loss2:0.91, valid_classifier_loss:0.336\n",
            "\n",
            "\n",
            "\n",
            "Epoch 33 --- loss:0.972, Epoch accuracy:86.09%, Validation loss:0.966, Validation accuracy:85.37%\n",
            "\n",
            "Epoch 33 --- epoch_autoencoder_loss1:0.883, epoch_autoencoder_loss2:0.91, epoch_classifier_loss:0.432\n",
            "\n",
            "Epoch 33 --- valid_autoencoder_loss1:0.895, valid_autoencoder_loss2:0.91, valid_classifier_loss:0.345\n",
            "\n",
            "\n",
            "\n",
            "Epoch 34 --- loss:0.972, Epoch accuracy:86.03%, Validation loss:0.952, Validation accuracy:85.11%\n",
            "\n",
            "Epoch 34 --- epoch_autoencoder_loss1:0.883, epoch_autoencoder_loss2:0.91, epoch_classifier_loss:0.432\n",
            "\n",
            "Epoch 34 --- valid_autoencoder_loss1:0.894, valid_autoencoder_loss2:0.91, valid_classifier_loss:0.325\n",
            "\n",
            "\n",
            "\n",
            "Epoch 35 --- loss:0.952, Epoch accuracy:87.41%, Validation loss:0.939, Validation accuracy:86.41%\n",
            "\n",
            "Epoch 35 --- epoch_autoencoder_loss1:0.882, epoch_autoencoder_loss2:0.91, epoch_classifier_loss:0.399\n",
            "\n",
            "Epoch 35 --- valid_autoencoder_loss1:0.894, valid_autoencoder_loss2:0.91, valid_classifier_loss:0.303\n",
            "\n",
            "\n",
            "\n",
            "Epoch 36 --- loss:0.953, Epoch accuracy:88.10%, Validation loss:0.928, Validation accuracy:85.89%\n",
            "\n",
            "Epoch 36 --- epoch_autoencoder_loss1:0.880, epoch_autoencoder_loss2:0.91, epoch_classifier_loss:0.404\n",
            "\n",
            "Epoch 36 --- valid_autoencoder_loss1:0.893, valid_autoencoder_loss2:0.91, valid_classifier_loss:0.286\n",
            "\n",
            "\n",
            "\n",
            "Epoch 37 --- loss:0.963, Epoch accuracy:86.41%, Validation loss:0.940, Validation accuracy:85.89%\n",
            "\n",
            "Epoch 37 --- epoch_autoencoder_loss1:0.881, epoch_autoencoder_loss2:0.91, epoch_classifier_loss:0.421\n",
            "\n",
            "Epoch 37 --- valid_autoencoder_loss1:0.892, valid_autoencoder_loss2:0.91, valid_classifier_loss:0.306\n",
            "\n",
            "\n",
            "\n",
            "Epoch 38 --- loss:0.940, Epoch accuracy:88.27%, Validation loss:0.917, Validation accuracy:85.11%\n",
            "\n",
            "Epoch 38 --- epoch_autoencoder_loss1:0.880, epoch_autoencoder_loss2:0.91, epoch_classifier_loss:0.383\n",
            "\n",
            "Epoch 38 --- valid_autoencoder_loss1:0.892, valid_autoencoder_loss2:0.91, valid_classifier_loss:0.270\n",
            "\n",
            "\n",
            "\n",
            "Epoch 39 --- loss:0.961, Epoch accuracy:87.41%, Validation loss:0.971, Validation accuracy:83.56%\n",
            "\n",
            "Epoch 39 --- epoch_autoencoder_loss1:0.879, epoch_autoencoder_loss2:0.91, epoch_classifier_loss:0.419\n",
            "\n",
            "Epoch 39 --- valid_autoencoder_loss1:0.892, valid_autoencoder_loss2:0.91, valid_classifier_loss:0.359\n",
            "\n",
            "\n",
            "\n",
            "Epoch 40 --- loss:0.932, Epoch accuracy:89.16%, Validation loss:0.937, Validation accuracy:87.18%\n",
            "\n",
            "Epoch 40 --- epoch_autoencoder_loss1:0.879, epoch_autoencoder_loss2:0.91, epoch_classifier_loss:0.370\n",
            "\n",
            "Epoch 40 --- valid_autoencoder_loss1:0.891, valid_autoencoder_loss2:0.91, valid_classifier_loss:0.304\n",
            "\n",
            "\n",
            "\n",
            "Epoch 41 --- loss:0.925, Epoch accuracy:88.27%, Validation loss:0.912, Validation accuracy:88.21%\n",
            "\n",
            "Epoch 41 --- epoch_autoencoder_loss1:0.878, epoch_autoencoder_loss2:0.91, epoch_classifier_loss:0.361\n",
            "\n",
            "Epoch 41 --- valid_autoencoder_loss1:0.890, valid_autoencoder_loss2:0.90, valid_classifier_loss:0.264\n",
            "\n",
            "\n",
            "\n",
            "Epoch 42 --- loss:0.918, Epoch accuracy:89.30%, Validation loss:0.922, Validation accuracy:87.44%\n",
            "\n",
            "Epoch 42 --- epoch_autoencoder_loss1:0.879, epoch_autoencoder_loss2:0.91, epoch_classifier_loss:0.348\n",
            "\n",
            "Epoch 42 --- valid_autoencoder_loss1:0.888, valid_autoencoder_loss2:0.90, valid_classifier_loss:0.283\n",
            "\n",
            "\n",
            "\n",
            "Epoch 43 --- loss:0.907, Epoch accuracy:90.51%, Validation loss:0.896, Validation accuracy:87.96%\n",
            "\n",
            "Epoch 43 --- epoch_autoencoder_loss1:0.878, epoch_autoencoder_loss2:0.91, epoch_classifier_loss:0.331\n",
            "\n",
            "Epoch 43 --- valid_autoencoder_loss1:0.889, valid_autoencoder_loss2:0.91, valid_classifier_loss:0.237\n",
            "\n",
            "\n",
            "\n",
            "Epoch 44 --- loss:0.898, Epoch accuracy:90.57%, Validation loss:0.886, Validation accuracy:89.51%\n",
            "\n",
            "Epoch 44 --- epoch_autoencoder_loss1:0.877, epoch_autoencoder_loss2:0.90, epoch_classifier_loss:0.317\n",
            "\n",
            "Epoch 44 --- valid_autoencoder_loss1:0.890, valid_autoencoder_loss2:0.91, valid_classifier_loss:0.221\n",
            "\n",
            "\n",
            "\n",
            "Epoch 45 --- loss:0.907, Epoch accuracy:89.97%, Validation loss:0.903, Validation accuracy:88.73%\n",
            "\n",
            "Epoch 45 --- epoch_autoencoder_loss1:0.876, epoch_autoencoder_loss2:0.90, epoch_classifier_loss:0.332\n",
            "\n",
            "Epoch 45 --- valid_autoencoder_loss1:0.888, valid_autoencoder_loss2:0.90, valid_classifier_loss:0.251\n",
            "\n",
            "\n",
            "\n",
            "Epoch 46 --- loss:0.893, Epoch accuracy:91.14%, Validation loss:0.881, Validation accuracy:90.54%\n",
            "\n",
            "Epoch 46 --- epoch_autoencoder_loss1:0.877, epoch_autoencoder_loss2:0.90, epoch_classifier_loss:0.308\n",
            "\n",
            "Epoch 46 --- valid_autoencoder_loss1:0.887, valid_autoencoder_loss2:0.90, valid_classifier_loss:0.213\n",
            "\n",
            "\n",
            "\n",
            "Epoch 47 --- loss:0.887, Epoch accuracy:91.20%, Validation loss:0.866, Validation accuracy:90.02%\n",
            "\n",
            "Epoch 47 --- epoch_autoencoder_loss1:0.876, epoch_autoencoder_loss2:0.90, epoch_classifier_loss:0.300\n",
            "\n",
            "Epoch 47 --- valid_autoencoder_loss1:0.886, valid_autoencoder_loss2:0.90, valid_classifier_loss:0.191\n",
            "\n",
            "\n",
            "\n",
            "Epoch 48 --- loss:0.888, Epoch accuracy:91.34%, Validation loss:0.879, Validation accuracy:89.51%\n",
            "\n",
            "Epoch 48 --- epoch_autoencoder_loss1:0.875, epoch_autoencoder_loss2:0.90, epoch_classifier_loss:0.304\n",
            "\n",
            "Epoch 48 --- valid_autoencoder_loss1:0.887, valid_autoencoder_loss2:0.90, valid_classifier_loss:0.212\n",
            "\n",
            "\n",
            "\n",
            "Epoch 49 --- loss:0.900, Epoch accuracy:90.05%, Validation loss:0.878, Validation accuracy:89.76%\n",
            "\n",
            "Epoch 49 --- epoch_autoencoder_loss1:0.874, epoch_autoencoder_loss2:0.90, epoch_classifier_loss:0.325\n",
            "\n",
            "Epoch 49 --- valid_autoencoder_loss1:0.886, valid_autoencoder_loss2:0.90, valid_classifier_loss:0.213\n",
            "\n",
            "\n",
            "\n",
            "Epoch 50 --- loss:0.882, Epoch accuracy:91.37%, Validation loss:0.864, Validation accuracy:91.32%\n",
            "\n",
            "Epoch 50 --- epoch_autoencoder_loss1:0.874, epoch_autoencoder_loss2:0.90, epoch_classifier_loss:0.294\n",
            "\n",
            "Epoch 50 --- valid_autoencoder_loss1:0.888, valid_autoencoder_loss2:0.90, valid_classifier_loss:0.188\n",
            "\n",
            "\n",
            "\n",
            "Epoch 51 --- loss:0.894, Epoch accuracy:90.31%, Validation loss:0.885, Validation accuracy:88.47%\n",
            "\n",
            "Epoch 51 --- epoch_autoencoder_loss1:0.875, epoch_autoencoder_loss2:0.90, epoch_classifier_loss:0.313\n",
            "\n",
            "Epoch 51 --- valid_autoencoder_loss1:0.884, valid_autoencoder_loss2:0.90, valid_classifier_loss:0.226\n",
            "\n",
            "\n",
            "\n",
            "Epoch 52 --- loss:0.877, Epoch accuracy:91.66%, Validation loss:0.864, Validation accuracy:91.83%\n",
            "\n",
            "Epoch 52 --- epoch_autoencoder_loss1:0.874, epoch_autoencoder_loss2:0.90, epoch_classifier_loss:0.286\n",
            "\n",
            "Epoch 52 --- valid_autoencoder_loss1:0.885, valid_autoencoder_loss2:0.90, valid_classifier_loss:0.189\n",
            "\n",
            "\n",
            "\n",
            "Epoch 53 --- loss:0.874, Epoch accuracy:91.92%, Validation loss:0.852, Validation accuracy:91.32%\n",
            "\n",
            "Epoch 53 --- epoch_autoencoder_loss1:0.874, epoch_autoencoder_loss2:0.90, epoch_classifier_loss:0.282\n",
            "\n",
            "Epoch 53 --- valid_autoencoder_loss1:0.885, valid_autoencoder_loss2:0.90, valid_classifier_loss:0.170\n",
            "\n",
            "\n",
            "\n",
            "Epoch 54 --- loss:0.865, Epoch accuracy:92.66%, Validation loss:0.880, Validation accuracy:90.28%\n",
            "\n",
            "Epoch 54 --- epoch_autoencoder_loss1:0.874, epoch_autoencoder_loss2:0.90, epoch_classifier_loss:0.267\n",
            "\n",
            "Epoch 54 --- valid_autoencoder_loss1:0.885, valid_autoencoder_loss2:0.90, valid_classifier_loss:0.215\n",
            "\n",
            "\n",
            "\n",
            "Epoch 55 --- loss:0.862, Epoch accuracy:92.03%, Validation loss:0.868, Validation accuracy:90.28%\n",
            "\n",
            "Epoch 55 --- epoch_autoencoder_loss1:0.873, epoch_autoencoder_loss2:0.90, epoch_classifier_loss:0.262\n",
            "\n",
            "Epoch 55 --- valid_autoencoder_loss1:0.884, valid_autoencoder_loss2:0.90, valid_classifier_loss:0.199\n",
            "\n",
            "\n",
            "\n",
            "Epoch 56 --- loss:0.855, Epoch accuracy:93.18%, Validation loss:0.851, Validation accuracy:90.28%\n",
            "\n",
            "Epoch 56 --- epoch_autoencoder_loss1:0.872, epoch_autoencoder_loss2:0.90, epoch_classifier_loss:0.252\n",
            "\n",
            "Epoch 56 --- valid_autoencoder_loss1:0.883, valid_autoencoder_loss2:0.90, valid_classifier_loss:0.171\n",
            "\n",
            "\n",
            "\n",
            "Epoch 57 --- loss:0.878, Epoch accuracy:91.92%, Validation loss:0.863, Validation accuracy:90.02%\n",
            "\n",
            "Epoch 57 --- epoch_autoencoder_loss1:0.873, epoch_autoencoder_loss2:0.90, epoch_classifier_loss:0.290\n",
            "\n",
            "Epoch 57 --- valid_autoencoder_loss1:0.885, valid_autoencoder_loss2:0.90, valid_classifier_loss:0.189\n",
            "\n",
            "\n",
            "\n",
            "Epoch 58 --- loss:0.863, Epoch accuracy:92.49%, Validation loss:0.852, Validation accuracy:90.80%\n",
            "\n",
            "Epoch 58 --- epoch_autoencoder_loss1:0.872, epoch_autoencoder_loss2:0.90, epoch_classifier_loss:0.266\n",
            "\n",
            "Epoch 58 --- valid_autoencoder_loss1:0.883, valid_autoencoder_loss2:0.90, valid_classifier_loss:0.172\n",
            "\n",
            "\n",
            "\n",
            "Epoch 59 --- loss:0.842, Epoch accuracy:93.84%, Validation loss:0.857, Validation accuracy:91.32%\n",
            "\n",
            "Epoch 59 --- epoch_autoencoder_loss1:0.871, epoch_autoencoder_loss2:0.90, epoch_classifier_loss:0.233\n",
            "\n",
            "Epoch 59 --- valid_autoencoder_loss1:0.883, valid_autoencoder_loss2:0.90, valid_classifier_loss:0.182\n",
            "\n",
            "\n"
          ]
        }
      ],
      "source": [
        "num_epochs = 60\n",
        "\n",
        "# train it!\n",
        "train(optimizer, model, num_epochs, Xtrain, FeaturesTrain, ytrain, Xvalid, FeaturesValid, yvalid, train_index, test_index)"
      ]
    },
    {
      "cell_type": "code",
      "execution_count": null,
      "metadata": {
        "colab": {
          "base_uri": "https://localhost:8080/",
          "height": 504
        },
        "id": "EqPuvmdpDCm7",
        "outputId": "b7e665ff-5f45-4fef-d65f-7bede34b915e"
      },
      "outputs": [
        {
          "output_type": "display_data",
          "data": {
            "text/plain": [
              "<Figure size 640x480 with 1 Axes>"
            ],
            "image/png": "[encoded data removed]"
          },
          "metadata": {}
        }
      ],
      "source": [
        "plt.title('Loss Curve for Parallel is All You Want Model')\n",
        "plt.ylabel('Loss', fontsize=16)\n",
        "plt.xlabel('Epoch', fontsize=16)\n",
        "plt.plot(train_losses[:],'b')\n",
        "plt.plot(valid_losses[:],'r')\n",
        "plt.legend(['Training loss','Validation loss'])\n",
        "plt.show()"
      ]
    },
    {
      "cell_type": "code",
      "execution_count": null,
      "metadata": {
        "id": "BzTsga6iFPMz"
      },
      "outputs": [],
      "source": [
        "        # open file in write mode and write data\n",
        "filename = '/content/gdrive/MyDrive/att_w2v_kfold/k6/losses.npy'\n",
        "\n",
        "with open(filename, 'rb') as f:\n",
        "    train_losses = np.load(f)\n",
        "    train_autoencoder_losses1 =  np.load(f)\n",
        "    train_autoencoder_losses2 = np.load(f)\n",
        "    train_classifier_losses = np.load(f)\n",
        "    valid_losses = np.load(f)\n",
        "    valid_autoencoder_losses1 = np.load(f)\n",
        "    valid_autoencoder_losses2 = np.load(f)\n",
        "    valid_classifier_losses = np.load(f)"
      ]
    },
    {
      "cell_type": "code",
      "execution_count": null,
      "metadata": {
        "colab": {
          "base_uri": "https://localhost:8080/",
          "height": 504
        },
        "id": "K3riEVzDRToM",
        "outputId": "9a813921-bd73-4bda-cbb0-c5c9c447916c"
      },
      "outputs": [
        {
          "output_type": "display_data",
          "data": {
            "text/plain": [
              "<Figure size 640x480 with 1 Axes>"
            ],
            "image/png": "[encoded data removed]"
          },
          "metadata": {}
        }
      ],
      "source": [
        "plt.title('Loss Curve for Parallel is All You Want Model')\n",
        "plt.ylabel('Loss', fontsize=16)\n",
        "plt.xlabel('Epoch', fontsize=16)\n",
        "plt.plot(train_losses[:],'b')\n",
        "plt.plot(valid_losses[:],'r')\n",
        "plt.legend(['Training loss','Validation loss'])\n",
        "plt.show()"
      ]
    },
    {
      "cell_type": "code",
      "execution_count": null,
      "metadata": {
        "id": "WSZ26FjXih7u"
      },
      "outputs": [],
      "source": [
        "        # # create tensors from validation set\n",
        "        # valid_audio_input = processor(Xvalid,\n",
        "        #                               sampling_rate=16000,\n",
        "        #                               return_tensors=\"pt\")\n",
        "        # with torch.no_grad():\n",
        "        #   valid_audio_input_feature = w2v(**valid_audio_input).last_hidden_state\n",
        "        # X_valid_tensor = torch.tensor(valid_audio_input_feature,device=device).float()\n",
        "        # features_valid = torch.tensor(features_valid,device=device).float()\n",
        "        # Y_valid_tensor = torch.tensor(Yvalid,dtype=torch.long,device=device)\n",
        "\n",
        "        # # calculate validation metrics to keep track of progress; don't need predictions now\n",
        "        # valid_loss, valid_acc, valid_autoencoder_loss1, valid_autoencoder_loss2, valid_classifier_loss, _ = validate(features_valid,\n",
        "        #                                                                                                             X_valid_tensor,\n",
        "        #                                                                                                              Y_valid_tensor)"
      ]
    },
    {
      "cell_type": "code",
      "execution_count": null,
      "metadata": {
        "colab": {
          "base_uri": "https://localhost:8080/"
        },
        "id": "cIRDgtp5Rui4",
        "outputId": "9d1e71c7-abc1-44a5-e0b4-6bec52d425de"
      },
      "outputs": [
        {
          "output_type": "stream",
          "name": "stdout",
          "text": [
            "Loaded model from /content/gdrive/MyDrive/att_w2v_kfold/k6/k_6_kfold-att_w2v_SpatialAttention_and_channel_attention_dropout.pkl\n"
          ]
        }
      ],
      "source": [
        "# pick load folder\n",
        "load_folder = '/content/gdrive/MyDrive/att_w2v_kfold/k6'\n",
        "\n",
        "# pick the epoch to load\n",
        "epoch = '60'\n",
        "model_name = f'k_6_kfold-att_w2v_SpatialAttention_and_channel_attention_dropout.pkl'\n",
        "\n",
        "# make full load path\n",
        "load_path = os.path.join(load_folder, model_name)\n",
        "\n",
        "## instantiate empty model and populate with params from binary\n",
        "device = 'cuda' if  torch.cuda.is_available() else 'cpu'\n",
        "model = MultiTaskModel(len(emotions_dict)).to(device)\n",
        "load_checkpoint(optimizer, model, load_path)\n",
        "\n",
        "print(f'Loaded model from {load_path}')"
      ]
    },
    {
      "cell_type": "code",
      "execution_count": null,
      "metadata": {
        "id": "Dv-FD2kPiQeb",
        "colab": {
          "base_uri": "https://localhost:8080/"
        },
        "outputId": "fabb7f76-1a87-4ca1-909a-21943c81cfae"
      },
      "outputs": [
        {
          "output_type": "stream",
          "name": "stdout",
          "text": [
            "Test accuracy is 81.12%\n"
          ]
        }
      ],
      "source": [
        "# reinitialize validation function with model from chosen checkpoint\n",
        "\n",
        "\n",
        "validate = make_validate_fnc(model,autoencoder_criterion, classifier_criterion)\n",
        "\n",
        "test_audio_input = processor(X_test,\n",
        "                              sampling_rate=16000,\n",
        "                              return_tensors=\"pt\")\n",
        "with torch.no_grad():\n",
        "  test_audio_input_feature = w2v(**test_audio_input).last_hidden_state\n",
        "\n",
        "# Convert 4D test feature set array to tensor and move to GPU\n",
        "X_test_tensor = torch.tensor(test_audio_input_feature,device=device).float()\n",
        "features_test = torch.tensor(features_test,device=device).float()\n",
        "\n",
        "# Convert 4D test label set array to tensor and move to GPU\n",
        "y_test_tensor = torch.tensor(y_test,dtype=torch.long,device=device)\n",
        "\n",
        "# Get the model's performance metrics using the validation function we defined\n",
        "test_loss, test_acc, test_autoencoder_loss1, test_autoencoder_loss2, test_classifier_loss, predicted_emotions = validate(features_test,\n",
        "                                                                                                                         X_test_tensor,\n",
        "                                                                                                                         y_test_tensor)\n",
        "print(f'Test accuracy is {test_acc:.2f}%')"
      ]
    },
    {
      "cell_type": "code",
      "execution_count": null,
      "metadata": {
        "id": "8w_t9wAwaYjF",
        "colab": {
          "base_uri": "https://localhost:8080/",
          "height": 551
        },
        "outputId": "117385e2-4118-49de-fd0e-38bbfe2b6cb3"
      },
      "outputs": [
        {
          "output_type": "display_data",
          "data": {
            "text/plain": [
              "<Figure size 1600x600 with 4 Axes>"
            ],
            "image/png": "[encoded data removed]"
          },
          "metadata": {}
        }
      ],
      "source": [
        "from sklearn.metrics import confusion_matrix\n",
        "import seaborn as sn\n",
        "\n",
        "# because model tested on GPU, move prediction tensor to CPU then convert to array\n",
        "predicted_emotions = predicted_emotions.cpu().numpy()\n",
        "# use labels from test set\n",
        "emotions_groundtruth = y_test\n",
        "\n",
        "# build confusion matrix and normalized confusion matrix\n",
        "conf_matrix = confusion_matrix(emotions_groundtruth, predicted_emotions)\n",
        "conf_matrix_norm = confusion_matrix(emotions_groundtruth, predicted_emotions,normalize='true')\n",
        "\n",
        "# set labels for matrix axes from emotions\n",
        "emotion_names = [emotion for emotion in emotions_dict.values()]\n",
        "\n",
        "# make a confusion matrix with labels using a DataFrame\n",
        "confmatrix_df = pd.DataFrame(conf_matrix, index=emotion_names, columns=emotion_names)\n",
        "confmatrix_df_norm = pd.DataFrame(conf_matrix_norm, index=emotion_names, columns=emotion_names)\n",
        "\n",
        "# plot confusion matrices\n",
        "plt.figure(figsize=(16,6))\n",
        "sn.set(font_scale=1.8) # emotion label and title size\n",
        "plt.subplot(1,2,1)\n",
        "plt.title('Confusion Matrix')\n",
        "sn.heatmap(confmatrix_df, annot=True, annot_kws={\"size\": 18}) #annot_kws is value font\n",
        "plt.subplot(1,2,2)\n",
        "plt.title('Normalized Confusion Matrix')\n",
        "sn.heatmap(confmatrix_df_norm, annot=True, annot_kws={\"size\": 13}) #annot_kws is value font\n",
        "\n",
        "plt.show()"
      ]
    },
    {
      "cell_type": "code",
      "source": [],
      "metadata": {
        "id": "sheDf3N1ZZf_"
      },
      "execution_count": null,
      "outputs": []
    }
  ],
  "metadata": {
    "colab": {
      "machine_shape": "hm",
      "provenance": [],
      "include_colab_link": true
    },
    "kernelspec": {
      "display_name": "KERNEL",
      "language": "python",
      "name": "kernel"
    },
    "language_info": {
      "codemirror_mode": {
        "name": "ipython",
        "version": 3
      },
      "file_extension": ".py",
      "mimetype": "text/x-python",
      "name": "python",
      "nbconvert_exporter": "python",
      "pygments_lexer": "ipython3",
      "version": "3.8.3"
    }
  },
  "nbformat": 4,
  "nbformat_minor": 0
}